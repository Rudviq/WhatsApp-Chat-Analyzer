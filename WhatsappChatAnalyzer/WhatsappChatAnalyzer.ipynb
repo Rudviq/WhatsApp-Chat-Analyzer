{
 "cells": [
  {
   "cell_type": "markdown",
   "id": "14e27f25",
   "metadata": {},
   "source": [
    "<!DOCTYPE html>\n",
    "<html>\n",
    "<body >\n",
    "<div style=\"background-color:powderblue;\">\n",
    "<h1 style =\"color:#00008b\">Whatsapp Chat Analyzer</h1>\n",
    "</div>\n",
    "</body>\n",
    "</html>"
   ]
  },
  {
   "cell_type": "raw",
   "id": "a2e64325",
   "metadata": {},
   "source": [
    "Created by: Rudviq Bhavsar\n",
    "Date: 21th June 2021"
   ]
  },
  {
   "cell_type": "markdown",
   "id": "3bc7657e",
   "metadata": {},
   "source": [
    "# Things to be analyzed"
   ]
  },
  {
   "cell_type": "markdown",
   "id": "9eb8cc0c",
   "metadata": {},
   "source": [
    "<!DOCTYPE html>\n",
    "<html>\n",
    "<body>\n",
    "\n",
    "<h2 style =\"color:blue\">Contact-wise statistics:</h2>\n",
    "\n",
    "<ul>\n",
    "  <li>Number of messages per contact</li>\n",
    "  <li>Number of words per contact </li>\n",
    "  <li>Number of average words per message per contact</li>\n",
    "  <li>Number of emojis per contact</li>\n",
    "  <li>Number of emojis per contact</li>\n",
    "  <li>NUmber of media per contact</li>\n",
    "  <li>NUmber of keywords per contact</li>\n",
    "</ul>  \n",
    "\n",
    "</body>\n",
    "</html>\n"
   ]
  },
  {
   "cell_type": "markdown",
   "id": "6bc23f37",
   "metadata": {},
   "source": [
    "<!DOCTYPE html>\n",
    "<html>\n",
    "<body>\n",
    "\n",
    "<h2 style =\"color:blue\">TIme-wise statistics:</h2>\n",
    "\n",
    "<ul>\n",
    "  <li>Number of messages per hour</li>\n",
    "  <li>Number of messages per weekday</li>\n",
    "  <li>Number of messages per month</li>\n",
    "  <li>Number of messages per year</li>\n",
    "</ul>  \n",
    "\n",
    "</body>\n",
    "</html>"
   ]
  },
  {
   "cell_type": "markdown",
   "id": "565695a1",
   "metadata": {},
   "source": [
    "<!DOCTYPE html>\n",
    "<html>\n",
    "    <body>\n",
    "        <hr size=\"30\" noshade>\n",
    "    </body>\n",
    "</html>"
   ]
  },
  {
   "cell_type": "code",
   "execution_count": 134,
   "id": "103cefa9",
   "metadata": {},
   "outputs": [],
   "source": [
    "#Importing Libraries\n",
    "\n",
    "import numpy as np\n",
    "import pandas as pd\n",
    "import matplotlib.pyplot as plt\n",
    "\n",
    "\n",
    "%config IPCompleter.use_jedi = False\n"
   ]
  },
  {
   "cell_type": "code",
   "execution_count": 135,
   "id": "4305f9ee",
   "metadata": {},
   "outputs": [],
   "source": [
    "#Getting the dataset for processing it\n",
    "\n",
    "df=pd.read_csv('Dataset/WhatsApp-Chat-with-परम्परा-प्रतिष्ठा-अनुशासन.csv')\n",
    "df.columns = [\"Column\"]\n",
    "# df\n"
   ]
  },
  {
   "cell_type": "markdown",
   "id": "a148c492",
   "metadata": {},
   "source": [
    "## Spliting the text in the csv file into  different columns"
   ]
  },
  {
   "cell_type": "code",
   "execution_count": 136,
   "id": "9b408ae0",
   "metadata": {
    "scrolled": true
   },
   "outputs": [],
   "source": [
    "\n",
    "#1 Splitting Date and rest of the columns\n",
    "\n",
    "split_col=df.iloc[:,0].str.split(', ',expand=True)\n",
    "df[\"Date\"]=split_col[0]\n",
    "df[\"Temp_col\"]= split_col[1]\n",
    "\n",
    "#OR\n",
    "#df.columns = ['Date','Temp_col']\n",
    "\n",
    "df.drop(columns=['Column'],inplace = True)\n",
    "\n",
    "\n",
    "#2 Splitting Time and the other column\n",
    "\n",
    "split_col =df[\"Temp_col\"].str.split(' - ',expand=True)\n",
    "df[\"Time\"]= split_col[0]\n",
    "df[\"Temp_col\"]=split_col[1]\n",
    "\n",
    "#3 Splitting user and chats columns\n",
    "split_col = df[\"Temp_col\"].str.split(': ',expand =True)\n",
    "df[\"Users\"]= split_col[0]\n",
    "df[\"Whatsapp Chats\"]=split_col[1]\n",
    "\n",
    "\n",
    "df.drop(columns=[\"Temp_col\"],inplace=True)\n"
   ]
  },
  {
   "cell_type": "markdown",
   "id": "0dcec3b5",
   "metadata": {},
   "source": [
    "## Creating two DataFrames - with media and without media"
   ]
  },
  {
   "cell_type": "code",
   "execution_count": 137,
   "id": "6053e45e",
   "metadata": {},
   "outputs": [],
   "source": [
    "df_wo_media = df[df[\"Whatsapp Chats\"].str.contains(r'Image omitted')==False]\n",
    "df_wo_media = df[df[\"Whatsapp Chats\"].str.contains(r'video omitted')==False]\n",
    "df_wo_media = df[df[\"Whatsapp Chats\"].str.contains(r'GIF omitted')==False]\n",
    "df_wo_media = df[df[\"Whatsapp Chats\"].str.contains(r'<Media omitted>')==False]\n",
    "\n",
    "# df_wo_media.reset_index(drop=True)"
   ]
  },
  {
   "cell_type": "markdown",
   "id": "fceb368a",
   "metadata": {},
   "source": [
    "## Dropping Nan values from the dataframes"
   ]
  },
  {
   "cell_type": "code",
   "execution_count": 138,
   "id": "77d0a275",
   "metadata": {},
   "outputs": [],
   "source": [
    "df=df.dropna()\n",
    "df_wo_media=df_wo_media.dropna()\n",
    "\n",
    "df = df.reset_index(drop=True)\n",
    "df_wo_media=df_wo_media.reset_index(drop=True)"
   ]
  },
  {
   "cell_type": "code",
   "execution_count": null,
   "id": "7d24dcca",
   "metadata": {},
   "outputs": [],
   "source": []
  },
  {
   "cell_type": "markdown",
   "id": "2185a04c",
   "metadata": {},
   "source": [
    "## Creating an User array"
   ]
  },
  {
   "cell_type": "code",
   "execution_count": 139,
   "id": "3275efb6",
   "metadata": {},
   "outputs": [],
   "source": [
    "user_list = df[\"Users\"].unique()\n"
   ]
  },
  {
   "cell_type": "code",
   "execution_count": 140,
   "id": "0d008f5c",
   "metadata": {},
   "outputs": [],
   "source": [
    "\n",
    "#Messages per user (including media)\n",
    "\n",
    "chats_per_person=[]\n",
    "most_msg_by_user = []\n",
    "for i in range(len(user_list)):\n",
    "    temp = df[\"Whatsapp Chats\"][df[\"Users\"]==user_list[i]]\n",
    "    temp = temp.reset_index(drop =True)\n",
    "    most_msg_by_user.append(temp.shape[0])\n",
    "    for j in range(1,len(temp)):\n",
    "        temp[0] += ' ' + temp[j]\n",
    "    chats_per_person.append(temp[0])\n",
    "    del temp\n",
    "        \n",
    "#Messages per user (excluding media)\n",
    "chats_per_person_wo=[]\n",
    "most_msg_by_user_wo = []\n",
    "for i in range(len(user_list)):\n",
    "    temp = df_wo_media[\"Whatsapp Chats\"][df_wo_media[\"Users\"]==user_list[i]]\n",
    "    temp = temp.reset_index(drop =True)\n",
    "    most_msg_by_user_wo.append(temp.shape[0])\n",
    "    for j in range(1,len(temp)):\n",
    "        temp[0] += ' ' + temp[j]\n",
    "    chats_per_person_wo.append(temp[0])\n",
    "    del temp"
   ]
  },
  {
   "cell_type": "markdown",
   "id": "54a28dba",
   "metadata": {},
   "source": [
    "## Bar graph  to represent most messages per user"
   ]
  },
  {
   "cell_type": "code",
   "execution_count": 141,
   "id": "b276bf1b",
   "metadata": {},
   "outputs": [
    {
     "data": {
      "image/png": "[encoded data removed]",
      "text/plain": [
       "<Figure size 432x288 with 1 Axes>"
      ]
     },
     "metadata": {
      "needs_background": "light"
     },
     "output_type": "display_data"
    }
   ],
   "source": [
    "fig,ax = plt.subplots()\n",
    "\n",
    "\n",
    "y_pos = np.arange(len(user_list))\n",
    "\n",
    "ax.barh(y_pos,most_msg_by_user,align = 'center')\n",
    "ax.set_yticks(y_pos)\n",
    "ax.set_yticklabels(user_list)\n",
    "# ax.set_xticks(y)\n",
    "ax.set_title(\"Number of messages per person\")\n",
    "ax.invert_yaxis()\n"
   ]
  },
  {
   "cell_type": "code",
   "execution_count": 142,
   "id": "60c38827",
   "metadata": {},
   "outputs": [],
   "source": [
    "# most_msg_by_user\n",
    "# chats_per_person"
   ]
  },
  {
   "cell_type": "markdown",
   "id": "8e73bc0f",
   "metadata": {},
   "source": [
    "##  Mostly used words by each user"
   ]
  },
  {
   "cell_type": "code",
   "execution_count": 143,
   "id": "feb2a28d",
   "metadata": {},
   "outputs": [],
   "source": [
    "from scipy.stats import itemfreq"
   ]
  },
  {
   "cell_type": "code",
   "execution_count": 144,
   "id": "df0ba9c8",
   "metadata": {},
   "outputs": [
    {
     "name": "stderr",
     "output_type": "stream",
     "text": [
      "/home/rudviq/.local/lib/python3.6/site-packages/ipykernel_launcher.py:4: DeprecationWarning: `itemfreq` is deprecated!\n",
      "`itemfreq` is deprecated and will be removed in a future version. Use instead `np.unique(..., return_counts=True)`\n",
      "  after removing the cwd from sys.path.\n"
     ]
    },
    {
     "name": "stdout",
     "output_type": "stream",
     "text": [
      "Vamshikiran [['I' '184']\n",
      " ['nhi' '176']\n",
      " ['toh' '175']]\n",
      "Rushikesh N [['to' '344']\n",
      " ['😂😂' '289']\n",
      " ['me' '249']]\n",
      "Ritesh [['to' '754']\n",
      " ['me' '465']\n",
      " ['I' '407']]\n",
      "Rudviq [['nhi' '569']\n",
      " ['me' '565']\n",
      " ['toh' '477']]\n",
      "Shrikant Karhale [['nh' '411']\n",
      " ['bhi' '371']\n",
      " ['ke' '345']]\n",
      "Atharva Puranik [['😂😂' '135']\n",
      " ['h' '123']\n",
      " ['nhi' '122']]\n",
      "Suraj Rao [['😂😂😂😂' '133']\n",
      " ['nahi' '119']\n",
      " ['me' '118']]\n",
      "Gaurav Warad [['😂' '125']\n",
      " ['😂😂' '101']\n",
      " ['the' '70']]\n"
     ]
    }
   ],
   "source": [
    "#Message frequency without media files\n",
    "\n",
    "for i in range(len(user_list)):\n",
    "    fg = itemfreq(list(chats_per_person_wo)[i].split(' '))\n",
    "    fg = fg[fg[:,1].astype(float).argsort()][::-1]\n",
    "    print(user_list[i],fg[1:4])"
   ]
  },
  {
   "cell_type": "code",
   "execution_count": null,
   "id": "bf7e5a5e",
   "metadata": {},
   "outputs": [],
   "source": []
  },
  {
   "cell_type": "markdown",
   "id": "6bdb57db",
   "metadata": {},
   "source": [
    "## Number of letters per user"
   ]
  },
  {
   "cell_type": "code",
   "execution_count": 145,
   "id": "bba6ab8f",
   "metadata": {},
   "outputs": [],
   "source": [
    "import regex as re"
   ]
  },
  {
   "cell_type": "code",
   "execution_count": 146,
   "id": "4526e1df",
   "metadata": {},
   "outputs": [
    {
     "data": {
      "text/plain": [
       "'Athrya ko bhaga diya tum logon ne      Coronavirus death toll  2     Sarang  Lon   kon Guys    Contagion Yeh movie dekho Feels so real   Spread of a virus Online lecture karna hai kya  Aaj ka din karenge  Same    Kuch nahi Corona chal raha hai 0 Score kay ahe             Chalo kuch karte hai   Nahi re khana kha raha tha    1 lakh Mi nahi kela re  What swades  Movie  Wow Ritya ke pass backup hai Mazyakade plot ahe Ani business takel Kyu dara raha hai  Ha    Delhi bhi lockdown pe hai Kheti hai lekin paani nahi hai Karnataka Hai re Ek do din mein pata chalega Sabka Testing chalu kiya hai na abhi  Exactly    Question mark idhar hai Sanchar bandi mhanje kay  Mai abhi groceries lene gaya tha    Sab jagah police   Muze bhi roka He s weird   Ha Actually uske ghar ke bahar ka hi photo tha woh Mi pn tikdech rahto so mla mahitiye Yes   he should be at home    My cousin in US went for a long walk today Government cancelled all interstate travel in delhi So many UPians were stuck in Delhi  Yeh maine ndtv pe Dekha Yeh ndtv pe Nidhi Razdan kab aati hai  Waiting for her Heard somewhere that Beed city had 26k punekars and mumbaikars coming in in last couple of days Hao na https   www washingtonpost com health 2020 03 23 coronavirus isnt alive thats why its so hard kill  Maharashtra chi century zali   India 506   Athrya having a meltdown All is well Olympics postponed by an year      They re not beating up anyone Good to know     I ve read somewhere on twitter that only 6  of total cases are in countries where average temperature is greater than 18 C  Ho sakta hai Yeh Modi saala kitna slowly bolta hai     Kab se baat kar raha hai ye             Woh kagaj hath mein rakh    Police dikha ki kahaj dikhadena Nahitr he hoil     Jau nako mg tu   Happy Gudi Padwa        Tu baghitlis ka    Tr baghun review sang   mh baghto mi Congrats athrya    Dekha maine bhi Kya hai nahi samjha https   www theguardian com world 2020 mar 25 bolsonaro brazil wouldnt feel anything covid 19 attack state lockdowns Brazilian president says he want to reopen schools because only elderly are affected     Ikde ala hota kal thoda paus   Tu gharich raha Societies lock kelet punyat asa aikla mi      Ha Chalo re Skype call karte hai    So laptop varun Maza pn fog ahe Facetime      Skype na final  Download kar raha hu main    Tu laptop pe kar    Fog ayega Nahi toh Kunachya tari phone ghe na mg    Aai papa etc Tula phone bhetla  Food morning sir Aiklay    Bhari    Joker was way ahead of his time   What s it about  Uh huh 700 cross            Sham ko 4 5 baje you want a big house    Mi good wife choose kela hota  Varies from person to person Boris Johnson has covid19    The the PM of UK  Old people are called boomers   Slang term Ha kon ahet te   Ha Mi dupari pathavla hota hech          Dyanda   Aa dyanda la kahi nahi mhanaycha Tech te Downloading 22 Iron Man  I m signing up now I m gauravwarad Ye kiski bate chal rahi hai  Doland who  Ye house party pe Kuch hai Tu download kela Ka  Good night then Yup Guys special ops mein kuch adult scene ya gaaliya hai kya  Papa baithe hai sath mein Toh akele mein dekhu na    Ha   last week cha ahe Abhi US ko dekho 1lakh Ajun pn complete lockdown nahiye tikde      Kal xi la call kelyanantar Coronavirus bolala Xi jimping Chinese pm Kahi pn Ka  20 trillion dollars chi economy tr ahe Ka tyanchi  Saale ko batman banana tha Muze laga barish chalu hai Me too I m watching with younger sister Woh Ganga ke bete Ka naam kya hai          Baher nako jau atta Maharashtra 186 Saam tv Ritya we ll miss you      Chup ho jao aur TV pe ramayan dekho TV pe Dekh sabke sath   bachpan wali feeling aati hai Are peak in China aake gaya Baki sab countries mein abhi peak pe hai Sita is about to see Ram for the first time      Pura lockdown kiya tha Then go to China Ye kaunse news padta hai re tu   Guys shaktiman   10 pm Dd national Aaj se chalu hone wala hai And 1pm noon Ramayan bhi Want Ben 10 Chahiye muze Shut up and watch ramayan      Ramayan Dekho re Ram sita ki shadi chalu hai Kitne mare  Kal 20 hote na        Jalgaon che kiti   Ha Kal pahli bar mile aur aaj shadi       Special ops ki ending nahi samjha mai   Unke paas bomb kyun nahi the  Oh bhai    Toh count bol de    MH govt announced salary cuts for all government employees    Teri shadi ke liye ladki Delhi thi Khatam hogaya ab Maharashtra 300 Mumbai mein 59 badhe Ritya jalgaon wala mela Mumbai 156          Latur mein nahi hai ab tak Ha Ritya baher ahe bahutek    Lelo Ha  legendary Hindi movies   Agar marne wala hoga toh bike muze dede yaar Chalega Usme 56 Mumbai   Sir toh event 8 march la hota Before lockdown and all https   www ndtv com india news coronavirus india delhi markaz nizamuddin mosque sealed after 7 covid 19 deaths 850 moved out for qu 2203336 https   www ndtv com india news coronavirus india delhi markaz nizamuddin mosque sealed after 7 covid 19 deaths 850 moved out for qu 2203336 Wapis tabhi aa gaye the    Wapis aa gaye     Ritya jaldi type kar Yeh toh sabko pata hai Nahi pata Nahi       Sampla Abhi ramayan shuru hua hai Laxman ne usko unke mummy ki dekhbhal karne ko bola Urmila ki jai   Aadat nahi hai use Raja ki beti hai na   Yeh sab log bhojpuri bol rahe hai     918668611629 Ashu ko dikha inspiration milega Ho na    Sabka kitna ladla hai        Kaun tha woh bacchha       Spoilers   I know the story too    Ad ko bhi abhi ana tha   Mere pass time dikhane wali ghadi hai Isko kaise pata chala Ramayan Mahabharat Shravan ki maaa      Abe woh mar gayi abhi     Shrap mil gaya Dashrath marega abhi      I can t watch it       Me too        Kal subah ke episode mein dikhega ab I m about to cry It s too emotional Feeling bad for bharat Mereko nahi pata What      Gambhir getting jealous 10 saal bad bhi woh naraj hai   Kon Kya Bichare doctors test karne ke liye Gaye the Krishna abhi paida hua Yeh Krishna Ka baap use leke kaha jaa raha hai  Ispe Kuch reactions  Doctors on strike is the last thing we need rn Yeh saanp kaha se aa gaya Oh Now the media will do their thing and fuel Hindu Muslim hate   Yeh vasudev bacche ko exchange kar raha hai      Ha karo Agar sirf Muslims pe action liya toh Hindu Muslim tension badhega  Ho sakta hai MP CM is openly threatening Yeh kya chalu hai I used to think iPhone ka camera acchha hota hai Tereko itne msgs aate hai       I get it No Shaktiman dekh Kay zala Shaktiman baghtoy Ka Tu pn  9 baje       918668611629 ramayan madhe kay chaluye  Idhar ki light gayi hai Air barish chalu hai https   www bbc com news world us canada 52137160     Light gayi hai Barish chalu hai Andhera hi andhera hai Woh barish mein jati hai kabhi kabhi Guys   Modi  le bhakts    Ha Ho na Ravan wasn t that scary or bad in real   people worship him   There are a few books narrating ramayan from ravan s perspective   Congrats    918600621866      Question bhi puchta hai Ha ha thike thike Ha Kal first dekha clg  exam form chi website kay hoti    What  Marla  Baher neun sodla nahi  Latur Yes Ispe comments dekh Everyone wants to know about his girlfriend      Hmm Anyone here turning off their lights    9 The group is dead    Same here Diwali My pappa scolded me Because I wasn t turning off lights Modi ne pagal kiya sabko I m hearing sounds of firecrackers   Rushi jinda hai   People in my colony are doing the go corona corona go thing   PEOPLE ARE STUPID   yeh bhi jinda hai Barish shuru ho gayi ab    Phatake wale bhag gaye   waiting for next task from the big boss   That s funny and scary   Really satisfied by Uddhav s leadership   I was shivsena s biggest hater Politics nahire 3 baki hai Pratishta Parampara Anu Hope people weren t dancing in front of that       Hanuman ki entry Jald hi hogi Weekend hai Mala pn vatla toh ritesh ahe Shrutika Senior ahe apli I think Ritya ke piche athrya bhi hai thik se dekho Ha chal raha hai 2 months           Mila kya fir  Guys ludo khelte hai       Mai bhi Vamshi aa gaya Aur koi    6   Not sure Trump will get second term It s Trump vs Joe Biden   Yes   Bernie Sanders would ve been a good competitor tho But he dropped out Ho Joe Biden is chotta Trump   Dono same hai    MAGA Some policies are different   And   Do they have the Kung flu  Oh Okay Idhar badal hai   Ohh Moon dekho Bohot mast dikh raha hai     Yupp Nahi be      Guys    Zoom call karte hai Nairobi is love  Police just beat up a guy in my colony      I was enjoying the view from my gallery     Yeh mera status tha    Ha As expected     Ha                     Guus Guys Guys  Minutes of meeting  A friend sent me this Haha Sab orange wale hai idhar Except athrya Yeh Vamshi ka kaunsa colour hai  Understandable   population density bohot hai     gramin  Tyala kahi nahi honar Only cities will be affected Shetat jaun Bagh      Athrya he kay ahe   List of Tata products  Video call   Nko I m busy rn   Guus Guys Guys Online medicines ki delivery chalu hai kya  Guys I feel bad for Ravan Wah Paneer or batata  A little misguided Kumbhkaran His sons Thinking of his wife   Or a girl who already is in a relationship    919175087161 Except that your fighting is not that cute  Itne saare deleted msgs     919922671311   Shrikant ne deleted msgs wala app install kiya kya  Use pata hoga    Guys we should do conference call atleast once a week           Call pe kata hoga Maaf kar dijiye Ha then vamshi had a breakdown here    Now let s check with the phone company ki vamshi ko 5 30 ko kiska call aaya tha Toh tu bol vamshi ko kya hua   If no one gives me answer I come up with one Nandu jaldi bana meme Ye muze bhi laga Nandu jaldi Go make your parents proud Woh mera bachpan se Sapna tha detective banane ka Status dalna kya badi baat hai  Mere dadaji bhi bhagwan Ka photo dalte hai status pe       Kata lekin vamshi is denying it Topic pe wapas aao Vamshi bol na kya hua Kata kya  Tune kata kya  Vamshi can t control his emotions Vamshi suspense bohot bana raha hai tu Jaldi bol We want details   Me too She lost everything Laxman cheated 3 actually On first day On second indrajeet almost killed laxman Indrajeet won my heart Shut up Ravan made a mistake A truce So we can talk about ramayan Indrajeet died bro     Tbh I don t even know what the discussion is going on about   I don t want to be a part of this childish fight                                Vamshi did it again    Vamshi stop deleting msgs   Guys Guys Ram Vs ravan chalu hai The final fight Dd national Aaj raat ke episode mein marega lagta hai ravan I still think this is not the real number    China is still lying    Mandu bichari  overconfident Oh no Aarti Bad luck He s scolding Mahadev      Dramatic exit Yeh bhagwan log upar se mast match dek rahe hai Popcorn ki kami hai sirf I want a rath too Hey bramha give me one     I still want it It s ravan Vs everyone else Raat mein dekhenge koi baat nahi Uska kata hai Inspired from najar hati durghatna ghati     Who s that  Anyone from Congress        Screenshot  Screenshot Ravan died sir     Vibhishan ko Dekh    Kitna ro raha hai That s not how he dies in real tho    He apologizes to vibhishan and ram And recognises Hanuman as avatar of shiva Was waiting for that Mandu is here now Kuch ajib bola Woh   Nadi pe ban something Vibhishan the snake Gaddar Yeh chata leke kaun aya hai  Ram is getting Lanka      She just lost her husband Vibhishan did it for the kingdom Nana is crying too                     Ravan ko bech diya Like kumbhkaran Or sanyas le leta  Yeh toh opposition party mein chala gaya  enemy party Sita kidhar hai    War ho gaya na Yeh uttar ramayan kya hao  hai Vibhishan single tha kya   Congratulations bol raha hai   Log kaise line se khade hai     Sita isn t happy   She s crying again    Agnipariksha  Me too   Kar kar What was that for btw  Clean  Oh   you mean check if she and ravan Ha Agni There he goes Agnipariksha  Atyachar Laxman knows it Laxman makes sense It s ram Vs laxman Ram is just sugarcoating it It s atyachar What      Sita original Nahi thi      Yeh kya chalu hai     So why fight for a duplicate Sita    Hanuman be like That whole story of agnidev protecting sita looks fake   Only to make ram look good To justify agnipariksha  Ram doesn t deserve Sita    Yes exactly Yeh takla kaun hai  Narrator Sulochna kaun ago   hai  Sati           Wah Usne reportedly fake news bola TV pe   That trains are starting on 14 th So people gathered at Bandra station    Yes Abp and India today condemned the arrest   Prison break Kay boltoy to It is             Guys aaj video call karte hai            Kal hai  Zoom pe  Hmm Kon Swamiji  McD or Domino s          What program   Kya hai Abhi  I m in a meeting    4 or 4 30     Wow             Chala hawa yeu dya        Noice     people   Itne bade msgs type kaise kar lete ho      This message was deleted   Movie or series  Dekhte hai Ratsasan NO Yeh Dekh  918600621866 Toh dekh na Hmm  919175087161 haha Yeh dekhi toh aage bolunga         Dekha kya  Latur 9  8 recovered Aur suggest Karu  Okay It s your problem then   https   youtu be yt4PO_lfe0o kab    kaha    mai kaha tha   why did i miss this   smh the day after tomorrow ha black mirror dekh warning stranger things family man Sex education dekh fir Nahi Tu bhi mar ja   Yes Nahi Yeh kaisa excuse hai bhai        Happy birthday                     Guys Guys Irfan khan              Yes I downloaded that already      what is the meaning of this emoji    yeh chal kya raha hai   someone brief me i miss iron man i miss pizza buffalo ne yeh anand aur sameer question bank kyu bhej rahe hai    exam notification aya hai kya koi    Yes Actually we can t be in lockdown forever We have to lift it now Otherwise people will die of hunger and malnutrition Now it has become more risky    Lockdown is actually a temporary measure to slow down the spread i think bus ho gaya    abhi lockdown hatana chahiye economy dub rahi hai      https   economictimes indiatimes com news company corporate trends lengthy lockdown will kill more people than covid murthy articleshow 75459491 cms exactly     17th may tak Hmm   Guys And the school headmaster has to manage them        Yes Yeh ram Ka problem kya hai    Laksman ka bhi tyag kar raha hai         exam schedule   abe likhna chod   If any doubt    sarang Zor se bolo AZAADI kitne stickers bhejega be aisa lag raha hai ki tu noob hai noob   I have a video of you saying that word    I dare you to open that in front of your parents    Tapowan gate   rao nahi chad sakta utna     our noob is back with another sticker       exams yes   lol pdf hai mere pass nope   abey saale wipro ka puch raha tha Kab Ka aaya hai ye oye shrikant mera bhi kar de    roll no bolu   shrikant mai tuze samosa dunga mera karde bas anything to get the job done    so do we have a deal here   Stop screaming Rao Ajun Nahi pathavla Ka mi Apne subjects kitne hai  Are Bhai bhai bhai IOT wale mar jao Because his parents had sex  Raghu Ka screenshot hai   lol  918600621866 jaldi vamshi ko selfie nikal ke bhej de italy chalte hai     Wow   is she sleeping   Use pata nahi hoga camera band kar sakte hai Aaj hua kya kisika oral    510 swarg lok         yeh reason hai toh thik hai    abe teri batch kaunsi hai        abe tuzi d batch ahe     919130526155 dekh le iss sem mein alag batches hai kabhi practical kiya hota toh samaz jata  918600621866 teri A hai shayad         https   youtu be FtZHY2bRbCQ   yeh CLX kya hai  teri oral ho gayi kya  This message was deleted A   https   youtu be 8iPCKfkXmew What s kolhyachi bhaji  Guys Guys Guys I m doomed Mere papa ke school mein quarantine center tha Turns out one of the quarantined person is  ve I m doomed Papa udhar rehte the school mein Ha kela And my dad was sneezing  Bhagat Singh  Woh governor Inko exam honi chahiye Yeh varada abvp wali hai Mazi pn bhar    Yeh sarang ne link kyun delete ki  Mereko 22 mile      ha facetime sirf apple users ke pass hota hai  ek google fake account se ek bar bhar do aise bhej nahi sakte tu question bol shuffled hai bhai questions already itne fake responses aaye hai   42 https   www youtube com watch v Aymrnzianf0 yeh kuch jyada nahi ho gaya   uska bday hai aaj Ismein Rudviq bhi hai      1   people   abe maine nahi kiya    khud kar A measure of connectedness between components of graph is ___________ iska bolo koi Q 14 hai yeh 15 ka Commetrix 16 tulip Sameer hoshiyaar hai maine fake id se try kiya tha Gabbar is me    Rahul for PM    that defeats the whole point of having a democracy this is the funniest news of 2020 so far tho a lot of other renowned firms claim this package is between 1 to 2 5 lakh crores lol    rn he would ve called Xi Jinping and shouted at him      Kitna bakwas roast kiya hai kamra ne Dislikes toh dekho video pe Kamra ne Carry ke sath panga liya hai Mere uncle family group pe aise msg dalte hai   Right  maine bola nahi ab tak Yeh takla gang kaun hai  What happened  Itna bada confession aya hai     Sand ki aankh Yeh bolo muze pehle 1917 Dekh le   Life is beautiful 1977 Bohot bhari hai yeh movie Are muze koi samzhayega ho kya raha hai  Toh call pe bata   yeh toh kabhi nahi hoga Usne story pe poll liya Ha news mein tha yeh  Bhej hame bhi Tere pass kya hai fir  I like cats Takla gang chi complete story I want Story   Chup Go athrya Villian Takla gang pe confession aya Itni English aayegi kya ise lekin       Daav mhanje  ACM mein bhi thi kya   Yeh athrya kaha gaya Story bolne wala tha woh   We don t do that here Pagal sala athrya XD tu story bol la la lol abp pe break chalu ho gaya abhi athrya ayega athrya gaddar hai nahi hogi re aise kaise hogi  exam jab schedule hogi tab apna death toll itna bada hoga ki uska kaun sunta hai be correction yeh toh kuch bhi nahi shrikant ne sahi time pe janam liya aur ek year drop liya   is janam mein itne pap kiye hai same here  918668611629 kya chalu hai bol  exams nahi hogi yeh toh ho nahi sakta  919049792879 kidhar hai   In Maharashtra This message was deleted   I doubt if I ll see you guys ever again   Aur abvp   Ha mai leke aya na   It s like we went home for a short vacation and that vacation lasted forever  Tu story nahi sangitli ajun   He earned 8 lakh votes today   We already have jobs Rushi is on our side     Yeh kab hua  918379946202 Aaja WhatsApp dp bhi remove kiya  918379946202 we need answers Details Please Awww Tune aisa kya bola use           Not me I think Rushi Yeh bhi hai Sajid Wajid wala Wajid died today due to covid19    Ha Dekha   Shivsena shivsena Bohot jaldi nahi uthe tum log           Rao the tiktoker Rao Tiktok bana raha hai   Tune Instagram choda hai na  Toh bhej na Isita Ishita ne bhi mast reply diya Follow her on Instagram Ha I2IT confession ke admin ne bhi maari confessor ki Muze Rudviq lagta hai kabhi kabhi Ha Coding karta hai post karne keliye Yeh  919049792879 apne ko story batane wala hai ki nahi Ami and Isita toh roommates hai na  Ha         Nahi Dekhta Bhai 68 comments hai us post pe   Teri bhi dekhi Mast likha Ha Ignore karna Chahiye tha sabne Lekin acha laga   Saala ludo khelta hai Family ke sath  Muze Lagta tha ludo crush ke sath khelte hai handleyourownego ne  919049792879 story bol na Ha Bol     Mere bhi same questions   Ankushva on   Apna Infosys Ka kya scene hai     Aise kaise jau udhar  918600621866 PJP zala ka  Wipro pre joining program Website chalat nahi tyanchi Rat ko load Karke rakh aur din bhar solve karte baith     Desperate for attention        abhi check kiya maine       Ha   Parents ne nahi suna wah https   www youtube com watch v l3XpO57fZtY Rahul for PM     This is what a failed lockdown looks like   https   photos app goo gl cMqpxzJRtpsZVKUh6 Ritya aur ice gola   Mi fakt kharab photos takat hoto     Zuckerberg sanp hai   Original 600 mb ka hai   Yeh kaha se forward kiya re tune    abe thanku thanku abey youtube pe kyun dala     toh tere photos dal sirf   mere bhi photos hai usme  dude seriously atleast private kar woh video  919049792879 private kar Ab Apne project ke grp mein dalna baki hai bus    Abhi 4 group pe yahi msg dekha maine   Kbc wala lock  Exam toh fix cancel hai Aaj bhi Kuch toh hua shayad           hindi bolay re yes i know  mygov something what   it s just another social media the one that we all hate tho the thing is we are dependent on china we can t just stop using chinese products mitron is pakistani btw ha thike Abe tu toh Pura farmer ban gaya Engineering kiya hai bhul jayega Ik Ha Aise phatake khilake nahi marte lekin Kiska  Ho gaya mera     I asked you like 10 times     You said go ahead I went ahead I take my privacy seriously  No one s ever cursed me this much    Mai offend ho jaunga bol raha hu   Read the chat So jao sir https   youtu be 9SIvxaxWHms yeh rao yeh kya bhej diya tune       ha chalega Ise  Nonstop pronounce karoo    maaza aa raha hai raat ko karte hai na mereko khelne jana hai  Tennis Abhi  Tennis caaanceel ho gaya btw    Kabhi bhi  Chalega muze Ha   Rao nahi hai Shaayad is   video call karo re kay   918600621866 https   zeenews india com world mayan calendar was wrong and world will end next week on june 21 warns conspiracy theorist 2289849 html amp    Damn i m fearing this might become true Aatishi tests  ve for covid 19  918668611629  918600621866 The most educated politician in India who Sir reddit pe aao  https   twitter com RizviUzair status 1273229041953239040 s 08       https   twitter com zoo_bear status 1273190862269435904 s 08 Level up Bajrang dal breaking Chinese toy cars    people are stupid i love people mere pass bhi redmi hai okay riya    ritya   arey bol This message was deleted https   twitter com spychotik status 1273224233154301953 s 20 sorry twitter pe memes bante hai Satyandra Jain also tests  ve for covid19   918668611629  918600621866 ha retest no       btw do you remember he was present in the meeting with amit shah on sunday we ll find out in a few days https   youtu be  UapogBimLU Plot twist   credits dene ko bolta  919175087161 kya kiya re tune  Denekkaa kkya     https   www latimes com opinion story 2020 04 05 meme directed by robert weide _amp true __twitter_impression true    Maine call Kiya tha na tuzze I m purchasing one soon    Option nahi hai yaar most of the chinese phones are made in india  assembled in india i want lava phones    guys let s start a phone company    bohot scope hai abhi paisa nahi hoga uske pass    sab log paise paytm karo use kya fayda and FIR was registered on the journalist who covered this story     cancel sound record kar      aaj lokmat mein aaya hai kuch toh    i read somewhere that how Modi is a teflon personality    Hostel ka samann  hopefully empty rooms ghetlya astil    The end of the world is here    Kal last din hai https   www youtube com watch v 6lrPggGiGaw Tejas bhhau    walking deadd dekho         prison break dekh lo ha dekh le  918600621866  dekh le        Here s a song for you Woh mai parli gaya tha Yup       Fake hi toh tha But he had links to top politicians Police ke story mein mein bohot loopholes hai yeh ravi patki youtuber kab hogaya   jobless hai kya woh   Yeh kya hai  Saste wale Hmm I don t care about anything anymore     mereko bhi aaya tha yeh call thank you thank you        thank you   haha thank you    thank you   Bichara jobless hai    sachin pilot sacked       yeh toh self goal kardiya congress ne   Dep CM post se nikal diya abe news dekh nahi raha kya   https   youtu be 6_pru8U2RmM https   www washingtonpost com world asia_pacific india coronavirus 1 million cases death toll 2020 07 17 9c6aacac c0a2 11ea b178 bb7b05b94af1_story html Congrats    Guys dil bechara dekh lo    Mastt movie hai Snapchat      Nahi    Kaisi hai  Thike dekh ke bol kaisi hai       April mein hai uska   Anyway Happy Birthday  919175087161          But the mother tongue policy isn t fair  https   youtu be ztMsmT7V6tQ Carry   918600621866  918668611629 dekh lo ye Kalalyas mala pn sang candidate id mail aaya dekhlo  919175087161  918600621866  918379946202 abhi aaya hai mail     pata nahi meri toh external battery hai   aise hi nakal jati hai try kar ghar pe tu infosys ka dekh pehle priorities   Dear Candidate  whatever       That s why I use Yahoo mail       https   www reddit com r funny comments i1hadt i_design_fake_products_so_i_created_a_no_germ  utm_medium android_app utm_source share Wait for it     Same to you Mahatma Gandhi is set to be first non white person on British currency https   www dailymail co uk news article 8586361 Mahatma Gandhi set non white person British currency html ito whatsapp_share_article masthead Driving class chalu hai    Jai sri ram This message was deleted https   youtu be zjm3t4gwcqo https   www reddit com r binod utm_medium android_app utm_source share    Bolo You re welcome   Kaisa verdict  This message was deleted Binod ki jai Aur sequence bhi dekh Happy independence day     Bhailog yeh kya chal raha hai Mahi retire hogaya   Congrats sir    Infosys walo Ap ki joining kab hai sir   Ha    Tereko bola tha mai yes dal bolke Arey Shrikant ji ne no laptop available daala tha      Guys zinda ho  His uncle was murdered So he pulled out of ipl Happy Birthday Athrya     Ab yeh kya hai      Seriously tho kya hai yeh  Sawdust    Bol na   Exam ke ek din pehle     Khidki open hoti vatta   Itne apples leke kya karega  Yeh aisa kaisa dp hai be tera     Aggabai sasubai pe vivek tha abhi     https   twitter com bhatia_niraj23 status 1305480462337413122 s 08     https   youtu be 5NM_WBI9UBE   https   youtu be PeCrnbJHJeY Get well soon rao Hall ticket  Yeh kab hua  pata nahi           100 run se harna hai rcb ko       Mai voh cupboard mein baitha tha  Nahi   Kyun re     Snapchat        https   youtu be xebSF8vRvZI Abhi karna hai kya https   youtu be szdbKz5CyhA https   youtu be qpFevF nF o Kisine diya kya mock  isme userid password kya hai      Chalu hai Nahi boring hai Apti Nahi Ha Chalu ho gaya kya  Kaise khelte hai       i not L Mera net gaya  ho gaya kya   Mai bahar hogaya firse   Mami ko pareshan mat karna bachho Koi toh ladki join hui thi    Ha Conference call chalu rakhe  Chalo mereko bas hogaya Exams 13th pasun ahet na  Amerika janeka shauk hai     On camera ki no camera     Sir window swich karta yet nahi     I m out IWP ka seedha book hai kya kisi ke pass   Yeh teda hai Yeh seedha hai  Code   I m out SMA ka rotated version    Nope Nahi khelne wala mai https   towardsdatascience com graph analytics introduction and concepts of centrality 8f5543b55de3 Oh shit Sry Suprabhat sir Kya karna hai  Kab dena hai    As it is available so you can start at 3pm Iska matlab batao koi Hahaha Woh notification meh suggested response tha   27  all of the above 25 data mining   Oh i thought among us ka room code hai   Yeh kaisa question hai  Sentence kaha hai  Oh bhai bohot depressing hai yeh Mat dekh The road Whatsapp backup jo hota hai woh unencrypted hota hai    Waha se sare msgs nikal sakte hai https   www thequint com tech and auto whatsapp end to end encryption chat leak security Device ka clone banate woh log Then they can easily retrieve the msgs Happy birthday sir        Mereko bhi lelo Black lives matter maybe   Happy Dussera  Exam kal hai kya  Okay     13 00 Yeh kitne pages ka hai   OneLastTime finally download ho gaya    itni badi file hai    search nahi ho raha isme        This message was deleted   Nandurbar   Ishq ibadat ban hi gaya Infy ka mail aya kya bacchon Tuze nahi aya kya  Baki kisiko nahi aya kya   919175087161  919130526155 Kai akela jake kya karu Thanks bois Yeh niche training mein classroom virtual training kyun likha hai fir  yeh kaun hai   Mai bhi Call chalu kiye kya   918600621866 call chalu jar na  kar   Meri suno Good night Sir training online hogi apni shayad                         That is the question Air purifier use kar   Latur bhi dekh le bhai Abe latur chod ke sab bheja tune    Abr kahape dikh raha hai tuze  Yay moderate   Btw i resigned from DG tech today  Go Infosys    Arey tere liye bhabhi layenge hum Uhm no     He said vote for Congress instead of vote for bjp    In College I still consider that as a possibility          Next task Ohh Good morning   Bhai tu first season pe hai DC jitegi re chinta mat kar   DC   Duniya DC ipl detne wali hai   jitne Oh           Meri imagination yaha khatam ho gayi thi    918600621866 yeh RCB qualify toh hogi na  17 3 Jitna chod Yeh calculate kaise kiya hai   Kal SRH jita toh rcb bahar hogi vaise bhi    Unki runrate bohot hai bhai Ohh Toh rcb ko sirf kkr se jyada runrate Chahiye Right Chal rcb qualify ho jayegi    9ball 25 runs Bot possible  not Congrats ritya Lekin match toh DC jitegi DC               SRH   Mereko DC vs RCB final chahiye Aaj KKR qualify hoti toh     SRK ko achha bday present milta tha   Ha na https   youtu be Nqk_nWAjBus Arthritis disease cha naav ahe na    Tuze trump chahiye kya     nahi Dono right wingers hai I m saying bad for india   Trump tatya openly discriminated against NRIs     Thand bohot hai lekin udhar If i were a Bihari Ha mai bhi       Here s a fact And to counter china      Mai onions nahi khati OMG Yeh kab hua Oh    She s next potential pres too Mai news chalu kar raha ab From some sources Ohho    You anti national Abhi nahi Ali bhi gaya       Ritya underground ho ja     Mereko bhi pasad tha yeh banda DC RCB   RCB gaya   Biden won      Ha jal rahi hai uski    Jalne de Pr binod jita na Original post something  Original poster OP Bhai subah subah kya ho raha hai tuze ITUS kya hai  Woh docs etc dekhna hai Nahi Yeh hota hai This is very popular on Reddit   Sabse mast mexican PM ka reply It s too early to congratulate Biden    president DC   tum logon ka joining date aya ki nahi   yeh saala gambhir kohli ko resign karneko bol raha hai     Bohot nahi re suspend kon bola be tereko h1n1 pata hai na ha na pehle se tha trump ne muslim ban kiya tha bohot purana hai woh   woh without tail hota hai woh kaunsa hai captain holt ka kaunsa hai cheddar woh ek pirate tha DC jitne wali hai IPL Ahh  Good ol days   What  Techverito ne aur ek PC bheja           dekha hai maine yeh movie    achha hai   dekhta hu   maine bohot pehle dekha hai telegram check kar bheja na telegram pe movies mein dekha hoga na  918668611629 dating colleagues is allowed in infosys   ha office shuru hone do ek baar    maza aayega       Bohot boring hai yaar Dating HR manager is not allowed shayad   Sambhalke   Apke manager ko date kiya toh apko dusre team mein dalenge aise bola hai   Haha Lunch break hai Khana khane de Mere 3 panelists hai Bhai camera band hai   Correction 1 ladka hai       Ohhh muze laga lottery hai Technical or personal  Noice Aja Infosys mein Link bheju   Friends  Bhai bohot benefits de rahe hai Ha Titanium account Axis Bank vs ICICI kisme nikalu bol Ha AXiS ke benefits jyada lag rahe hai      No bank charges for debit card ICICI it is then   KFC 15 percent off bol rahe hai Mai nonveg nahi khata      Free insurance bhi de rahe hai axis wale Still thinking about this    Woh bhi hai Abhi axis ka session chalu hai Compulsory hai  Mere papa ka naam  warad  bol raha hai    news mai dekh leta hu bhai aur ek session hai shayad aaj ets wala kuch   soja call karta mai kuch hua toh They  Already  use  Air  Filters  Harla na Bichara MGB harli na Comfortable victory for nda mhantayet Congress 20      Jinkayla kiti pahije     918600621866 20 out of 70   Rahul should resign  Shivsena ko NOTA se kam votes mile     And NCP ko 0 23    64   counting zaliye fakt Trump hota toh stop the count bolta     Melenia opportunist hoti saali    Aimim ne vote khaye rajdeep bol raha hai Oh shit match This message was deleted This message was deleted Abhi score check kiya maine Shit Fir bhi DC   Yes ofc              Oh bhai Kya maar rahe hai DC wale       Ha axar aur ashwin hai 156 MI bohot mar rahi hai      enter valid data bol raha hai kisiko dikha kya   hall ticket pe dekh B150958 aisa kuch hai jayprakashan la pn disla he even sent me his result to prove his point nahi maybe SPPU is playing with backend maybe the engineer at sppu dropped the database Congrats Yeh results mein sgpa aur cgpa dono kyun hai Kya sgpa ki cgpa  Ohh sgpa semester ka hota hai Cgpa overall    7 86 Same to you Sir aapka khul nahi raha Kya hai Good luck Bhai Infosys chod diya   Bhai tu hi baki hai YouTube down  Video play nahi ho raha check kar   Mereko gaana sunna tha na Meri pyari bindu Gaana  Spotify pe nahiye yeh  Ohho Oh shoot Mera bhi driving class chaluye btw Pn maine video nahi nikala Will society accept me  Kyun  Chalake dikhata na direct Chalu kar wapas firse Yeh jyada sexy lagega        Yeh soumya bhand hai kya   Nandu ka ho gaya na  Teri bike kidhar hai Vamshi sir ko bhi hingoli bula le Mast ek car lelo rent pe Aur roadtrip karo Nizamabad morshi hingoli pune       All the best   Happy Diwali   Nice Mobile la wire kay connect kela hota  Mereko hai Nice Side by side monitors pe jyada maza ata hai pr Ghar pe koi tv nahi dekhta kya     919175087161  919130526155  918600621866 Mera bhi attend karde Bhai mails ke bohot strict policies hai inke  Link bhejta ruk No idea Tune service agreement bheja nahi na tune  Toh they have no proof we have accepted the agreement Boring hai And there are stupid people around me Session chalu hai    Nahi  yeh mere session mein pravachan chalu hai  don t go to US     india is always india  india is always my india aur yeh chatne wale bahi bohot annoying hai yeh log   from  infosys com to All Participants            bhai ek bacchha flirt karne laga hai ma am se  ma am you re so funny            chatna toh padta hai     Ritya TCS jaa raha hai      X matlab kiss hota hai        Fir smile hoga shayad x Tu kaunse grp mein imposter banke baitha hai be  veg ya nonveg   thike mai nahi aane wala       All day Duo pe laga Duo pe dekh Bye bye Mai 15 min mein ata       Hamari instructor late hai    Yes go  918379946202 Nahi     Chatting mein bhi maze hai   Nako Manali mein rakhte hai       Ha   Na Aap log decide karlo Bye             I don t think anyone of them read the caption  Tu itna dhyan se itna lamba caption kyun padh raha tha yeh bol pehle    I already use someone s userid and password  Why to even go to the gym if not for that one after workout mirror selfie  Maine already band kiya hai    high on     919922671311 hostel pohoch gaye sir aap  Dekha  Mai nahi boycott kar raha      I wish Woh snapdeal tha   Yeh kon bola Nice  919049792879 was anyone showing black flags to him   asking out of real curiosity  woh farmers ka protest chalu hai na toh   Bhai sapne mein aya tha kya Gurunath    Theatre mein dekha   https   youtu be R1Sy9RatBs0 Apni final year original marksheet kab milegi                    wth is pop  Ohh And how long will the queen live     And when will Rushi get a bhabhiji          okay thanks  tune liya kya  my question has an answer   okay    i feel lucky           Sham ko video call karte hai     Roa lifting competition   Rao                Yup Ha   He was supposed to be immortal  Ab radhika masale ko mdh kaise harayega   Aaj Queen Elizabeth ke bare mein soch ke dekh tu I m multitasking    correction kiya kya dob wala       the alchemist padhi hai tune  Nice       muze bhi what   pdf hai mere pass     angels and demons movie nahi dekha toh book padhle  nice  yeh bhi mast hai    nope  books are the best     congrats bro     yes please  muze bhi dekhna hai support itna bhi bakwas nahi hota customer care aur support mein bohot fark hai arey promotions jaldi hote hai aur aise bhi infosys mein mostly sabko support mein hi dalte hai    Price for refilling oxygen cylinder hasn t increased actually                     Good night sire   Mala pahije Nahi HBOmax pe hai shayad Exam ki padhai kar Same hoga shayad https   youtu be 1xflcAasvIA Kothrud          Fufaji galiya bhi bohot de rahe hai    Nice pata nahi Saturday should work This message was deleted Tennis court Oops Toh Friday jake Saturday wapas aa jayega  Nako                       Ha YouTube down Idhar ki light bhi gayi hai    With youtube down   Monday ko chutti hoti hai       Maza ayega       Bing  Ha And they ll sell it as made in india product      And then with the extra load YouTube is back Aur idhar ki light bhi aa gayi    rangoli nikalte baithna padega NICE walon ka software developer ke interviews hai      919175087161 accha chance tha tuze kya chahiye bol  i was a tech consultant  understanding business needs ha  Aniket Joshi ka prewedding shoot ka video dekha kya    editing bohot mast kiya hai      point hai Zombie movies dekhke preparations karo Nahi        yah toh hai More like walking dead Om om om om   Yeh kaun hai  Bajrang Bali ki jai https   youtu be e0Q6SWRcc3g   Khudko crop karke kyun nikal raha hai be Abey         Ha  Mangav tu pn  500 mein kitna ayega re  Ha idhar bhi https   youtu be 79FhEhWGXjw        PPA  Ohhh Got it Aapka kya plan hai  Ha Lol no   Me   nice   Happy New Year    https   youtu be 4k0hJlCL7FQ Pyaar ek dhoka hai wala yahi Tammany hai na      https   youtu be Pwom49awRKg Comedy play hai yeh     News parodies hoti hai woh channel pe   From 10 years ago congrats        919130526155 Sabse ghatiya wahi hai Matlab mai apply nahi kar sakta  Mai kya bharu     Muze karna hai fir bhi           Ha  yaali madatwali flashbacks                                      which one are you  Sometimes I write the code but sometimes the code writes me i wish muze bhi chutti hai This message was deleted Aur Rudviq    Ritya s last message was in 2020      Bangalore Days Placement dept ka mail dekha  Infy offering 8LPA          ik ik Hain  Not me  Ha Swapnil ko puch fir     Hmm Kuch nahi  Mera toh ekdum mast gaya weekend      Pune se bacche aye the I wish   Woh comp wala grp     Ha Lol Kuch nahi Aur timepass   Ha Chalo hum bhi chalte hai kisi ke ghar Amravati chalo Jungle hai udhar    He used to brag about this Thike Thike gaana gate hue nahana   Ritya tu online kaise aaj  It not in your character Hmm hmm Naya project join kiya  Mumbai wala  Nice https   youtu be b71rpN1iJKA i watched the whole thing   guys how much did you pay for convocation fees  Okay I just paid 685  Ha             that link is not working    ab muze calculus sikhne ki ichha ho rahi hai           I m busy     working day hai sir   How was your gd  Population kam hua Lockdown ke pros bolne the Spent time with family etc etc And kirana dukan wale 40 mins ka tha na       https   youtu be 2TWXQnxqhPs https   youtu be J1jlol6Vev4      Noice Runout and Diljit had another twitter fight        Nice Ha that was the best             Wow  919175087161 aaja nanded Yupp Ho Ohhh Aise hi     Ha Yes   Infy ki exam hai      https   youtu be ovi9Fn9frP0    https   youtu be 7YvxeXlLVnQ https   youtu be 5CWfyXbMrnQ TIFU by forgetting a password     And btw they can t reset it I ll try         jyada mat soch        How s infy going  https   youtu be xa 4IAR_9Yw   Kya re  918379946202   You know who Slap day     Or actually call ritesh and say that       dikh raha hai Aur ek clue                Movie recommendation  Shweta ke friend ki gf sex addict hai  Nahi   shayad galti se lagaya tha athrya ne      Kon shashank  Yeh Jeo Root bowling bhi karta hai     Too much Capitalism is bad  Just look at US Ohh call chaluye   communist china vibes        Guys Free hai  Aaja duo pe     He effortlessly did like 15 pushups when a student challenged him    Mereko 5 ke upar nahi aate na    Gokarna chalo Sab apne parents grandparents ki vaccination karvalo   Guys what s sustenance engineer  4 3 21 Aaj ki date   Amazon ka new logo dekha                Yeh kya chal raha hai idhar      https   youtu be Ss kLGW2pHQ I m busy Go ahead without me Nah I d rather not say Sure thing    919175087161 knows btw  Close Fissure    Ha Yes Duo pe aa jao I don t think so  Usually brain dead logonke body parts donate karte hai na You re a good question BRAIN TRANSPLANT IS NOT POSSIBLE    https   youtu be 2nHE EErdWs https   timesofindia indiatimes com city mumbai trial runs begin for electric victoria carriages in south mumbai articleshow 81410023 cms    Bichari gir bhi gayi         https   youtu be 43dvsy2S9sg https   www cnbc com 2021 03 11 why facebook is so upset about apple idfa change insiders spill html 12321 Aaj ki date      This message was deleted Hi Nandurkar RushikeshPradiprao    Nice name Ha ik ik   But yours is extra long        Yeah Naukri chali jayegi nahi toh  Ha Mast error tha  Suggest me some old marathi comedy movie  Makrand anaspure or laxman berde or ashok saraf   Thanks Russo brothers    I just saw makarand anaspure on chala hawa yeu dya You should watch what she wears when going to sleep btw when are we shifting to pune  And are we getting a flat together  I got another offer Nahi You can guess   Hinjawadi hoga shayad Ha  Me too      918379946202 location aaya  I m a good roommate Use earphones  And I m like Well Warning kisliye diya tha maine  Dusronke galtiyo se sikho        Do you guys know samir the driver   Wait https   youtu be D9 voINFkCg And the comments are even more funnier  Shadap      you re breaking the car  dumbledore said calmly    Btw Athrya ko bike nahi aati na      This message was deleted who s the handsome guy              I guess fb is collecting wrong data about me   Btw that wasn t really a housewife grp      Rao was supposed to be the tharki one     I remember these        Bye    Anyone watching the match   Eng    This aged well      wah Nah idk and i thought lokmat is being overdramatic    https   youtu be njos57IJf 0 lyrics    why d you name your company after your dick      i got a pc but not from you  Woh             Mi kuna sobat bhandu     Arey haaa    Aisi bedsheet thi uske pass bhi Kuch dekhna tha isliye reactivate kiya tha    Wow    btw        Nahi idk Yeh janvi ko bhej de  Deleted  Itna darr gaya  What if i say   Yahi baate toh baad mein yaad ayegi         She s not that famous apparently    You have a chance   go Vamshi    Google karle    Context  Kashache bharle  Call khatam  9 baje kyun call karte ho yaar    Dhyan nahi hota mera call pe   https   youtu be fn3KWM1kuAw     The sexual tension between Bucky and the Falcon in ep 2 is    are you watching the office   don t watch clips on youtube thanks  918600621866  919175087161 match dekh rahe ho      Uhm why                            I still remember reading this in news and dying of laughter   Thanks for the clarification                                                                   We follow Mysore ka timetable      Are you guys sure Vamshi s surname is morlawar  Virat and Anushka is virishka  Bhaskar   99 Wow  919922671311 Girgit kya hota hai       1  919922671311 in case you missed this   Ohhhh                What          https   youtu be MiKeF1YUKz4          https   edition cnn com interactive 2021 03 cnnix steership  s 09 What if she says yes to April fool me   uno reverse        https   twitter com Ozkok_A status 1377916653846036480 s 08    1      https   youtu be nW948Va l10  918668611629 tu bhi dekh le Vaccine bhetla ka tula  Kal 47k the   Now who told you that  Fake news  Haha scandinavia is the best    thand bohot hoti hai udhar    nope they aren t even part of European union because they didn t want people from Europe    paani ke neeche jane wala hai woh jaldi hi    fun fact inke problems bolna shuru karu kya   yeh hui na baat    chalo ayodya   arey if you have money good choice  chalega thode racist log hai    with brances in multiple countries    yeh bhi thik hai      JavaScript ftw      April fools wala video hai yeh                     Sab ke squad dekh ke bolta hu      DC     Really    SRH Tu bhi RCB       Wow  https   vimeo com 272624653     https   youtu be UgW_PhNHq0g COBOL code tha       Pune        She won t die until prince Charles dies    E saala cup namde Aaj grp itna active kyun hai 4th episode dekha  That last scene  nahi re       and  GST        Happy Birthday Ritu    KT Knowledge Transfer                   Athrya ka tweet dekha kya tune bhi  https   youtu be Jd2GK0qDtRg Nope Happy Gudi Padwa   Abhi uddhav uncle ka speech hai 8 30 ko Woh announce karega      idk   Imagine a potential employer checking their linkedin profile and finds this        https   youtu be YY1Db opAvo        jai pappu             Abtak chalu hai      Add me then     Yesss    Dramatic ending honi chahiye           Too depressing   Yupp i know   And everyone on twitter is begging for beds oxygen ventilator  https   www moneycontrol com news coronavirus govt to open up vaccination for everyone above 18 from may 1 6789221 html Nope Did you hear about the doctor father son duo from kalyan who died because they couldn t get a bed     This reminded me of family guy nike commercial   https   youtu be T2w5SQ0L65I Wow And a cool coincidence   https   youtu be IdKm5lBb2ek This message was deleted    It s sending the msg in wrong chats     This message was deleted Anyone here knows selenium  Ha And also can be used to control your browser  Jai Shree Ram        Noice    1 I feel their pain   Konsa   waah my prediction I m not paying attention on that    Politics chalu hai bass Mereko vijay malya laga   Nope Aise bolbe pe kuch yaad nahi aata muze  bolne Ha   Thanks idk haven t talked to her in a while   Delhi  Ha yeh karna padega          https   youtu be WQ5kfsVsNZE https   youtu be Onu844IhbEM And hospitals are warned not to raise oxygen shortage alarms     Sir West Bengal ki positivity rate is around 50  from last two days    kolkata  maha is not the lowest in vaccine wastage Yupp          Guys   pink moon dekho bahar jake           Oooooooo doesn t google assistant read it out    noice    Prediction Kisi ne register kiya     Happy Birthday Shreekant   Wow         Both are Rajesh     big bang theory reference    918379946202  919130526155  919049792879 join duo pe Kon  yeh chal kya raha hai  Weekend aa gaya Post work doomscrolling    Nah Uhm what    Woh fridge mast foda lekin              Didi O didi Left   congress in WB   0 1 Really remarkable victory for Didi tho    https   youtu be iKcWu0tsiZM Woh golden bridge wale mein sab hai Shayad Yeh msg sabka aaya hai kya  In sabko beard toh hai kya  https   twitter com schmmuck status 1388874454810316804 s 20    Nope Kidhar  Btw goa pics bheje kya  Kuch bhi mat bhejo  Yeh mast hai    Wow      Aaj hi bharna aisa kuch hai kya  Official pe msg aya tha usmein 10th may tak bharo likha tha     Mera quote     Nothing goes over my head     May the fourth be with you           Kangana ka twitter account suspended    IPL suspended  mera username kisne bola inhe      mast hai       Sach mein        What poll          https   youtu be XDhyNbR6v1w          https   youtu be Zo62S0ulqhA             Enlighten me  War chalu hai  Much more complex that    Watch this    I m still here              Nope Covid recovered logonko hota hai   esp the one s with diabetes        Yeh kya delete kardiya tune    Bhej   Noice       Chand pe aapka swagat hai  Freelance    Vaccine liya      Nah Police ka danda padega ab Right https   youtu be FOz_NEr0aeY I m trying to track down who leaked my data  Do you guys get messages from Aam Aadmi Party  Ha  More specifically Fun fact  Another one        Because you re a 90s kid       I was curious  https   youtu be wDP2c2FCHAM India mein banned hai na  Abhi nahi kiya   2018 mein rbi banned it   And i am dumb enough to search bitcoin on stocks wale apps and when i didn t find it           That image ruined my day    Tere pass prime tha na     https   twitter com levie status 1401293288942891009 s 20 Loki ep1 dekha kisine  Link hai toh bhejo  https   youtu be J2ACJkafELA  '"
      ]
     },
     "execution_count": 146,
     "metadata": {},
     "output_type": "execute_result"
    }
   ],
   "source": [
    "\n",
    "chats_person_only_text=[]\n",
    "only_text = re.sub(r'[^a-zA-Z0-9]',r'',chats_per_person_wo[0])\n",
    "# only_text\n",
    "# chats_per_person_wo\n",
    "tot_no_text =[]\n",
    "for i in range(len(user_list)):\n",
    "    only_text = re.sub(r'[^a-zA-Z0-9]',r'',chats_per_person_wo[i])\n",
    "    only_words = re.sub(r'[^a-zA-Z0-9_ ]',r' ',chats_per_person_wo[i])\n",
    "#     only_words=only_words.split(' ')\n",
    "#     while(\"\" in only_words):\n",
    "#         only_words.remove(\"\")\n",
    "    chats_person_only_text.append(only_words)\n",
    "    tot_no_text.append(len(only_text))\n",
    "\n",
    "tot_no_text\n",
    "only_text\n",
    "chats_person_only_text[7]"
   ]
  },
  {
   "cell_type": "markdown",
   "id": "e526e5b9",
   "metadata": {},
   "source": [
    "## Most used words by user(excluding emojis)"
   ]
  },
  {
   "cell_type": "code",
   "execution_count": 147,
   "id": "508590ea",
   "metadata": {},
   "outputs": [
    {
     "name": "stderr",
     "output_type": "stream",
     "text": [
      "/home/rudviq/.local/lib/python3.6/site-packages/ipykernel_launcher.py:2: DeprecationWarning: `itemfreq` is deprecated!\n",
      "`itemfreq` is deprecated and will be removed in a future version. Use instead `np.unique(..., return_counts=True)`\n",
      "  \n"
     ]
    },
    {
     "name": "stdout",
     "output_type": "stream",
     "text": [
      "Vamshikiran [['hai' '567']\n",
      " ['I' '226']\n",
      " ['kya' '187']]\n",
      "Rushikesh N [['hai' '961']\n",
      " ['to' '346']\n",
      " ['I' '288']]\n",
      "Ritesh [['hai' '1256']\n",
      " ['to' '759']\n",
      " ['me' '471']]\n",
      "Rudviq [['hai' '1842']\n",
      " ['me' '592']\n",
      " ['nhi' '587']]\n",
      "Shrikant Karhale [['hai' '1407']\n",
      " ['nh' '422']\n",
      " ['kya' '391']]\n",
      "Atharva Puranik [['hai' '283']\n",
      " ['h' '156']\n",
      " ['nhi' '146']]\n",
      "Suraj Rao [['hai' '266']\n",
      " ['nahi' '119']\n",
      " ['me' '118']]\n",
      "Gaurav Warad [['hai' '321']\n",
      " ['https' '78']\n",
      " ['kya' '74']]\n"
     ]
    }
   ],
   "source": [
    "\n",
    "for i in range(len(user_list)):\n",
    "    fg = itemfreq(list(chats_person_only_text)[i].split(' '))\n",
    "    fg = fg[fg[:,1].astype(float).argsort()][::-1]\n",
    "    print(user_list[i],fg[1:4])"
   ]
  },
  {
   "cell_type": "markdown",
   "id": "e42d6283",
   "metadata": {},
   "source": [
    "## Bar graph to represent Number of texts by each user"
   ]
  },
  {
   "cell_type": "code",
   "execution_count": 148,
   "id": "0ea3b70d",
   "metadata": {
    "scrolled": true
   },
   "outputs": [
    {
     "data": {
      "image/png": "[encoded data removed]",
      "text/plain": [
       "<Figure size 432x288 with 1 Axes>"
      ]
     },
     "metadata": {
      "needs_background": "light"
     },
     "output_type": "display_data"
    }
   ],
   "source": [
    "fig,ax = plt.subplots()\n",
    "\n",
    "\n",
    "y_pos = np.arange(len(user_list))\n",
    "\n",
    "ax.barh(y_pos,tot_no_text,align = 'center')\n",
    "ax.set_yticks(y_pos)\n",
    "ax.set_yticklabels(user_list)\n",
    "# ax.set_xticks(y)\n",
    "ax.set_title(\"Number of texts per person\")\n",
    "ax.invert_yaxis()\n"
   ]
  },
  {
   "cell_type": "markdown",
   "id": "b0b5fa2e",
   "metadata": {},
   "source": [
    "## Number of emojis used per person"
   ]
  },
  {
   "cell_type": "code",
   "execution_count": 149,
   "id": "8c5ffc21",
   "metadata": {},
   "outputs": [],
   "source": [
    "import emoji\n",
    "\n",
    "no_of_emoji=[]\n",
    "emojis_iter = map(lambda y: y, emoji.UNICODE_EMOJI['en'].keys())\n",
    "regex_set = re.compile('|'.join(re.escape(em) for em in emojis_iter))\n",
    "\n",
    "for i in range(len(user_list)):\n",
    "    new_list = regex_set.findall(chats_per_person_wo[i]) \n",
    "    no_of_emoji.append(len(new_list))\n",
    "\n",
    "# no_of_emoji"
   ]
  },
  {
   "cell_type": "code",
   "execution_count": 150,
   "id": "d64d52ac",
   "metadata": {},
   "outputs": [
    {
     "data": {
      "image/png": "[encoded data removed]",
      "text/plain": [
       "<Figure size 432x288 with 1 Axes>"
      ]
     },
     "metadata": {
      "needs_background": "light"
     },
     "output_type": "display_data"
    }
   ],
   "source": [
    "fig,ax = plt.subplots()\n",
    "\n",
    "\n",
    "y_pos = np.arange(len(user_list))\n",
    "\n",
    "ax.barh(y_pos,no_of_emoji,align = 'center')\n",
    "ax.set_yticks(y_pos)\n",
    "ax.set_yticklabels(user_list)\n",
    "# ax.set_xticks(y)\n",
    "ax.set_title(\"Number of emojis per person\")\n",
    "ax.invert_yaxis()\n"
   ]
  },
  {
   "cell_type": "markdown",
   "id": "00ad1aa5",
   "metadata": {},
   "source": [
    "## Number of words per user"
   ]
  },
  {
   "cell_type": "code",
   "execution_count": 151,
   "id": "d4dd14cc",
   "metadata": {},
   "outputs": [],
   "source": [
    "no_of_words = []\n",
    "for i in range(len(user_list)):\n",
    "    N= chats_per_person_wo[i].split(' ')\n",
    "    no_of_words.append(len(N))\n",
    "    \n",
    "# no_of_words    "
   ]
  },
  {
   "cell_type": "code",
   "execution_count": 152,
   "id": "b02c0528",
   "metadata": {},
   "outputs": [
    {
     "data": {
      "image/png": "[encoded data removed]",
      "text/plain": [
       "<Figure size 432x288 with 1 Axes>"
      ]
     },
     "metadata": {
      "needs_background": "light"
     },
     "output_type": "display_data"
    }
   ],
   "source": [
    "fig,ax = plt.subplots()\n",
    "\n",
    "\n",
    "y_pos = np.arange(len(user_list))\n",
    "\n",
    "ax.barh(y_pos,no_of_words,align = 'center')\n",
    "ax.set_yticks(y_pos)\n",
    "ax.set_yticklabels(user_list)\n",
    "# ax.set_xticks(y)\n",
    "ax.set_title(\"Number of words per person\")\n",
    "ax.invert_yaxis()\n"
   ]
  },
  {
   "cell_type": "code",
   "execution_count": 153,
   "id": "551deda9",
   "metadata": {},
   "outputs": [
    {
     "name": "stderr",
     "output_type": "stream",
     "text": [
      "/home/rudviq/.local/lib/python3.6/site-packages/ipykernel_launcher.py:1: UserWarning: Boolean Series key will be reindexed to match DataFrame index.\n",
      "  \"\"\"Entry point for launching an IPython kernel.\n"
     ]
    },
    {
     "data": {
      "text/plain": [
       "455"
      ]
     },
     "execution_count": 153,
     "metadata": {},
     "output_type": "execute_result"
    }
   ],
   "source": [
    "len(df[df[\"Whatsapp Chats\"].str.contains(r'<Media omitted>')==True][df[\"Users\"]==user_list[2]])"
   ]
  },
  {
   "cell_type": "markdown",
   "id": "d32635e8",
   "metadata": {},
   "source": [
    "## Number of media files sent per user"
   ]
  },
  {
   "cell_type": "code",
   "execution_count": 154,
   "id": "d0d84264",
   "metadata": {},
   "outputs": [
    {
     "name": "stderr",
     "output_type": "stream",
     "text": [
      "/home/rudviq/.local/lib/python3.6/site-packages/ipykernel_launcher.py:4: UserWarning: Boolean Series key will be reindexed to match DataFrame index.\n",
      "  after removing the cwd from sys.path.\n",
      "/home/rudviq/.local/lib/python3.6/site-packages/ipykernel_launcher.py:4: UserWarning: Boolean Series key will be reindexed to match DataFrame index.\n",
      "  after removing the cwd from sys.path.\n",
      "/home/rudviq/.local/lib/python3.6/site-packages/ipykernel_launcher.py:4: UserWarning: Boolean Series key will be reindexed to match DataFrame index.\n",
      "  after removing the cwd from sys.path.\n",
      "/home/rudviq/.local/lib/python3.6/site-packages/ipykernel_launcher.py:4: UserWarning: Boolean Series key will be reindexed to match DataFrame index.\n",
      "  after removing the cwd from sys.path.\n",
      "/home/rudviq/.local/lib/python3.6/site-packages/ipykernel_launcher.py:4: UserWarning: Boolean Series key will be reindexed to match DataFrame index.\n",
      "  after removing the cwd from sys.path.\n",
      "/home/rudviq/.local/lib/python3.6/site-packages/ipykernel_launcher.py:4: UserWarning: Boolean Series key will be reindexed to match DataFrame index.\n",
      "  after removing the cwd from sys.path.\n",
      "/home/rudviq/.local/lib/python3.6/site-packages/ipykernel_launcher.py:4: UserWarning: Boolean Series key will be reindexed to match DataFrame index.\n",
      "  after removing the cwd from sys.path.\n",
      "/home/rudviq/.local/lib/python3.6/site-packages/ipykernel_launcher.py:4: UserWarning: Boolean Series key will be reindexed to match DataFrame index.\n",
      "  after removing the cwd from sys.path.\n"
     ]
    },
    {
     "data": {
      "text/plain": [
       "[166, 512, 455, 443, 1300, 286, 143, 198]"
      ]
     },
     "execution_count": 154,
     "metadata": {},
     "output_type": "execute_result"
    }
   ],
   "source": [
    "no_of_media = []\n",
    "\n",
    "for i in range(len(user_list)):\n",
    "    l=len(df[df[\"Whatsapp Chats\"].str.contains(r'<Media omitted>')==True][df[\"Users\"]==user_list[i]])\n",
    "    no_of_media.append(l)\n",
    "    \n",
    "no_of_media"
   ]
  },
  {
   "cell_type": "code",
   "execution_count": 155,
   "id": "f5830d0c",
   "metadata": {
    "scrolled": true
   },
   "outputs": [
    {
     "data": {
      "image/png": "[encoded data removed]",
      "text/plain": [
       "<Figure size 432x288 with 1 Axes>"
      ]
     },
     "metadata": {
      "needs_background": "light"
     },
     "output_type": "display_data"
    }
   ],
   "source": [
    "fig,ax = plt.subplots()\n",
    "\n",
    "\n",
    "y_pos = np.arange(len(user_list))\n",
    "\n",
    "ax.barh(y_pos,no_of_media,align = 'center')\n",
    "ax.set_yticks(y_pos)\n",
    "ax.set_yticklabels(user_list)\n",
    "# ax.set_xticks(y)\n",
    "ax.set_title(\"Number of media files sent per person\")\n",
    "ax.invert_yaxis()\n"
   ]
  },
  {
   "cell_type": "markdown",
   "id": "fc4a8993",
   "metadata": {},
   "source": [
    "## Average number of words per message per contact"
   ]
  },
  {
   "cell_type": "code",
   "execution_count": 156,
   "id": "6a950f01",
   "metadata": {},
   "outputs": [
    {
     "data": {
      "text/plain": [
       "[3.959954751131222,\n",
       " 4.790870667793745,\n",
       " 6.653610354223433,\n",
       " 4.400929345883474,\n",
       " 8.613363937770977,\n",
       " 5.350899742930591,\n",
       " 3.3273504273504275,\n",
       " 3.373729158194388]"
      ]
     },
     "execution_count": 156,
     "metadata": {},
     "output_type": "execute_result"
    }
   ],
   "source": [
    "#Avg no of words per message per contact including media\n",
    "\n",
    "avg_words = []\n",
    "for i in range(len(user_list)):\n",
    "    avg_words.append(no_of_words[i]/most_msg_by_user_wo[i])\n",
    "    \n",
    "\n",
    "avg_words"
   ]
  },
  {
   "cell_type": "code",
   "execution_count": 157,
   "id": "76179ea5",
   "metadata": {
    "scrolled": false
   },
   "outputs": [
    {
     "data": {
      "image/png": "[encoded data removed]",
      "text/plain": [
       "<Figure size 432x288 with 1 Axes>"
      ]
     },
     "metadata": {
      "needs_background": "light"
     },
     "output_type": "display_data"
    }
   ],
   "source": [
    "fig,ax = plt.subplots()\n",
    "\n",
    "\n",
    "y_pos = np.arange(len(user_list))\n",
    "\n",
    "ax.barh(y_pos,avg_words,align = 'center')\n",
    "ax.set_yticks(y_pos)\n",
    "ax.set_yticklabels(user_list)\n",
    "# ax.set_xticks(y)\n",
    "ax.set_title(\"Number of words per messages per contact\")\n",
    "ax.invert_yaxis()\n"
   ]
  },
  {
   "cell_type": "markdown",
   "id": "b443764e",
   "metadata": {},
   "source": [
    "## Summary"
   ]
  },
  {
   "cell_type": "code",
   "execution_count": 158,
   "id": "84a15698",
   "metadata": {},
   "outputs": [],
   "source": [
    "import datetime\n",
    "import time\n",
    "\n",
    "date_list =[]\n",
    "for i in range(len(df[\"Date\"])):\n",
    "    date_list.append(datetime.datetime.strptime(df[\"Date\"][i],\"%d/%m/%Y\").strftime(\"%d/%m/%Y\"))\n",
    "    \n",
    "    "
   ]
  },
  {
   "cell_type": "code",
   "execution_count": 159,
   "id": "0be46a2a",
   "metadata": {},
   "outputs": [
    {
     "name": "stdout",
     "output_type": "stream",
     "text": [
      "21/03/2020    11/06/2021\n"
     ]
    }
   ],
   "source": [
    "Start_date = date_list[0]\n",
    "End_date=date_list[-1]\n",
    "\n",
    "print(Start_date,\"  \",End_date)"
   ]
  },
  {
   "cell_type": "code",
   "execution_count": 160,
   "id": "5f9b8910",
   "metadata": {},
   "outputs": [
    {
     "name": "stdout",
     "output_type": "stream",
     "text": [
      "18:54    12:54\n"
     ]
    }
   ],
   "source": [
    "Start_time = df[\"Time\"][0]\n",
    "End_time = df[\"Time\"][len(df[\"Time\"])-1]\n",
    "\n",
    "print(Start_time,\"  \",End_time)"
   ]
  },
  {
   "cell_type": "code",
   "execution_count": 161,
   "id": "b114ada3",
   "metadata": {},
   "outputs": [
    {
     "name": "stdout",
     "output_type": "stream",
     "text": [
      "Total messages:  39935\n",
      "Total no of letters:  766035\n",
      "Total files(media):  3503\n",
      "Total words:  188355\n",
      "Total emojis:  24096\n"
     ]
    }
   ],
   "source": [
    "Total_msg=0\n",
    "Total_text=0\n",
    "Total_media=0\n",
    "Total_words = 0\n",
    "Total_emoji=0\n",
    "for i in range(8):\n",
    "    Total_msg += most_msg_by_user[i]\n",
    "    Total_text += tot_no_text[i]\n",
    "    Total_media += no_of_media[i]\n",
    "    Total_words += no_of_words[i]\n",
    "    Total_emoji += no_of_emoji[i]\n",
    "    \n",
    "    \n",
    "# sum\n",
    "# sum1\n",
    "# # sum2\n",
    "# sum3\n",
    "# sum4\n",
    "print('Total messages: ',Total_msg)\n",
    "print('Total no of letters: ',Total_text)\n",
    "print('Total files(media): ',Total_media)\n",
    "print('Total words: ',Total_words)\n",
    "print('Total emojis: ',Total_emoji)"
   ]
  },
  {
   "cell_type": "markdown",
   "id": "3d9ec6d0",
   "metadata": {},
   "source": [
    "## Time wise Statistical data"
   ]
  },
  {
   "cell_type": "markdown",
   "id": "53bd8d04",
   "metadata": {},
   "source": [
    "### Date on which most chatting was done"
   ]
  },
  {
   "cell_type": "code",
   "execution_count": 162,
   "id": "b7e670e3",
   "metadata": {},
   "outputs": [
    {
     "name": "stderr",
     "output_type": "stream",
     "text": [
      "/home/rudviq/.local/lib/python3.6/site-packages/ipykernel_launcher.py:1: DeprecationWarning: `itemfreq` is deprecated!\n",
      "`itemfreq` is deprecated and will be removed in a future version. Use instead `np.unique(..., return_counts=True)`\n",
      "  \"\"\"Entry point for launching an IPython kernel.\n"
     ]
    },
    {
     "data": {
      "text/plain": [
       "array([['28/03/2020', 808],\n",
       "       ['20/10/2020', 684],\n",
       "       ['01/04/2020', 577],\n",
       "       ['24/03/2020', 572],\n",
       "       ['29/03/2020', 526],\n",
       "       ['10/11/2020', 524],\n",
       "       ['23/03/2020', 493],\n",
       "       ['09/10/2020', 491],\n",
       "       ['28/04/2020', 459],\n",
       "       ['31/05/2020', 458],\n",
       "       ['02/04/2020', 458],\n",
       "       ['21/04/2020', 457],\n",
       "       ['27/03/2020', 456],\n",
       "       ['01/06/2020', 449],\n",
       "       ['01/11/2020', 446],\n",
       "       ['30/05/2020', 441],\n",
       "       ['12/11/2020', 437],\n",
       "       ['15/10/2020', 429],\n",
       "       ['22/03/2020', 429],\n",
       "       ['19/05/2020', 424],\n",
       "       ['25/03/2020', 414],\n",
       "       ['29/06/2020', 374],\n",
       "       ['03/12/2020', 362],\n",
       "       ['17/06/2020', 348],\n",
       "       ['08/10/2020', 343],\n",
       "       ['12/10/2020', 334],\n",
       "       ['26/10/2020', 332],\n",
       "       ['26/03/2021', 323],\n",
       "       ['16/04/2020', 319],\n",
       "       ['30/10/2020', 316],\n",
       "       ['05/05/2020', 312],\n",
       "       ['12/09/2020', 307],\n",
       "       ['30/03/2020', 301],\n",
       "       ['12/07/2020', 273],\n",
       "       ['16/10/2020', 263],\n",
       "       ['01/05/2020', 255],\n",
       "       ['23/09/2020', 251],\n",
       "       ['03/06/2020', 251],\n",
       "       ['26/04/2020', 248],\n",
       "       ['23/10/2020', 246],\n",
       "       ['18/10/2020', 237],\n",
       "       ['27/04/2020', 234],\n",
       "       ['07/06/2020', 233],\n",
       "       ['25/04/2021', 223],\n",
       "       ['19/06/2020', 223],\n",
       "       ['09/12/2020', 218],\n",
       "       ['08/11/2020', 215],\n",
       "       ['02/05/2021', 214],\n",
       "       ['15/11/2020', 213],\n",
       "       ['14/04/2020', 206],\n",
       "       ['05/03/2021', 204],\n",
       "       ['28/07/2020', 204],\n",
       "       ['24/11/2020', 203],\n",
       "       ['08/05/2020', 202],\n",
       "       ['29/04/2020', 201],\n",
       "       ['19/10/2020', 198],\n",
       "       ['12/04/2021', 194],\n",
       "       ['22/03/2021', 194],\n",
       "       ['11/06/2020', 194],\n",
       "       ['04/11/2020', 193],\n",
       "       ['02/11/2020', 192],\n",
       "       ['22/04/2020', 192],\n",
       "       ['02/06/2020', 188],\n",
       "       ['18/04/2020', 187],\n",
       "       ['09/11/2020', 186],\n",
       "       ['14/06/2020', 179],\n",
       "       ['15/06/2020', 178],\n",
       "       ['13/04/2020', 175],\n",
       "       ['10/04/2021', 175],\n",
       "       ['12/04/2020', 172],\n",
       "       ['06/04/2021', 172],\n",
       "       ['25/06/2020', 169],\n",
       "       ['24/10/2020', 168],\n",
       "       ['13/05/2021', 168],\n",
       "       ['17/10/2020', 164],\n",
       "       ['28/10/2020', 164],\n",
       "       ['29/05/2020', 162],\n",
       "       ['13/10/2020', 157],\n",
       "       ['04/12/2020', 154],\n",
       "       ['17/04/2020', 153],\n",
       "       ['22/10/2020', 152],\n",
       "       ['07/05/2021', 152],\n",
       "       ['27/06/2020', 150],\n",
       "       ['06/02/2021', 150],\n",
       "       ['12/05/2020', 150],\n",
       "       ['23/07/2020', 147],\n",
       "       ['14/05/2020', 147],\n",
       "       ['11/10/2020', 147],\n",
       "       ['25/07/2020', 146],\n",
       "       ['05/05/2021', 144],\n",
       "       ['18/06/2020', 142],\n",
       "       ['04/06/2020', 141],\n",
       "       ['11/09/2020', 138],\n",
       "       ['31/03/2020', 138],\n",
       "       ['20/06/2020', 137],\n",
       "       ['30/06/2020', 136],\n",
       "       ['21/06/2020', 135],\n",
       "       ['04/05/2020', 133],\n",
       "       ['18/03/2021', 131],\n",
       "       ['05/04/2020', 131],\n",
       "       ['08/06/2020', 130],\n",
       "       ['27/04/2021', 129],\n",
       "       ['08/03/2021', 128],\n",
       "       ['24/01/2021', 128],\n",
       "       ['14/12/2020', 127],\n",
       "       ['27/05/2020', 125],\n",
       "       ['09/06/2020', 124],\n",
       "       ['18/11/2020', 124],\n",
       "       ['23/06/2020', 123],\n",
       "       ['15/02/2021', 122],\n",
       "       ['09/04/2021', 118],\n",
       "       ['02/12/2020', 117],\n",
       "       ['22/01/2021', 117],\n",
       "       ['09/03/2021', 114],\n",
       "       ['23/04/2020', 113],\n",
       "       ['24/07/2020', 111],\n",
       "       ['10/06/2020', 107],\n",
       "       ['14/10/2020', 106],\n",
       "       ['26/07/2020', 106],\n",
       "       ['19/03/2021', 105],\n",
       "       ['11/04/2020', 104],\n",
       "       ['08/05/2021', 103],\n",
       "       ['09/04/2020', 103],\n",
       "       ['05/06/2020', 102],\n",
       "       ['10/04/2020', 102],\n",
       "       ['26/12/2020', 101],\n",
       "       ['27/07/2020', 100],\n",
       "       ['15/12/2020', 100],\n",
       "       ['01/10/2020', 99],\n",
       "       ['03/05/2021', 99],\n",
       "       ['10/10/2020', 98],\n",
       "       ['23/04/2021', 97],\n",
       "       ['08/04/2021', 96],\n",
       "       ['25/09/2020', 95],\n",
       "       ['19/04/2020', 94],\n",
       "       ['26/01/2021', 94],\n",
       "       ['20/04/2020', 94],\n",
       "       ['24/04/2021', 93],\n",
       "       ['01/12/2020', 93],\n",
       "       ['06/11/2020', 92],\n",
       "       ['29/10/2020', 90],\n",
       "       ['28/11/2020', 89],\n",
       "       ['08/04/2020', 87],\n",
       "       ['12/01/2021', 85],\n",
       "       ['06/03/2021', 85],\n",
       "       ['10/12/2020', 84],\n",
       "       ['21/01/2021', 83],\n",
       "       ['15/08/2020', 83],\n",
       "       ['04/05/2021', 83],\n",
       "       ['22/06/2020', 82],\n",
       "       ['18/01/2021', 81],\n",
       "       ['25/05/2020', 81],\n",
       "       ['16/01/2021', 81],\n",
       "       ['30/04/2021', 80],\n",
       "       ['19/04/2021', 78],\n",
       "       ['13/07/2020', 78],\n",
       "       ['09/05/2021', 78],\n",
       "       ['18/05/2020', 77],\n",
       "       ['11/02/2021', 76],\n",
       "       ['19/11/2020', 76],\n",
       "       ['21/05/2021', 76],\n",
       "       ['31/07/2020', 75],\n",
       "       ['21/12/2020', 75],\n",
       "       ['16/06/2020', 73],\n",
       "       ['26/03/2020', 73],\n",
       "       ['22/07/2020', 73],\n",
       "       ['16/05/2021', 73],\n",
       "       ['03/11/2020', 73],\n",
       "       ['04/10/2020', 72],\n",
       "       ['31/12/2020', 71],\n",
       "       ['16/11/2020', 70],\n",
       "       ['31/08/2020', 69],\n",
       "       ['04/04/2020', 69],\n",
       "       ['11/11/2020', 68],\n",
       "       ['03/07/2020', 68],\n",
       "       ['24/06/2020', 67],\n",
       "       ['02/05/2020', 66],\n",
       "       ['23/05/2021', 66],\n",
       "       ['15/04/2020', 65],\n",
       "       ['07/01/2021', 65],\n",
       "       ['17/05/2021', 64],\n",
       "       ['18/05/2021', 64],\n",
       "       ['10/07/2020', 63],\n",
       "       ['20/05/2020', 63],\n",
       "       ['04/09/2020', 63],\n",
       "       ['25/01/2021', 62],\n",
       "       ['02/06/2021', 62],\n",
       "       ['19/02/2021', 59],\n",
       "       ['24/04/2020', 58],\n",
       "       ['23/01/2021', 57],\n",
       "       ['17/04/2021', 57],\n",
       "       ['15/03/2021', 57],\n",
       "       ['15/09/2020', 57],\n",
       "       ['24/03/2021', 56],\n",
       "       ['25/04/2020', 55],\n",
       "       ['21/05/2020', 55],\n",
       "       ['22/05/2021', 55],\n",
       "       ['04/02/2021', 54],\n",
       "       ['04/07/2020', 54],\n",
       "       ['29/04/2021', 54],\n",
       "       ['17/01/2021', 53],\n",
       "       ['18/04/2021', 53],\n",
       "       ['22/04/2021', 52],\n",
       "       ['16/02/2021', 52],\n",
       "       ['06/05/2020', 52],\n",
       "       ['05/11/2020', 52],\n",
       "       ['17/07/2020', 51],\n",
       "       ['11/04/2021', 51],\n",
       "       ['14/08/2020', 50],\n",
       "       ['07/04/2021', 50],\n",
       "       ['13/12/2020', 50],\n",
       "       ['20/05/2021', 50],\n",
       "       ['05/04/2021', 49],\n",
       "       ['20/11/2020', 48],\n",
       "       ['17/05/2020', 47],\n",
       "       ['15/01/2021', 47],\n",
       "       ['24/12/2020', 46],\n",
       "       ['29/03/2021', 46],\n",
       "       ['24/05/2021', 45],\n",
       "       ['08/12/2020', 45],\n",
       "       ['30/01/2021', 44],\n",
       "       ['05/07/2020', 44],\n",
       "       ['22/05/2020', 44],\n",
       "       ['16/05/2020', 44],\n",
       "       ['04/04/2021', 44],\n",
       "       ['18/02/2021', 43],\n",
       "       ['10/09/2020', 43],\n",
       "       ['05/02/2021', 43],\n",
       "       ['11/07/2020', 43],\n",
       "       ['23/05/2020', 42],\n",
       "       ['25/11/2020', 42],\n",
       "       ['28/05/2020', 41],\n",
       "       ['11/05/2021', 40],\n",
       "       ['27/03/2021', 40],\n",
       "       ['19/09/2020', 39],\n",
       "       ['09/05/2020', 39],\n",
       "       ['21/03/2020', 38],\n",
       "       ['03/03/2021', 38],\n",
       "       ['28/02/2021', 38],\n",
       "       ['18/08/2020', 37],\n",
       "       ['01/05/2021', 37],\n",
       "       ['26/05/2020', 37],\n",
       "       ['27/05/2021', 36],\n",
       "       ['29/11/2020', 36],\n",
       "       ['21/07/2020', 36],\n",
       "       ['17/08/2020', 35],\n",
       "       ['03/05/2020', 34],\n",
       "       ['10/05/2020', 34],\n",
       "       ['20/04/2021', 34],\n",
       "       ['10/06/2021', 34],\n",
       "       ['18/12/2020', 34],\n",
       "       ['07/04/2020', 33],\n",
       "       ['12/05/2021', 32],\n",
       "       ['25/10/2020', 32],\n",
       "       ['09/02/2021', 32],\n",
       "       ['07/03/2021', 32],\n",
       "       ['05/08/2020', 32],\n",
       "       ['17/03/2021', 31],\n",
       "       ['08/07/2020', 31],\n",
       "       ['13/04/2021', 30],\n",
       "       ['11/03/2021', 30],\n",
       "       ['14/04/2021', 30],\n",
       "       ['15/05/2021', 29],\n",
       "       ['29/12/2020', 29],\n",
       "       ['20/03/2021', 29],\n",
       "       ['22/02/2021', 28],\n",
       "       ['25/02/2021', 28],\n",
       "       ['23/03/2021', 28],\n",
       "       ['31/10/2020', 28],\n",
       "       ['06/06/2020', 27],\n",
       "       ['28/06/2020', 27],\n",
       "       ['31/05/2021', 27],\n",
       "       ['22/11/2020', 27],\n",
       "       ['15/05/2020', 27],\n",
       "       ['06/04/2020', 26],\n",
       "       ['30/04/2020', 26],\n",
       "       ['15/04/2021', 26],\n",
       "       ['12/08/2020', 26],\n",
       "       ['10/01/2021', 26],\n",
       "       ['21/11/2020', 25],\n",
       "       ['26/02/2021', 25],\n",
       "       ['20/01/2021', 25],\n",
       "       ['03/04/2021', 24],\n",
       "       ['07/12/2020', 24],\n",
       "       ['04/03/2021', 23],\n",
       "       ['12/06/2020', 23],\n",
       "       ['05/01/2021', 23],\n",
       "       ['28/01/2021', 23],\n",
       "       ['14/05/2021', 23],\n",
       "       ['30/07/2020', 23],\n",
       "       ['22/09/2020', 22],\n",
       "       ['20/07/2020', 22],\n",
       "       ['01/02/2021', 22],\n",
       "       ['13/08/2020', 22],\n",
       "       ['02/07/2020', 22],\n",
       "       ['10/05/2021', 22],\n",
       "       ['06/01/2021', 21],\n",
       "       ['03/04/2020', 21],\n",
       "       ['14/07/2020', 21],\n",
       "       ['16/04/2021', 21],\n",
       "       ['27/10/2020', 21],\n",
       "       ['28/03/2021', 21],\n",
       "       ['01/08/2020', 20],\n",
       "       ['13/11/2020', 20],\n",
       "       ['03/06/2021', 20],\n",
       "       ['26/04/2021', 20],\n",
       "       ['28/04/2021', 20],\n",
       "       ['02/09/2020', 19],\n",
       "       ['01/01/2021', 19],\n",
       "       ['13/05/2020', 19],\n",
       "       ['04/06/2021', 18],\n",
       "       ['19/07/2020', 18],\n",
       "       ['14/02/2021', 18],\n",
       "       ['16/09/2020', 18],\n",
       "       ['27/11/2020', 17],\n",
       "       ['31/01/2021', 17],\n",
       "       ['14/09/2020', 17],\n",
       "       ['06/12/2020', 17],\n",
       "       ['29/09/2020', 17],\n",
       "       ['31/03/2021', 17],\n",
       "       ['14/11/2020', 16],\n",
       "       ['25/12/2020', 16],\n",
       "       ['19/12/2020', 16],\n",
       "       ['28/05/2021', 16],\n",
       "       ['01/04/2021', 15],\n",
       "       ['16/03/2021', 15],\n",
       "       ['18/07/2020', 15],\n",
       "       ['11/05/2020', 15],\n",
       "       ['11/01/2021', 15],\n",
       "       ['22/12/2020', 15],\n",
       "       ['17/12/2020', 14],\n",
       "       ['02/04/2021', 14],\n",
       "       ['02/02/2021', 14],\n",
       "       ['17/09/2020', 14],\n",
       "       ['01/07/2020', 14],\n",
       "       ['03/09/2020', 14],\n",
       "       ['23/12/2020', 14],\n",
       "       ['20/02/2021', 13],\n",
       "       ['24/02/2021', 13],\n",
       "       ['13/09/2020', 13],\n",
       "       ['16/12/2020', 13],\n",
       "       ['26/09/2020', 13],\n",
       "       ['30/03/2021', 13],\n",
       "       ['21/03/2021', 12],\n",
       "       ['07/11/2020', 12],\n",
       "       ['15/07/2020', 12],\n",
       "       ['25/05/2021', 12],\n",
       "       ['05/06/2021', 12],\n",
       "       ['21/04/2021', 11],\n",
       "       ['01/06/2021', 11],\n",
       "       ['10/03/2021', 11],\n",
       "       ['26/11/2020', 10],\n",
       "       ['02/10/2020', 10],\n",
       "       ['29/01/2021', 10],\n",
       "       ['09/06/2021', 10],\n",
       "       ['14/01/2021', 10],\n",
       "       ['27/09/2020', 9],\n",
       "       ['06/09/2020', 9],\n",
       "       ['13/06/2020', 9],\n",
       "       ['30/05/2021', 9],\n",
       "       ['27/01/2021', 9],\n",
       "       ['07/08/2020', 9],\n",
       "       ['07/07/2020', 9],\n",
       "       ['12/02/2021', 9],\n",
       "       ['05/12/2020', 9],\n",
       "       ['06/07/2020', 8],\n",
       "       ['19/05/2021', 8],\n",
       "       ['03/02/2021', 8],\n",
       "       ['08/02/2021', 8],\n",
       "       ['24/09/2020', 8],\n",
       "       ['24/05/2020', 8],\n",
       "       ['01/03/2021', 7],\n",
       "       ['27/12/2020', 7],\n",
       "       ['12/03/2021', 7],\n",
       "       ['28/08/2020', 7],\n",
       "       ['13/01/2021', 6],\n",
       "       ['12/12/2020', 6],\n",
       "       ['11/12/2020', 6],\n",
       "       ['02/01/2021', 6],\n",
       "       ['17/02/2021', 6],\n",
       "       ['23/11/2020', 6],\n",
       "       ['10/08/2020', 6],\n",
       "       ['05/10/2020', 6],\n",
       "       ['18/09/2020', 6],\n",
       "       ['20/09/2020', 6],\n",
       "       ['30/08/2020', 6],\n",
       "       ['06/05/2021', 5],\n",
       "       ['09/08/2020', 5],\n",
       "       ['06/06/2021', 5],\n",
       "       ['03/01/2021', 5],\n",
       "       ['11/08/2020', 5],\n",
       "       ['07/05/2020', 5],\n",
       "       ['04/01/2021', 5],\n",
       "       ['02/03/2021', 4],\n",
       "       ['11/06/2021', 4],\n",
       "       ['01/09/2020', 4],\n",
       "       ['07/09/2020', 4],\n",
       "       ['22/08/2020', 4],\n",
       "       ['24/08/2020', 4],\n",
       "       ['06/10/2020', 4],\n",
       "       ['26/06/2020', 4],\n",
       "       ['08/09/2020', 4],\n",
       "       ['13/02/2021', 4],\n",
       "       ['13/03/2021', 4],\n",
       "       ['28/09/2020', 4],\n",
       "       ['08/08/2020', 3],\n",
       "       ['29/07/2020', 3],\n",
       "       ['30/11/2020', 3],\n",
       "       ['26/05/2021', 3],\n",
       "       ['20/12/2020', 3],\n",
       "       ['16/08/2020', 3],\n",
       "       ['07/10/2020', 3],\n",
       "       ['09/07/2020', 3],\n",
       "       ['21/10/2020', 3],\n",
       "       ['29/05/2021', 2],\n",
       "       ['16/07/2020', 2],\n",
       "       ['19/08/2020', 2],\n",
       "       ['09/09/2020', 2],\n",
       "       ['21/02/2021', 2],\n",
       "       ['02/08/2020', 2],\n",
       "       ['23/08/2020', 2],\n",
       "       ['25/03/2021', 2],\n",
       "       ['03/08/2020', 2],\n",
       "       ['04/08/2020', 2],\n",
       "       ['23/02/2021', 1],\n",
       "       ['29/08/2020', 1],\n",
       "       ['20/08/2020', 1],\n",
       "       ['30/12/2020', 1],\n",
       "       ['10/02/2021', 1],\n",
       "       ['08/01/2021', 1],\n",
       "       ['27/02/2021', 1]], dtype=object)"
      ]
     },
     "execution_count": 162,
     "metadata": {},
     "output_type": "execute_result"
    }
   ],
   "source": [
    "most_msg_date = itemfreq(df['Date'])\n",
    "most_msg_date = most_msg_date[most_msg_date[:,-1].argsort()][::-1]\n",
    "most_msg_date"
   ]
  },
  {
   "cell_type": "code",
   "execution_count": 163,
   "id": "965cdf00",
   "metadata": {},
   "outputs": [
    {
     "data": {
      "image/png": "[encoded data removed]",
      "text/plain": [
       "<Figure size 432x288 with 1 Axes>"
      ]
     },
     "metadata": {
      "needs_background": "light"
     },
     "output_type": "display_data"
    }
   ],
   "source": [
    "fig,ax = plt.subplots()\n",
    "\n",
    "\n",
    "y_pos = np.arange(10)\n",
    "\n",
    "ax.barh(y_pos,most_msg_date[:10,1],align = 'center')\n",
    "ax.set_yticks(y_pos)\n",
    "ax.set_yticklabels(most_msg_date[:10,0])\n",
    "# ax.set_xticks(y)\n",
    "ax.set_title(\"Frequency of chats on different dates\")\n",
    "ax.invert_yaxis()\n"
   ]
  },
  {
   "cell_type": "markdown",
   "id": "d0741573",
   "metadata": {},
   "source": [
    "### Time when mostly chatting is done"
   ]
  },
  {
   "cell_type": "code",
   "execution_count": 164,
   "id": "ac076020",
   "metadata": {},
   "outputs": [
    {
     "name": "stderr",
     "output_type": "stream",
     "text": [
      "/home/rudviq/.local/lib/python3.6/site-packages/ipykernel_launcher.py:1: DeprecationWarning: `itemfreq` is deprecated!\n",
      "`itemfreq` is deprecated and will be removed in a future version. Use instead `np.unique(..., return_counts=True)`\n",
      "  \"\"\"Entry point for launching an IPython kernel.\n"
     ]
    },
    {
     "data": {
      "text/plain": [
       "array([['22:26', 96],\n",
       "       ['22:25', 95],\n",
       "       ['22:14', 92],\n",
       "       ...,\n",
       "       ['05:09', 1],\n",
       "       ['05:02', 1],\n",
       "       ['02:45', 1]], dtype=object)"
      ]
     },
     "execution_count": 164,
     "metadata": {},
     "output_type": "execute_result"
    }
   ],
   "source": [
    "most_msg_time = itemfreq(df['Time'])\n",
    "# df['Time']= df['Time'][df['Time'][:,1].argsort()][::-1]\n",
    "most_msg_time = most_msg_time[most_msg_time[:,1].argsort()][::-1]\n",
    "most_msg_time"
   ]
  },
  {
   "cell_type": "code",
   "execution_count": 165,
   "id": "9b3e2def",
   "metadata": {},
   "outputs": [
    {
     "data": {
      "image/png": "[encoded data removed]",
      "text/plain": [
       "<Figure size 432x288 with 1 Axes>"
      ]
     },
     "metadata": {
      "needs_background": "light"
     },
     "output_type": "display_data"
    }
   ],
   "source": [
    "fig,ax = plt.subplots()\n",
    "\n",
    "\n",
    "y_pos = np.arange(10)\n",
    "\n",
    "ax.barh(y_pos,most_msg_time[:10,1],align = 'center')\n",
    "ax.set_yticks(y_pos)\n",
    "ax.set_yticklabels(most_msg_time[:10,0])\n",
    "# ax.set_xticks(y)\n",
    "ax.set_title(\"Frequency of chats on different times\")\n",
    "ax.invert_yaxis()\n"
   ]
  },
  {
   "cell_type": "markdown",
   "id": "08ea4cf2",
   "metadata": {},
   "source": [
    "## Calculating number of messages per hour"
   ]
  },
  {
   "cell_type": "code",
   "execution_count": 203,
   "id": "6b095beb",
   "metadata": {},
   "outputs": [],
   "source": [
    "import math\n",
    "\n",
    "a = Start_date + ' '+Start_time\n",
    "b = End_date + ' '+ End_time\n",
    "\n",
    "start_hour = datetime.datetime.strptime(a,'%d/%m/%Y %H:%M')\n",
    "end_hour = datetime.datetime.strptime(b,'%d/%m/%Y %H:%M')\n",
    "\n",
    "Diff = end_hour-start_hour\n",
    "no_of_hours = Diff.seconds/3600 + Diff.days *24\n",
    "\n",
    "no_of_days = math.ceil(no_of_hours/24)\n",
    "no_of_days\n",
    "\n",
    "no_of_week =math.ceil(no_of_days/7)\n",
    "no_of_week\n",
    "\n",
    "no_of_month = (end_hour.year - start_hour.year)*12 + (end_hour.month - start_hour.month)\n",
    "no_of_month\n",
    "\n",
    "no_of_year = (end_hour.year - start_hour.year)\n"
   ]
  },
  {
   "cell_type": "code",
   "execution_count": 208,
   "id": "8c6e94d7",
   "metadata": {},
   "outputs": [
    {
     "data": {
      "text/plain": [
       "3.7245849654915126"
      ]
     },
     "execution_count": 208,
     "metadata": {},
     "output_type": "execute_result"
    }
   ],
   "source": [
    "msg_per_year = Total_msg / no_of_year\n",
    "msg_per_year\n",
    "\n",
    "msg_per_week = Total_msg/ no_of_week\n",
    "msg_per_week\n",
    "\n",
    "msg_per_month = Total_msg/no_of_month\n",
    "msg_per_month\n",
    "\n",
    "msg_per_day = Total_msg / no_of_days\n",
    "msg_per_day\n",
    "\n",
    "msg_per_hour = Total_msg/no_of_hours\n",
    "msg_per_hour"
   ]
  },
  {
   "cell_type": "code",
   "execution_count": null,
   "id": "27b658c3",
   "metadata": {},
   "outputs": [],
   "source": []
  },
  {
   "cell_type": "code",
   "execution_count": 167,
   "id": "5d70d0db",
   "metadata": {
    "scrolled": true
   },
   "outputs": [
    {
     "name": "stdout",
     "output_type": "stream",
     "text": [
      "[4586, 6427, 6327, 8836, 5221, 3398, 2483, 2657]\n"
     ]
    }
   ],
   "source": [
    "print(most_msg_by_user)"
   ]
  },
  {
   "cell_type": "code",
   "execution_count": 168,
   "id": "71d414bd",
   "metadata": {},
   "outputs": [
    {
     "name": "stdout",
     "output_type": "stream",
     "text": [
      "[17503, 28338, 39070, 36937, 33773, 16652, 7786, 8296]\n"
     ]
    }
   ],
   "source": [
    "print(no_of_words)"
   ]
  },
  {
   "cell_type": "code",
   "execution_count": 169,
   "id": "867dc8c2",
   "metadata": {},
   "outputs": [
    {
     "name": "stdout",
     "output_type": "stream",
     "text": [
      "[72396, 111142, 162532, 150429, 137660, 67933, 28819, 35124]\n"
     ]
    }
   ],
   "source": [
    "print(tot_no_text)"
   ]
  },
  {
   "cell_type": "code",
   "execution_count": 170,
   "id": "fc6f0859",
   "metadata": {},
   "outputs": [
    {
     "name": "stdout",
     "output_type": "stream",
     "text": [
      "[3.959954751131222, 4.790870667793745, 6.653610354223433, 4.400929345883474, 8.613363937770977, 5.350899742930591, 3.3273504273504275, 3.373729158194388]\n"
     ]
    }
   ],
   "source": [
    "print(avg_words)"
   ]
  },
  {
   "cell_type": "code",
   "execution_count": 171,
   "id": "51d57b50",
   "metadata": {},
   "outputs": [
    {
     "name": "stdout",
     "output_type": "stream",
     "text": [
      "[166, 512, 455, 443, 1300, 286, 143, 198]\n"
     ]
    }
   ],
   "source": [
    "print(no_of_media)"
   ]
  },
  {
   "cell_type": "code",
   "execution_count": 172,
   "id": "fef90eb4",
   "metadata": {},
   "outputs": [
    {
     "name": "stdout",
     "output_type": "stream",
     "text": [
      "[2157, 4377, 2206, 3818, 2437, 5611, 2003, 1487]\n"
     ]
    }
   ],
   "source": [
    "print(no_of_emoji)"
   ]
  },
  {
   "cell_type": "markdown",
   "id": "46e79be6",
   "metadata": {},
   "source": [
    "## Testing \n"
   ]
  },
  {
   "cell_type": "code",
   "execution_count": 173,
   "id": "7bd8a3e6",
   "metadata": {},
   "outputs": [
    {
     "data": {
      "text/plain": [
       "35382"
      ]
     },
     "execution_count": 173,
     "metadata": {},
     "output_type": "execute_result"
    }
   ],
   "source": [
    "# test_emoji = re.findall(r'[^\\w\\s,.]',chats_per_person_wo[0])\n",
    "# len(test_emoji)\n",
    "sum_test_emoji=0\n",
    "for i in range(8):\n",
    "    test_emoji = re.findall(r'[^\\w\\s,.]',chats_per_person_wo[i])\n",
    "    sum_test_emoji += len(test_emoji)\n",
    "    \n",
    "sum_test_emoji"
   ]
  },
  {
   "cell_type": "code",
   "execution_count": 174,
   "id": "64976067",
   "metadata": {},
   "outputs": [
    {
     "name": "stdout",
     "output_type": "stream",
     "text": [
      "Total messages:  39935\n",
      "Total no of letters:  766035\n",
      "Total files(media):  3503\n",
      "Total words:  188355\n",
      "Total emojis:  24096\n"
     ]
    }
   ],
   "source": [
    "sum=0\n",
    "sum1=0\n",
    "sum2=0\n",
    "sum3 = 0\n",
    "sum4=0\n",
    "for i in range(8):\n",
    "    sum += most_msg_by_user[i]\n",
    "    sum1 += tot_no_text[i]\n",
    "    sum2 += no_of_media[i]\n",
    "    sum3 += no_of_words[i]\n",
    "    sum4 += no_of_emoji[i]\n",
    "    \n",
    "    \n",
    "# sum\n",
    "# sum1\n",
    "# # sum2\n",
    "# sum3\n",
    "# sum4\n",
    "print('Total messages: ',sum)\n",
    "print('Total no of letters: ',sum1)\n",
    "print('Total files(media): ',sum2)\n",
    "print('Total words: ',sum3)\n",
    "print('Total emojis: ',sum4)"
   ]
  },
  {
   "cell_type": "code",
   "execution_count": 175,
   "id": "0f11633e",
   "metadata": {},
   "outputs": [
    {
     "name": "stdout",
     "output_type": "stream",
     "text": [
      "[2157, 4377, 2206, 3818, 2437, 5611, 2003, 1487]\n"
     ]
    }
   ],
   "source": [
    "print(no_of_emoji)"
   ]
  },
  {
   "cell_type": "code",
   "execution_count": 176,
   "id": "c627d6b3",
   "metadata": {},
   "outputs": [
    {
     "data": {
      "text/plain": [
       "801417"
      ]
     },
     "execution_count": 176,
     "metadata": {},
     "output_type": "execute_result"
    }
   ],
   "source": [
    "sum1+ sum_test_emoji"
   ]
  },
  {
   "cell_type": "code",
   "execution_count": 177,
   "id": "9d9c92b0",
   "metadata": {},
   "outputs": [
    {
     "data": {
      "text/plain": [
       "[2157, 4377, 2206, 3818, 2437, 5611, 2003, 1487]"
      ]
     },
     "execution_count": 177,
     "metadata": {},
     "output_type": "execute_result"
    }
   ],
   "source": [
    "import emoji\n",
    "\n",
    "no_of_emoji_w=[]\n",
    "emojis_iter_w = map(lambda y: y, emoji.UNICODE_EMOJI['en'].keys())\n",
    "regex_set = re.compile('|'.join(re.escape(em) for em in emojis_iter_w))\n",
    "\n",
    "for i in range(len(user_list)):\n",
    "    new_list = regex_set.findall(chats_per_person[i]) \n",
    "    new_list1 = regex_set.findall(chats_per_person[2]) \n",
    "    no_of_emoji_w.append(len(new_list))\n",
    "    \n",
    "no_of_emoji_w"
   ]
  },
  {
   "cell_type": "code",
   "execution_count": 178,
   "id": "5771602c",
   "metadata": {},
   "outputs": [
    {
     "data": {
      "text/plain": [
       "24096"
      ]
     },
     "execution_count": 178,
     "metadata": {},
     "output_type": "execute_result"
    }
   ],
   "source": [
    "s=0\n",
    "for i in range(8):\n",
    "    s+=no_of_emoji_w[i]\n",
    "s"
   ]
  },
  {
   "cell_type": "code",
   "execution_count": 179,
   "id": "48fb7eb2",
   "metadata": {},
   "outputs": [
    {
     "data": {
      "text/plain": [
       "8        Iss mehangayi ke daur me ek unit se 20 obj vo ...\n",
       "15                                     Me bhi vahi bol rha\n",
       "21                        Chill janata curfew hai jao Todo\n",
       "25                              Chalo dosto apna to hogaya\n",
       "26                          Leaving through emergency exit\n",
       "                               ...                        \n",
       "36410                                                 nahi\n",
       "36411                                                   🤣🤣\n",
       "36413    nahi me kal register kela n ajj chi appointmen...\n",
       "36423                                                    😂\n",
       "36428                                                  🤣🤣🤣\n",
       "Name: Whatsapp Chats, Length: 6111, dtype: object"
      ]
     },
     "execution_count": 179,
     "metadata": {},
     "output_type": "execute_result"
    }
   ],
   "source": [
    "df_wo_media[\"Whatsapp Chats\"][df[\"Users\"]==user_list[2]]"
   ]
  },
  {
   "cell_type": "code",
   "execution_count": 180,
   "id": "1c527d27",
   "metadata": {},
   "outputs": [
    {
     "data": {
      "text/plain": [
       "['😂',\n",
       " '👍',\n",
       " '🏻',\n",
       " '😂',\n",
       " '😂',\n",
       " '😂',\n",
       " '😂',\n",
       " '😂',\n",
       " '😂',\n",
       " '😂',\n",
       " '😂',\n",
       " '🙏',\n",
       " '🏻',\n",
       " '🙏',\n",
       " '🏻',\n",
       " '🙏',\n",
       " '🏻',\n",
       " '🙏',\n",
       " '🏻',\n",
       " '🙏',\n",
       " '🏻',\n",
       " '😍',\n",
       " '😂',\n",
       " '😂',\n",
       " '😂',\n",
       " '😂',\n",
       " '😂',\n",
       " '😂',\n",
       " '😆',\n",
       " '😂',\n",
       " '😂',\n",
       " '😂',\n",
       " '😂',\n",
       " '😂',\n",
       " '🎵',\n",
       " '🎶',\n",
       " '🎶',\n",
       " '🎶',\n",
       " '🤔',\n",
       " '😂',\n",
       " '😂',\n",
       " '😂',\n",
       " '🤔',\n",
       " '😂',\n",
       " '😂',\n",
       " '😂',\n",
       " '😂',\n",
       " '😂',\n",
       " '😂',\n",
       " '😂',\n",
       " '😂',\n",
       " '😂',\n",
       " '😂',\n",
       " '😂',\n",
       " '😂',\n",
       " '😂',\n",
       " '😂',\n",
       " '🔥',\n",
       " '🔥',\n",
       " '🔥',\n",
       " '😂',\n",
       " '🤔',\n",
       " '😂',\n",
       " '😂',\n",
       " '😂',\n",
       " '😂',\n",
       " '😂',\n",
       " '😂',\n",
       " '😂',\n",
       " '😂',\n",
       " '😂',\n",
       " '😂',\n",
       " '😂',\n",
       " '🔥',\n",
       " '🔥',\n",
       " '🔥',\n",
       " '🔥',\n",
       " '🔥',\n",
       " '🔥',\n",
       " '🙈',\n",
       " '🙈',\n",
       " '🙈',\n",
       " '🙈',\n",
       " '🙈',\n",
       " '🙈',\n",
       " '😂',\n",
       " '😂',\n",
       " '😂',\n",
       " '😂',\n",
       " '😂',\n",
       " '😂',\n",
       " '😂',\n",
       " '😂',\n",
       " '😂',\n",
       " '😂',\n",
       " '😂',\n",
       " '😂',\n",
       " '😂',\n",
       " '😂',\n",
       " '😂',\n",
       " '😂',\n",
       " '😂',\n",
       " '😂',\n",
       " '😼',\n",
       " '😂',\n",
       " '😂']"
      ]
     },
     "execution_count": 180,
     "metadata": {},
     "output_type": "execute_result"
    }
   ],
   "source": [
    "new_list1[2100:]"
   ]
  },
  {
   "cell_type": "code",
   "execution_count": 181,
   "id": "5527dea6",
   "metadata": {},
   "outputs": [
    {
     "data": {
      "text/plain": [
       "['Athrya',\n",
       " 'ko',\n",
       " 'bhaga',\n",
       " 'diya',\n",
       " 'tum',\n",
       " 'logon',\n",
       " 'ne',\n",
       " '😂😂😂😂',\n",
       " 'Coronavirus',\n",
       " 'death',\n",
       " 'toll',\n",
       " '+2',\n",
       " '😂😂😂',\n",
       " 'Sarang?',\n",
       " 'Lon?',\n",
       " '*kon',\n",
       " 'Guys...',\n",
       " 'Contagion',\n",
       " 'Yeh',\n",
       " 'movie',\n",
       " 'dekho',\n",
       " 'Feels',\n",
       " 'so',\n",
       " 'real..',\n",
       " 'Spread',\n",
       " 'of',\n",
       " 'a',\n",
       " 'virus',\n",
       " 'Online',\n",
       " 'lecture',\n",
       " 'karna',\n",
       " 'hai',\n",
       " 'kya?',\n",
       " 'Aaj',\n",
       " 'ka',\n",
       " 'din',\n",
       " 'karenge?',\n",
       " 'Same...',\n",
       " 'Kuch',\n",
       " 'nahi',\n",
       " 'Corona',\n",
       " 'chal',\n",
       " 'raha',\n",
       " 'hai',\n",
       " '0',\n",
       " 'Score',\n",
       " 'kay',\n",
       " 'ahe??',\n",
       " '🤣🤣🤣🤣',\n",
       " '😰',\n",
       " '😂😂',\n",
       " 'Chalo',\n",
       " 'kuch',\n",
       " 'karte',\n",
       " 'hai..',\n",
       " 'Nahi',\n",
       " 're',\n",
       " 'khana',\n",
       " 'kha',\n",
       " 'raha',\n",
       " 'tha',\n",
       " '😂😂',\n",
       " '1',\n",
       " 'lakh',\n",
       " 'Mi',\n",
       " 'nahi',\n",
       " 'kela',\n",
       " 're🙄',\n",
       " 'What',\n",
       " 'swades?',\n",
       " 'Movie?',\n",
       " 'Wow',\n",
       " '<Media',\n",
       " 'omitted>',\n",
       " 'Ritya',\n",
       " 'ke',\n",
       " 'pass',\n",
       " 'backup',\n",
       " 'hai',\n",
       " 'Mazyakade',\n",
       " 'plot',\n",
       " 'ahe',\n",
       " 'Ani',\n",
       " 'business',\n",
       " 'takel',\n",
       " 'Kyu',\n",
       " 'dara',\n",
       " 'raha',\n",
       " 'hai?',\n",
       " 'Ha...',\n",
       " 'Delhi',\n",
       " 'bhi',\n",
       " 'lockdown',\n",
       " 'pe',\n",
       " 'hai',\n",
       " 'Kheti',\n",
       " 'hai',\n",
       " 'lekin',\n",
       " 'paani',\n",
       " 'nahi',\n",
       " 'hai',\n",
       " 'Karnataka',\n",
       " 'Hai',\n",
       " 're',\n",
       " 'Ek',\n",
       " 'do',\n",
       " 'din',\n",
       " 'mein',\n",
       " 'pata',\n",
       " 'chalega',\n",
       " 'Sabka',\n",
       " 'Testing',\n",
       " 'chalu',\n",
       " 'kiya',\n",
       " 'hai',\n",
       " 'na',\n",
       " 'abhi?',\n",
       " 'Exactly...',\n",
       " 'Question',\n",
       " 'mark',\n",
       " 'idhar',\n",
       " 'hai',\n",
       " 'Sanchar',\n",
       " 'bandi',\n",
       " 'mhanje',\n",
       " 'kay?',\n",
       " 'Mai',\n",
       " 'abhi',\n",
       " 'groceries',\n",
       " 'lene',\n",
       " 'gaya',\n",
       " 'tha...',\n",
       " 'Sab',\n",
       " 'jagah',\n",
       " 'police..',\n",
       " 'Muze',\n",
       " 'bhi',\n",
       " 'roka',\n",
       " \"He's\",\n",
       " 'weird..',\n",
       " 'Ha',\n",
       " 'Actually',\n",
       " 'uske',\n",
       " 'ghar',\n",
       " 'ke',\n",
       " 'bahar',\n",
       " 'ka',\n",
       " 'hi',\n",
       " 'photo',\n",
       " 'tha',\n",
       " 'woh',\n",
       " 'Mi',\n",
       " 'pn',\n",
       " 'tikdech',\n",
       " 'rahto',\n",
       " 'so',\n",
       " 'mla',\n",
       " 'mahitiye',\n",
       " 'Yes..',\n",
       " 'he',\n",
       " 'should',\n",
       " 'be',\n",
       " 'at',\n",
       " 'home...',\n",
       " 'My',\n",
       " 'cousin',\n",
       " 'in',\n",
       " 'US',\n",
       " 'went',\n",
       " 'for',\n",
       " 'a',\n",
       " 'long',\n",
       " 'walk',\n",
       " 'today',\n",
       " 'Government',\n",
       " 'cancelled',\n",
       " 'all',\n",
       " 'interstate',\n",
       " 'travel',\n",
       " 'in',\n",
       " 'delhi',\n",
       " 'So',\n",
       " 'many',\n",
       " 'UPians',\n",
       " 'were',\n",
       " 'stuck',\n",
       " 'in',\n",
       " 'Delhi,',\n",
       " 'Yeh',\n",
       " 'maine',\n",
       " 'ndtv',\n",
       " 'pe',\n",
       " 'Dekha',\n",
       " 'Yeh',\n",
       " 'ndtv',\n",
       " 'pe',\n",
       " 'Nidhi',\n",
       " 'Razdan',\n",
       " 'kab',\n",
       " 'aati',\n",
       " 'hai?',\n",
       " 'Waiting',\n",
       " 'for',\n",
       " 'her',\n",
       " 'Heard',\n",
       " 'somewhere',\n",
       " 'that',\n",
       " 'Beed',\n",
       " 'city',\n",
       " 'had',\n",
       " '26k',\n",
       " 'punekars',\n",
       " 'and',\n",
       " 'mumbaikars',\n",
       " 'coming',\n",
       " 'in',\n",
       " 'in',\n",
       " 'last',\n",
       " 'couple',\n",
       " 'of',\n",
       " 'days',\n",
       " 'Hao',\n",
       " 'na',\n",
       " 'https://www.washingtonpost.com/health/2020/03/23/coronavirus-isnt-alive-thats-why-its-so-hard-kill/',\n",
       " 'Maharashtra',\n",
       " 'chi',\n",
       " 'century',\n",
       " 'zali',\n",
       " '🎉',\n",
       " 'India',\n",
       " '506',\n",
       " '😂',\n",
       " 'Athrya',\n",
       " 'having',\n",
       " 'a',\n",
       " 'meltdown',\n",
       " 'All',\n",
       " 'is',\n",
       " 'well',\n",
       " '<Media',\n",
       " 'omitted>',\n",
       " '<Media',\n",
       " 'omitted>',\n",
       " 'Olympics',\n",
       " 'postponed',\n",
       " 'by',\n",
       " 'an',\n",
       " 'year..!!!',\n",
       " \"They're\",\n",
       " 'not',\n",
       " 'beating',\n",
       " 'up',\n",
       " 'anyone',\n",
       " 'Good',\n",
       " 'to',\n",
       " 'know',\n",
       " '😂😂😨',\n",
       " \"I've\",\n",
       " 'read',\n",
       " 'somewhere',\n",
       " 'on',\n",
       " 'twitter',\n",
       " 'that',\n",
       " 'only',\n",
       " '6%',\n",
       " 'of',\n",
       " 'total',\n",
       " 'cases',\n",
       " 'are',\n",
       " 'in',\n",
       " 'countries',\n",
       " 'where',\n",
       " 'average',\n",
       " 'temperature',\n",
       " 'is',\n",
       " 'greater',\n",
       " 'than',\n",
       " '18°C.',\n",
       " 'Ho',\n",
       " 'sakta',\n",
       " 'hai',\n",
       " 'Yeh',\n",
       " 'Modi',\n",
       " 'saala',\n",
       " 'kitna',\n",
       " 'slowly',\n",
       " 'bolta',\n",
       " 'hai....',\n",
       " 'Kab',\n",
       " 'se',\n",
       " 'baat',\n",
       " 'kar',\n",
       " 'raha',\n",
       " 'hai',\n",
       " 'ye...',\n",
       " '😂😂😂',\n",
       " '🤦🏻\\u200d♂',\n",
       " 'Woh',\n",
       " 'kagaj',\n",
       " 'hath',\n",
       " 'mein',\n",
       " 'rakh...',\n",
       " 'Police',\n",
       " 'dikha',\n",
       " 'ki',\n",
       " 'kahaj',\n",
       " 'dikhadena',\n",
       " 'Nahitr',\n",
       " 'he',\n",
       " 'hoil...😂',\n",
       " 'Jau',\n",
       " 'nako',\n",
       " 'mg',\n",
       " 'tu..',\n",
       " 'Happy',\n",
       " 'Gudi',\n",
       " 'Padwa!',\n",
       " '?????',\n",
       " 'Tu',\n",
       " 'baghitlis',\n",
       " 'ka',\n",
       " '??',\n",
       " 'Tr',\n",
       " 'baghun',\n",
       " 'review',\n",
       " 'sang..',\n",
       " 'mh',\n",
       " 'baghto',\n",
       " 'mi',\n",
       " 'Congrats',\n",
       " 'athrya!!!',\n",
       " 'Dekha',\n",
       " 'maine',\n",
       " 'bhi',\n",
       " 'Kya',\n",
       " 'hai',\n",
       " 'nahi',\n",
       " 'samjha',\n",
       " 'https://www.theguardian.com/world/2020/mar/25/bolsonaro-brazil-wouldnt-feel-anything-covid-19-attack-state-lockdowns',\n",
       " 'Brazilian',\n",
       " 'president',\n",
       " 'says',\n",
       " 'he',\n",
       " 'want',\n",
       " 'to',\n",
       " 'reopen',\n",
       " 'schools',\n",
       " 'because',\n",
       " 'only',\n",
       " 'elderly',\n",
       " 'are',\n",
       " 'affected..',\n",
       " '🙄',\n",
       " 'Ikde',\n",
       " 'ala',\n",
       " 'hota',\n",
       " 'kal',\n",
       " 'thoda',\n",
       " 'paus..',\n",
       " 'Tu',\n",
       " 'gharich',\n",
       " 'raha',\n",
       " 'Societies',\n",
       " 'lock',\n",
       " 'kelet',\n",
       " 'punyat',\n",
       " 'asa',\n",
       " 'aikla',\n",
       " 'mi',\n",
       " '😂😂',\n",
       " '😂',\n",
       " 'Ha',\n",
       " 'Chalo',\n",
       " 're',\n",
       " 'Skype',\n",
       " 'call',\n",
       " 'karte',\n",
       " 'hai',\n",
       " '..',\n",
       " 'So',\n",
       " 'laptop',\n",
       " 'varun',\n",
       " 'Maza',\n",
       " 'pn',\n",
       " 'fog',\n",
       " 'ahe',\n",
       " 'Facetime',\n",
       " '??',\n",
       " '\\U0001f92a',\n",
       " 'Skype',\n",
       " 'na',\n",
       " 'final?',\n",
       " 'Download',\n",
       " 'kar',\n",
       " 'raha',\n",
       " 'hu',\n",
       " 'main...',\n",
       " 'Tu',\n",
       " 'laptop',\n",
       " 'pe',\n",
       " 'kar...',\n",
       " 'Fog',\n",
       " 'ayega',\n",
       " 'Nahi',\n",
       " 'toh',\n",
       " 'Kunachya',\n",
       " 'tari',\n",
       " 'phone',\n",
       " 'ghe',\n",
       " 'na',\n",
       " 'mg...',\n",
       " 'Aai',\n",
       " 'papa',\n",
       " 'etc',\n",
       " 'Tula',\n",
       " 'phone',\n",
       " 'bhetla?',\n",
       " 'Food',\n",
       " 'morning',\n",
       " 'sir',\n",
       " 'Aiklay...',\n",
       " 'Bhari',\n",
       " '👏🏻',\n",
       " 'Joker',\n",
       " 'was',\n",
       " 'way',\n",
       " 'ahead',\n",
       " 'of',\n",
       " 'his',\n",
       " 'time..',\n",
       " \"What's\",\n",
       " 'it',\n",
       " 'about?',\n",
       " 'Uh',\n",
       " 'huh',\n",
       " '700',\n",
       " 'cross',\n",
       " '🎉',\n",
       " '😆😆😂',\n",
       " '🤦🏻\\u200d♂',\n",
       " '<Media',\n",
       " 'omitted>',\n",
       " 'Sham',\n",
       " 'ko',\n",
       " '4-5',\n",
       " 'baje',\n",
       " 'you',\n",
       " 'want',\n",
       " 'a',\n",
       " 'big',\n",
       " 'house???',\n",
       " 'Mi',\n",
       " 'good',\n",
       " 'wife',\n",
       " 'choose',\n",
       " 'kela',\n",
       " 'hota😂',\n",
       " '<Media',\n",
       " 'omitted>',\n",
       " 'Varies',\n",
       " 'from',\n",
       " 'person',\n",
       " 'to',\n",
       " 'person',\n",
       " 'Boris',\n",
       " 'Johnson',\n",
       " 'has',\n",
       " 'covid19',\n",
       " '\\U0001f92f\\U0001f92f',\n",
       " 'The',\n",
       " 'the',\n",
       " 'PM',\n",
       " 'of',\n",
       " 'UK.',\n",
       " 'Old',\n",
       " 'people',\n",
       " 'are',\n",
       " 'called',\n",
       " 'boomers',\n",
       " '😂',\n",
       " 'Slang',\n",
       " 'term',\n",
       " 'Ha',\n",
       " 'kon',\n",
       " 'ahet',\n",
       " 'te??',\n",
       " 'Ha',\n",
       " 'Mi',\n",
       " 'dupari',\n",
       " 'pathavla',\n",
       " 'hota',\n",
       " 'hech..',\n",
       " '🤦🏻\\u200d♂',\n",
       " '😆',\n",
       " 'Dyanda',\n",
       " '😍',\n",
       " 'Aa',\n",
       " 'dyanda',\n",
       " 'la',\n",
       " 'kahi',\n",
       " 'nahi',\n",
       " 'mhanaycha',\n",
       " 'Tech',\n",
       " 'te',\n",
       " 'Downloading',\n",
       " '22',\n",
       " 'Iron',\n",
       " 'Man?',\n",
       " \"I'm\",\n",
       " 'signing',\n",
       " 'up',\n",
       " 'now',\n",
       " \"I'm\",\n",
       " 'gauravwarad',\n",
       " 'Ye',\n",
       " 'kiski',\n",
       " 'bate',\n",
       " 'chal',\n",
       " 'rahi',\n",
       " 'hai?',\n",
       " 'Doland',\n",
       " 'who?',\n",
       " 'Ye',\n",
       " 'house',\n",
       " 'party',\n",
       " 'pe',\n",
       " 'Kuch',\n",
       " 'hai',\n",
       " 'Tu',\n",
       " 'download',\n",
       " 'kela',\n",
       " 'Ka?',\n",
       " 'Good',\n",
       " 'night',\n",
       " 'then',\n",
       " 'Yup',\n",
       " 'Guys',\n",
       " 'special',\n",
       " 'ops',\n",
       " 'mein',\n",
       " 'kuch',\n",
       " 'adult',\n",
       " 'scene',\n",
       " 'ya',\n",
       " 'gaaliya',\n",
       " 'hai',\n",
       " 'kya?',\n",
       " 'Papa',\n",
       " 'baithe',\n",
       " 'hai',\n",
       " 'sath',\n",
       " 'mein',\n",
       " 'Toh',\n",
       " 'akele',\n",
       " 'mein',\n",
       " 'dekhu',\n",
       " 'na',\n",
       " '😂😂',\n",
       " 'Ha..',\n",
       " 'last',\n",
       " 'week',\n",
       " 'cha',\n",
       " 'ahe',\n",
       " 'Abhi',\n",
       " 'US',\n",
       " 'ko',\n",
       " 'dekho',\n",
       " '1lakh',\n",
       " 'Ajun',\n",
       " 'pn',\n",
       " 'complete',\n",
       " 'lockdown',\n",
       " 'nahiye',\n",
       " 'tikde',\n",
       " '😂😂😂😂',\n",
       " 'Kal',\n",
       " 'xi',\n",
       " 'la',\n",
       " 'call',\n",
       " 'kelyanantar',\n",
       " 'Coronavirus',\n",
       " 'bolala',\n",
       " 'Xi',\n",
       " 'jimping',\n",
       " 'Chinese',\n",
       " 'pm',\n",
       " 'Kahi',\n",
       " 'pn',\n",
       " 'Ka?',\n",
       " '20',\n",
       " 'trillion',\n",
       " 'dollars',\n",
       " 'chi',\n",
       " 'economy',\n",
       " 'tr',\n",
       " 'ahe',\n",
       " 'Ka',\n",
       " 'tyanchi?',\n",
       " 'Saale',\n",
       " 'ko',\n",
       " 'batman',\n",
       " 'banana',\n",
       " 'tha',\n",
       " 'Muze',\n",
       " 'laga',\n",
       " 'barish',\n",
       " 'chalu',\n",
       " 'hai',\n",
       " 'Me',\n",
       " 'too',\n",
       " \"I'm\",\n",
       " 'watching',\n",
       " 'with',\n",
       " 'younger',\n",
       " 'sister',\n",
       " 'Woh',\n",
       " 'Ganga',\n",
       " 'ke',\n",
       " 'bete',\n",
       " 'Ka',\n",
       " 'naam',\n",
       " 'kya',\n",
       " 'hai?',\n",
       " '🤦🏻\\u200d♂',\n",
       " '\\U0001f92f😨',\n",
       " 'Baher',\n",
       " 'nako',\n",
       " 'jau',\n",
       " 'atta',\n",
       " 'Maharashtra',\n",
       " '186',\n",
       " 'Saam',\n",
       " 'tv',\n",
       " 'Ritya',\n",
       " \"we'll\",\n",
       " 'miss',\n",
       " 'you',\n",
       " '😂😂😂😂',\n",
       " '<Media',\n",
       " 'omitted>',\n",
       " 'Chup',\n",
       " 'ho',\n",
       " 'jao',\n",
       " 'aur',\n",
       " 'TV',\n",
       " 'pe',\n",
       " 'ramayan',\n",
       " 'dekho',\n",
       " 'TV',\n",
       " 'pe',\n",
       " 'Dekh',\n",
       " 'sabke',\n",
       " 'sath..',\n",
       " 'bachpan',\n",
       " 'wali',\n",
       " 'feeling',\n",
       " 'aati',\n",
       " 'hai',\n",
       " 'Are',\n",
       " 'peak',\n",
       " 'in',\n",
       " 'China',\n",
       " 'aake',\n",
       " 'gaya',\n",
       " 'Baki',\n",
       " 'sab',\n",
       " 'countries',\n",
       " 'mein',\n",
       " 'abhi',\n",
       " 'peak',\n",
       " 'pe',\n",
       " 'hai',\n",
       " 'Sita',\n",
       " 'is',\n",
       " 'about',\n",
       " 'to',\n",
       " 'see',\n",
       " 'Ram',\n",
       " 'for',\n",
       " 'the',\n",
       " 'first',\n",
       " 'time...',\n",
       " '😍',\n",
       " 'Pura',\n",
       " 'lockdown',\n",
       " 'kiya',\n",
       " 'tha',\n",
       " 'Then',\n",
       " 'go',\n",
       " 'to',\n",
       " 'China',\n",
       " 'Ye',\n",
       " 'kaunse',\n",
       " 'news',\n",
       " 'padta',\n",
       " 'hai',\n",
       " 're',\n",
       " 'tu??',\n",
       " 'Guys',\n",
       " 'shaktiman',\n",
       " '@',\n",
       " '10',\n",
       " 'pm',\n",
       " 'Dd',\n",
       " 'national',\n",
       " 'Aaj',\n",
       " 'se',\n",
       " 'chalu',\n",
       " 'hone',\n",
       " 'wala',\n",
       " 'hai',\n",
       " 'And',\n",
       " '1pm',\n",
       " 'noon',\n",
       " 'Ramayan',\n",
       " 'bhi',\n",
       " 'Want',\n",
       " 'Ben',\n",
       " '10',\n",
       " 'Chahiye',\n",
       " 'muze',\n",
       " 'Shut',\n",
       " 'up',\n",
       " 'and',\n",
       " 'watch',\n",
       " 'ramayan',\n",
       " '.',\n",
       " '✋🏻',\n",
       " 'Ramayan',\n",
       " 'Dekho',\n",
       " 're',\n",
       " 'Ram',\n",
       " 'sita',\n",
       " 'ki',\n",
       " 'shadi',\n",
       " 'chalu',\n",
       " 'hai',\n",
       " 'Kitne',\n",
       " 'mare?',\n",
       " 'Kal',\n",
       " '20',\n",
       " 'hote',\n",
       " 'na?????',\n",
       " '😨',\n",
       " 'Jalgaon',\n",
       " 'che',\n",
       " 'kiti',\n",
       " '?',\n",
       " 'Ha',\n",
       " 'Kal',\n",
       " 'pahli',\n",
       " 'bar',\n",
       " 'mile',\n",
       " 'aur',\n",
       " 'aaj',\n",
       " 'shadi',\n",
       " '😂😂😂😂😂',\n",
       " 'Special',\n",
       " 'ops',\n",
       " 'ki',\n",
       " 'ending',\n",
       " 'nahi',\n",
       " 'samjha',\n",
       " 'mai..',\n",
       " 'Unke',\n",
       " 'paas',\n",
       " 'bomb',\n",
       " 'kyun',\n",
       " 'nahi',\n",
       " 'the?',\n",
       " 'Oh',\n",
       " 'bhai',\n",
       " '😂😂',\n",
       " 'Toh',\n",
       " 'count',\n",
       " 'bol',\n",
       " 'de...',\n",
       " 'MH',\n",
       " 'govt',\n",
       " 'announced',\n",
       " 'salary',\n",
       " 'cuts',\n",
       " 'for',\n",
       " 'all',\n",
       " 'government',\n",
       " 'employees...',\n",
       " 'Teri',\n",
       " 'shadi',\n",
       " 'ke',\n",
       " 'liye',\n",
       " 'ladki',\n",
       " 'Delhi',\n",
       " 'thi',\n",
       " 'Khatam',\n",
       " 'hogaya',\n",
       " 'ab',\n",
       " 'Maharashtra',\n",
       " '300',\n",
       " 'Mumbai',\n",
       " 'mein',\n",
       " '59',\n",
       " 'badhe',\n",
       " 'Ritya',\n",
       " 'jalgaon',\n",
       " 'wala',\n",
       " 'mela',\n",
       " 'Mumbai',\n",
       " '156',\n",
       " '🤦🏻\\u200d♂🤦🏻\\u200d♂',\n",
       " 'Latur',\n",
       " 'mein',\n",
       " 'nahi',\n",
       " 'hai',\n",
       " 'ab',\n",
       " 'tak',\n",
       " 'Ha',\n",
       " 'Ritya',\n",
       " 'baher',\n",
       " 'ahe',\n",
       " 'bahutek',\n",
       " '..',\n",
       " 'Lelo',\n",
       " '<Media',\n",
       " 'omitted>',\n",
       " 'Ha',\n",
       " '*legendary',\n",
       " 'Hindi',\n",
       " 'movies',\n",
       " '😂',\n",
       " 'Agar',\n",
       " 'marne',\n",
       " 'wala',\n",
       " 'hoga',\n",
       " 'toh',\n",
       " 'bike',\n",
       " 'muze',\n",
       " 'dede',\n",
       " 'yaar',\n",
       " 'Chalega',\n",
       " 'Usme',\n",
       " '56',\n",
       " 'Mumbai',\n",
       " '\\U0001f92f',\n",
       " 'Sir',\n",
       " 'toh',\n",
       " 'event',\n",
       " '8',\n",
       " 'march',\n",
       " 'la',\n",
       " 'hota',\n",
       " 'Before',\n",
       " 'lockdown',\n",
       " 'and',\n",
       " 'all',\n",
       " 'https://www.ndtv.com/india-news/coronavirus-india-delhi-markaz-nizamuddin-mosque-sealed-after-7-covid-19-deaths-850-moved-out-for-qu-2203336',\n",
       " 'https://www.ndtv.com/india-news/coronavirus-india-delhi-markaz-nizamuddin-mosque-sealed-after-7-covid-19-deaths-850-moved-out-for-qu-2203336',\n",
       " 'Wapis',\n",
       " 'tabhi',\n",
       " 'aa',\n",
       " 'gaye',\n",
       " 'the',\n",
       " '😂😂',\n",
       " 'Wapis',\n",
       " 'aa',\n",
       " 'gaye',\n",
       " '😂😂😂',\n",
       " 'Ritya',\n",
       " 'jaldi',\n",
       " 'type',\n",
       " 'kar',\n",
       " 'Yeh',\n",
       " 'toh',\n",
       " 'sabko',\n",
       " 'pata',\n",
       " 'hai',\n",
       " 'Nahi',\n",
       " 'pata',\n",
       " 'Nahi',\n",
       " '😂😂😂😂😂',\n",
       " 'Sampla',\n",
       " 'Abhi',\n",
       " 'ramayan',\n",
       " 'shuru',\n",
       " 'hua',\n",
       " 'hai',\n",
       " 'Laxman',\n",
       " 'ne',\n",
       " 'usko',\n",
       " 'unke',\n",
       " 'mummy',\n",
       " 'ki',\n",
       " 'dekhbhal',\n",
       " 'karne',\n",
       " 'ko',\n",
       " 'bola',\n",
       " 'Urmila',\n",
       " 'ki',\n",
       " 'jai',\n",
       " '😆',\n",
       " '<Media',\n",
       " 'omitted>',\n",
       " 'Aadat',\n",
       " 'nahi',\n",
       " 'hai',\n",
       " 'use',\n",
       " 'Raja',\n",
       " 'ki',\n",
       " 'beti',\n",
       " 'hai',\n",
       " 'na',\n",
       " '😅',\n",
       " 'Yeh',\n",
       " 'sab',\n",
       " 'log',\n",
       " 'bhojpuri',\n",
       " 'bol',\n",
       " 'rahe',\n",
       " 'hai',\n",
       " '😂😂',\n",
       " '@918668611629',\n",
       " 'Ashu',\n",
       " 'ko',\n",
       " 'dikha',\n",
       " 'inspiration',\n",
       " 'milega',\n",
       " 'Ho',\n",
       " 'na',\n",
       " '😂😂',\n",
       " 'Sabka',\n",
       " 'kitna',\n",
       " 'ladla',\n",
       " 'hai..',\n",
       " '😂😂😂😂',\n",
       " 'Kaun',\n",
       " 'tha',\n",
       " 'woh',\n",
       " 'bacchha?',\n",
       " '😭😭😭😭',\n",
       " 'Spoilers',\n",
       " '😠',\n",
       " 'I',\n",
       " 'know',\n",
       " 'the',\n",
       " 'story',\n",
       " 'too...',\n",
       " 'Ad',\n",
       " 'ko',\n",
       " 'bhi',\n",
       " 'abhi',\n",
       " 'ana',\n",
       " 'tha',\n",
       " '😠',\n",
       " 'Mere',\n",
       " 'pass',\n",
       " 'time',\n",
       " 'dikhane',\n",
       " 'wali',\n",
       " 'ghadi',\n",
       " 'hai',\n",
       " 'Isko',\n",
       " 'kaise',\n",
       " 'pata',\n",
       " 'chala',\n",
       " 'Ramayan',\n",
       " 'Mahabharat',\n",
       " 'Shravan',\n",
       " 'ki',\n",
       " 'maaa',\n",
       " '😭😭😭😭',\n",
       " 'Abe',\n",
       " 'woh',\n",
       " 'mar',\n",
       " 'gayi',\n",
       " 'abhi',\n",
       " '😭😭😭',\n",
       " 'Shrap',\n",
       " 'mil',\n",
       " 'gaya',\n",
       " 'Dashrath',\n",
       " 'marega',\n",
       " 'abhi',\n",
       " '😭😭😭😭',\n",
       " 'I',\n",
       " \"can't\",\n",
       " 'watch',\n",
       " 'it😭😭',\n",
       " '😂😂😂',\n",
       " 'Me',\n",
       " 'too',\n",
       " '😭😭😭😭',\n",
       " '\\U0001f92f',\n",
       " 'Kal',\n",
       " 'subah',\n",
       " 'ke',\n",
       " 'episode',\n",
       " 'mein',\n",
       " 'dikhega',\n",
       " 'ab',\n",
       " \"I'm\",\n",
       " 'about',\n",
       " ...]"
      ]
     },
     "execution_count": 181,
     "metadata": {},
     "output_type": "execute_result"
    }
   ],
   "source": [
    "no_of_words_w =[]\n",
    "for i in range(len(user_list)):\n",
    "    N_= chats_per_person[i].split(' ')\n",
    "    no_of_words_w.append(len(N_))\n",
    "    \n",
    "no_of_words_w\n",
    "\n",
    "avg_ = no_of_words_w[0]/most_msg_by_user[0]\n",
    "avg_\n",
    "N_"
   ]
  },
  {
   "cell_type": "code",
   "execution_count": 182,
   "id": "6c355a36",
   "metadata": {},
   "outputs": [
    {
     "data": {
      "text/plain": [
       "[74388, 117286, 167992, 155745, 153260, 71365, 30535, 37500]"
      ]
     },
     "execution_count": 182,
     "metadata": {},
     "output_type": "execute_result"
    }
   ],
   "source": [
    "tot_no_text_final =[]\n",
    "for i in range(len(user_list)):\n",
    "    only_text = re.sub(r'[^a-zA-Z0-9]',r'',chats_per_person[i])\n",
    "#     l=only_text.split(' ')\n",
    "#     while(\"\" in only_text):\n",
    "#         only_text.remove(\"\")\n",
    "    tot_no_text_final.append(len(only_text))\n",
    "    \n",
    "tot_no_text_final"
   ]
  },
  {
   "cell_type": "code",
   "execution_count": 183,
   "id": "c3d43285",
   "metadata": {},
   "outputs": [
    {
     "data": {
      "text/plain": [
       "808071"
      ]
     },
     "execution_count": 183,
     "metadata": {},
     "output_type": "execute_result"
    }
   ],
   "source": [
    "q=0\n",
    "for i in range(8):\n",
    "    q+=tot_no_text_final[i]\n",
    "    \n",
    "q"
   ]
  },
  {
   "cell_type": "code",
   "execution_count": 184,
   "id": "9fc5e5e3",
   "metadata": {},
   "outputs": [
    {
     "data": {
      "text/html": [
       "<div>\n",
       "<style scoped>\n",
       "    .dataframe tbody tr th:only-of-type {\n",
       "        vertical-align: middle;\n",
       "    }\n",
       "\n",
       "    .dataframe tbody tr th {\n",
       "        vertical-align: top;\n",
       "    }\n",
       "\n",
       "    .dataframe thead th {\n",
       "        text-align: right;\n",
       "    }\n",
       "</style>\n",
       "<table border=\"1\" class=\"dataframe\">\n",
       "  <thead>\n",
       "    <tr style=\"text-align: right;\">\n",
       "      <th></th>\n",
       "      <th>Date</th>\n",
       "      <th>Time</th>\n",
       "      <th>Users</th>\n",
       "      <th>Whatsapp Chats</th>\n",
       "    </tr>\n",
       "  </thead>\n",
       "  <tbody>\n",
       "    <tr>\n",
       "      <th>0</th>\n",
       "      <td>21/03/2020</td>\n",
       "      <td>18:54</td>\n",
       "      <td>Vamshikiran</td>\n",
       "      <td>?</td>\n",
       "    </tr>\n",
       "    <tr>\n",
       "      <th>1</th>\n",
       "      <td>21/03/2020</td>\n",
       "      <td>18:54</td>\n",
       "      <td>Rushikesh N</td>\n",
       "      <td>Kiran bhai boleeyyy</td>\n",
       "    </tr>\n",
       "    <tr>\n",
       "      <th>2</th>\n",
       "      <td>21/03/2020</td>\n",
       "      <td>18:54</td>\n",
       "      <td>Vamshikiran</td>\n",
       "      <td>Kya kuch samajh nhi aaya</td>\n",
       "    </tr>\n",
       "    <tr>\n",
       "      <th>3</th>\n",
       "      <td>21/03/2020</td>\n",
       "      <td>18:54</td>\n",
       "      <td>Vamshikiran</td>\n",
       "      <td>context hi clear nhi hai</td>\n",
       "    </tr>\n",
       "    <tr>\n",
       "      <th>4</th>\n",
       "      <td>21/03/2020</td>\n",
       "      <td>18:54</td>\n",
       "      <td>Rushikesh N</td>\n",
       "      <td>Sarang ko bole kya ki write up ki jagah mcqs s...</td>\n",
       "    </tr>\n",
       "    <tr>\n",
       "      <th>...</th>\n",
       "      <td>...</td>\n",
       "      <td>...</td>\n",
       "      <td>...</td>\n",
       "      <td>...</td>\n",
       "    </tr>\n",
       "    <tr>\n",
       "      <th>39930</th>\n",
       "      <td>10/06/2021</td>\n",
       "      <td>16:28</td>\n",
       "      <td>Atharva Puranik</td>\n",
       "      <td>&lt;Media omitted&gt;</td>\n",
       "    </tr>\n",
       "    <tr>\n",
       "      <th>39931</th>\n",
       "      <td>11/06/2021</td>\n",
       "      <td>11:12</td>\n",
       "      <td>Rudviq</td>\n",
       "      <td>&lt;Media omitted&gt;</td>\n",
       "    </tr>\n",
       "    <tr>\n",
       "      <th>39932</th>\n",
       "      <td>11/06/2021</td>\n",
       "      <td>11:24</td>\n",
       "      <td>Atharva Puranik</td>\n",
       "      <td>🥳</td>\n",
       "    </tr>\n",
       "    <tr>\n",
       "      <th>39933</th>\n",
       "      <td>11/06/2021</td>\n",
       "      <td>12:44</td>\n",
       "      <td>Vamshikiran</td>\n",
       "      <td>Noice</td>\n",
       "    </tr>\n",
       "    <tr>\n",
       "      <th>39934</th>\n",
       "      <td>11/06/2021</td>\n",
       "      <td>12:54</td>\n",
       "      <td>Gaurav Warad</td>\n",
       "      <td>😲</td>\n",
       "    </tr>\n",
       "  </tbody>\n",
       "</table>\n",
       "<p>39935 rows × 4 columns</p>\n",
       "</div>"
      ],
      "text/plain": [
       "             Date   Time            Users  \\\n",
       "0      21/03/2020  18:54      Vamshikiran   \n",
       "1      21/03/2020  18:54      Rushikesh N   \n",
       "2      21/03/2020  18:54      Vamshikiran   \n",
       "3      21/03/2020  18:54      Vamshikiran   \n",
       "4      21/03/2020  18:54      Rushikesh N   \n",
       "...           ...    ...              ...   \n",
       "39930  10/06/2021  16:28  Atharva Puranik   \n",
       "39931  11/06/2021  11:12           Rudviq   \n",
       "39932  11/06/2021  11:24  Atharva Puranik   \n",
       "39933  11/06/2021  12:44      Vamshikiran   \n",
       "39934  11/06/2021  12:54     Gaurav Warad   \n",
       "\n",
       "                                          Whatsapp Chats  \n",
       "0                                                      ?  \n",
       "1                                    Kiran bhai boleeyyy  \n",
       "2                               Kya kuch samajh nhi aaya  \n",
       "3                               context hi clear nhi hai  \n",
       "4      Sarang ko bole kya ki write up ki jagah mcqs s...  \n",
       "...                                                  ...  \n",
       "39930                                    <Media omitted>  \n",
       "39931                                    <Media omitted>  \n",
       "39932                                                  🥳  \n",
       "39933                                              Noice  \n",
       "39934                                                  😲  \n",
       "\n",
       "[39935 rows x 4 columns]"
      ]
     },
     "execution_count": 184,
     "metadata": {},
     "output_type": "execute_result"
    }
   ],
   "source": [
    "df"
   ]
  },
  {
   "cell_type": "code",
   "execution_count": null,
   "id": "56826fd9",
   "metadata": {},
   "outputs": [],
   "source": []
  },
  {
   "cell_type": "code",
   "execution_count": null,
   "id": "5ed00a1c",
   "metadata": {},
   "outputs": [],
   "source": []
  },
  {
   "cell_type": "markdown",
   "id": "54df27bc",
   "metadata": {},
   "source": [
    "\n",
    "# Graph testing"
   ]
  },
  {
   "cell_type": "code",
   "execution_count": 217,
   "id": "9b7f0fe0",
   "metadata": {},
   "outputs": [
    {
     "data": {
      "image/png": "[encoded data removed]",
      "text/plain": [
       "<Figure size 432x288 with 1 Axes>"
      ]
     },
     "metadata": {
      "needs_background": "light"
     },
     "output_type": "display_data"
    }
   ],
   "source": [
    "fig,ax = plt.subplots()\n",
    "y= np.array(most_msg_by_user)\n",
    "chk_index= y[y.argsort()][::-1]\n",
    "\n",
    "\n",
    "pips=[0]*len(user_list)\n",
    "for i in range(len(user_list)):\n",
    "    pips[i] = user_list[y.argsort()[::-1][i]] \n",
    "\n",
    "y_pos = np.arange(len(user_list))\n",
    "\n",
    "ax.barh(y_pos,chk_index,align = 'center')\n",
    "ax.set_yticks(y_pos)\n",
    "ax.set_yticklabels(pips)\n",
    "# ax.set_xticks(y)\n",
    "ax.set_title(\"Number of messages per person\")\n",
    "ax.invert_yaxis()\n",
    "\n",
    "\n"
   ]
  },
  {
   "cell_type": "code",
   "execution_count": 221,
   "id": "7d262b2e",
   "metadata": {},
   "outputs": [
    {
     "data": {
      "image/png": "[encoded data removed]",
      "text/plain": [
       "<Figure size 432x288 with 1 Axes>"
      ]
     },
     "metadata": {
      "needs_background": "light"
     },
     "output_type": "display_data"
    }
   ],
   "source": [
    "fig,ax = plt.subplots()\n",
    "y= np.array(tot_no_text)\n",
    "chk_index= y[y.argsort()][::-1]\n",
    "\n",
    "\n",
    "pips=[0]*len(user_list)\n",
    "for i in range(len(user_list)):\n",
    "    pips[i] = user_list[y.argsort()[::-1][i]] \n",
    "\n",
    "y_pos = np.arange(len(user_list))\n",
    "\n",
    "ax.barh(y_pos,chk_index,align = 'center')\n",
    "ax.set_yticks(y_pos)\n",
    "ax.set_yticklabels(pips)\n",
    "# ax.set_xticks(y)\n",
    "ax.set_title(\"Number of text per person\")\n",
    "ax.invert_yaxis()\n",
    "\n"
   ]
  },
  {
   "cell_type": "code",
   "execution_count": 220,
   "id": "c526476f",
   "metadata": {},
   "outputs": [
    {
     "data": {
      "image/png": "[encoded data removed]",
      "text/plain": [
       "<Figure size 432x288 with 1 Axes>"
      ]
     },
     "metadata": {
      "needs_background": "light"
     },
     "output_type": "display_data"
    }
   ],
   "source": [
    "fig,ax = plt.subplots()\n",
    "y= np.array(no_of_emoji)\n",
    "chk_index= y[y.argsort()][::-1]\n",
    "\n",
    "\n",
    "pips=[0]*len(user_list)\n",
    "for i in range(len(user_list)):\n",
    "    pips[i] = user_list[y.argsort()[::-1][i]] \n",
    "\n",
    "y_pos = np.arange(len(user_list))\n",
    "\n",
    "ax.barh(y_pos,chk_index,align = 'center')\n",
    "ax.set_yticks(y_pos)\n",
    "ax.set_yticklabels(pips)\n",
    "# ax.set_xticks(y)\n",
    "ax.set_title(\"Number of emojis per person\")\n",
    "ax.invert_yaxis()\n",
    "\n"
   ]
  },
  {
   "cell_type": "code",
   "execution_count": 224,
   "id": "7bd9d65e",
   "metadata": {},
   "outputs": [
    {
     "data": {
      "image/png": "[encoded data removed]",
      "text/plain": [
       "<Figure size 432x288 with 1 Axes>"
      ]
     },
     "metadata": {
      "needs_background": "light"
     },
     "output_type": "display_data"
    }
   ],
   "source": [
    "fig,ax = plt.subplots()\n",
    "y= np.array(no_of_words)\n",
    "chk_index= y[y.argsort()][::-1]\n",
    "\n",
    "\n",
    "pips=[0]*len(user_list)\n",
    "for i in range(len(user_list)):\n",
    "    pips[i] = user_list[y.argsort()[::-1][i]] \n",
    "\n",
    "y_pos = np.arange(len(user_list))\n",
    "\n",
    "ax.barh(y_pos,chk_index,align = 'center')\n",
    "ax.set_yticks(y_pos)\n",
    "ax.set_yticklabels(pips)\n",
    "# ax.set_xticks(y)\n",
    "ax.set_title(\"Number of words per person\")\n",
    "ax.invert_yaxis()\n"
   ]
  },
  {
   "cell_type": "code",
   "execution_count": 225,
   "id": "eef008a6",
   "metadata": {},
   "outputs": [
    {
     "data": {
      "image/png": "[encoded data removed]",
      "text/plain": [
       "<Figure size 432x288 with 1 Axes>"
      ]
     },
     "metadata": {
      "needs_background": "light"
     },
     "output_type": "display_data"
    }
   ],
   "source": [
    "fig,ax = plt.subplots()\n",
    "y= np.array(no_of_media)\n",
    "chk_index= y[y.argsort()][::-1]\n",
    "\n",
    "\n",
    "pips=[0]*len(user_list)\n",
    "for i in range(len(user_list)):\n",
    "    pips[i] = user_list[y.argsort()[::-1][i]] \n",
    "\n",
    "y_pos = np.arange(len(user_list))\n",
    "\n",
    "ax.barh(y_pos,chk_index,align = 'center')\n",
    "ax.set_yticks(y_pos)\n",
    "ax.set_yticklabels(pips)\n",
    "# ax.set_xticks(y)\n",
    "ax.set_title(\"Number of media per person\")\n",
    "ax.invert_yaxis()\n"
   ]
  },
  {
   "cell_type": "code",
   "execution_count": 227,
   "id": "90b68e92",
   "metadata": {},
   "outputs": [
    {
     "data": {
      "image/png": "[encoded data removed]",
      "text/plain": [
       "<Figure size 432x288 with 1 Axes>"
      ]
     },
     "metadata": {
      "needs_background": "light"
     },
     "output_type": "display_data"
    }
   ],
   "source": [
    "fig,ax = plt.subplots()\n",
    "y= np.array(avg_words)\n",
    "chk_index= y[y.argsort()][::-1]\n",
    "\n",
    "\n",
    "pips=[0]*len(user_list)\n",
    "for i in range(len(user_list)):\n",
    "    pips[i] = user_list[y.argsort()[::-1][i]] \n",
    "\n",
    "y_pos = np.arange(len(user_list))\n",
    "\n",
    "ax.barh(y_pos,chk_index,align = 'center')\n",
    "ax.set_yticks(y_pos)\n",
    "ax.set_yticklabels(pips)\n",
    "# ax.set_xticks(y)\n",
    "ax.set_title(\"Number of words per message per person\")\n",
    "ax.invert_yaxis()\n"
   ]
  },
  {
   "cell_type": "code",
   "execution_count": null,
   "id": "2c0d28ad",
   "metadata": {},
   "outputs": [],
   "source": []
  }
 ],
 "metadata": {
  "kernelspec": {
   "display_name": "Python 3",
   "language": "python",
   "name": "python3"
  },
  "language_info": {
   "codemirror_mode": {
    "name": "ipython",
    "version": 3
   },
   "file_extension": ".py",
   "mimetype": "text/x-python",
   "name": "python",
   "nbconvert_exporter": "python",
   "pygments_lexer": "ipython3",
   "version": "3.6.9"
  }
 },
 "nbformat": 4,
 "nbformat_minor": 5
}
