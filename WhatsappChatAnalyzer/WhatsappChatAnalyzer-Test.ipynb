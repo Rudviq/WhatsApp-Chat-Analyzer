{
 "cells": [
  {
   "cell_type": "markdown",
   "id": "14e27f25",
   "metadata": {},
   "source": [
    "<!DOCTYPE html>\n",
    "<html>\n",
    "<body >\n",
    "<div style=\"background-color:powderblue;\">\n",
    "<h1 style =\"color:#00008b\">Whatsapp Chat Analyzer</h1>\n",
    "</div>\n",
    "</body>\n",
    "</html>"
   ]
  },
  {
   "cell_type": "raw",
   "id": "a2e64325",
   "metadata": {},
   "source": [
    "Created by: Rudviq Bhavsar\n",
    "Date: 21th June 2021"
   ]
  },
  {
   "cell_type": "markdown",
   "id": "3bc7657e",
   "metadata": {},
   "source": [
    "# Things to be analyzed"
   ]
  },
  {
   "cell_type": "markdown",
   "id": "9eb8cc0c",
   "metadata": {},
   "source": [
    "<!DOCTYPE html>\n",
    "<html>\n",
    "<body>\n",
    "\n",
    "<h2 style =\"color:blue\">Contact-wise statistics:</h2>\n",
    "\n",
    "<ul>\n",
    "  <li>Number of messages per contact</li>\n",
    "  <li>Number of words per contact </li>\n",
    "  <li>Number of average words per message per contact</li>\n",
    "  <li>Number of emojis per contact</li>\n",
    "  <li>Number of emojis per contact</li>\n",
    "  <li>NUmber of media per contact</li>\n",
    "  <li>NUmber of keywords per contact</li>\n",
    "</ul>  \n",
    "\n",
    "</body>\n",
    "</html>\n"
   ]
  },
  {
   "cell_type": "markdown",
   "id": "6bc23f37",
   "metadata": {},
   "source": [
    "<!DOCTYPE html>\n",
    "<html>\n",
    "<body>\n",
    "\n",
    "<h2 style =\"color:blue\">TIme-wise statistics:</h2>\n",
    "\n",
    "<ul>\n",
    "  <li>Number of messages per hour</li>\n",
    "  <li>Number of messages per weekday</li>\n",
    "  <li>Number of messages per month</li>\n",
    "  <li>Number of messages per year</li>\n",
    "</ul>  \n",
    "\n",
    "</body>\n",
    "</html>"
   ]
  },
  {
   "cell_type": "markdown",
   "id": "565695a1",
   "metadata": {},
   "source": [
    "<!DOCTYPE html>\n",
    "<html>\n",
    "    <body>\n",
    "        <hr size=\"30\" noshade>\n",
    "    </body>\n",
    "</html>"
   ]
  },
  {
   "cell_type": "code",
   "execution_count": 2,
   "id": "103cefa9",
   "metadata": {},
   "outputs": [],
   "source": [
    "#Importing Libraries\n",
    "\n",
    "import numpy as np\n",
    "import pandas as pd\n",
    "import matplotlib.pyplot as plt\n",
    "\n",
    "\n",
    "%config IPCompleter.use_jedi = False\n"
   ]
  },
  {
   "cell_type": "code",
   "execution_count": 3,
   "id": "4305f9ee",
   "metadata": {},
   "outputs": [
    {
     "data": {
      "text/html": [
       "<div>\n",
       "<style scoped>\n",
       "    .dataframe tbody tr th:only-of-type {\n",
       "        vertical-align: middle;\n",
       "    }\n",
       "\n",
       "    .dataframe tbody tr th {\n",
       "        vertical-align: top;\n",
       "    }\n",
       "\n",
       "    .dataframe thead th {\n",
       "        text-align: right;\n",
       "    }\n",
       "</style>\n",
       "<table border=\"1\" class=\"dataframe\">\n",
       "  <thead>\n",
       "    <tr style=\"text-align: right;\">\n",
       "      <th></th>\n",
       "      <th>Column</th>\n",
       "    </tr>\n",
       "  </thead>\n",
       "  <tbody>\n",
       "    <tr>\n",
       "      <th>0</th>\n",
       "      <td>23/06/2021, 15:20 - You created group \"Datasci...</td>\n",
       "    </tr>\n",
       "    <tr>\n",
       "      <th>1</th>\n",
       "      <td>23/06/2021, 15:20 - Pappa left</td>\n",
       "    </tr>\n",
       "    <tr>\n",
       "      <th>2</th>\n",
       "      <td>23/06/2021, 15:21 - Rudviq: PureTextWithoutAny...</td>\n",
       "    </tr>\n",
       "    <tr>\n",
       "      <th>3</th>\n",
       "      <td>23/06/2021, 15:21 - Rudviq: Text with the spaces</td>\n",
       "    </tr>\n",
       "    <tr>\n",
       "      <th>4</th>\n",
       "      <td>23/06/2021, 15:22 - Rudviq: 😂</td>\n",
       "    </tr>\n",
       "    <tr>\n",
       "      <th>5</th>\n",
       "      <td>23/06/2021, 15:22 - Rudviq: 😂🥳</td>\n",
       "    </tr>\n",
       "    <tr>\n",
       "      <th>6</th>\n",
       "      <td>23/06/2021, 15:22 - Rudviq: 😂🥳🎂</td>\n",
       "    </tr>\n",
       "    <tr>\n",
       "      <th>7</th>\n",
       "      <td>23/06/2021, 15:22 - Rudviq: Text with the emoj...</td>\n",
       "    </tr>\n",
       "    <tr>\n",
       "      <th>8</th>\n",
       "      <td>23/06/2021, 15:22 - Rudviq: &lt;Media omitted&gt;</td>\n",
       "    </tr>\n",
       "    <tr>\n",
       "      <th>9</th>\n",
       "      <td>23/06/2021, 15:23 - Rudviq: &lt;Media omitted&gt;</td>\n",
       "    </tr>\n",
       "    <tr>\n",
       "      <th>10</th>\n",
       "      <td>23/06/2021, 15:23 - Rudviq: &lt;Media omitted&gt;</td>\n",
       "    </tr>\n",
       "    <tr>\n",
       "      <th>11</th>\n",
       "      <td>23/06/2021, 15:23 - Rudviq: &lt;Media omitted&gt;</td>\n",
       "    </tr>\n",
       "    <tr>\n",
       "      <th>12</th>\n",
       "      <td>23/06/2021, 15:23 - Rudviq: Few media files</td>\n",
       "    </tr>\n",
       "    <tr>\n",
       "      <th>13</th>\n",
       "      <td>23/06/2021, 15:25 - Rudviq: A sentence with pu...</td>\n",
       "    </tr>\n",
       "    <tr>\n",
       "      <th>14</th>\n",
       "      <td>23/06/2021, 15:25 - Rudviq: More eg. with spec...</td>\n",
       "    </tr>\n",
       "    <tr>\n",
       "      <th>15</th>\n",
       "      <td>23/06/2021, 15:28 - Rudviq: You deleted this m...</td>\n",
       "    </tr>\n",
       "  </tbody>\n",
       "</table>\n",
       "</div>"
      ],
      "text/plain": [
       "                                               Column\n",
       "0   23/06/2021, 15:20 - You created group \"Datasci...\n",
       "1                      23/06/2021, 15:20 - Pappa left\n",
       "2   23/06/2021, 15:21 - Rudviq: PureTextWithoutAny...\n",
       "3    23/06/2021, 15:21 - Rudviq: Text with the spaces\n",
       "4                       23/06/2021, 15:22 - Rudviq: 😂\n",
       "5                      23/06/2021, 15:22 - Rudviq: 😂🥳\n",
       "6                     23/06/2021, 15:22 - Rudviq: 😂🥳🎂\n",
       "7   23/06/2021, 15:22 - Rudviq: Text with the emoj...\n",
       "8         23/06/2021, 15:22 - Rudviq: <Media omitted>\n",
       "9         23/06/2021, 15:23 - Rudviq: <Media omitted>\n",
       "10        23/06/2021, 15:23 - Rudviq: <Media omitted>\n",
       "11        23/06/2021, 15:23 - Rudviq: <Media omitted>\n",
       "12        23/06/2021, 15:23 - Rudviq: Few media files\n",
       "13  23/06/2021, 15:25 - Rudviq: A sentence with pu...\n",
       "14  23/06/2021, 15:25 - Rudviq: More eg. with spec...\n",
       "15  23/06/2021, 15:28 - Rudviq: You deleted this m..."
      ]
     },
     "execution_count": 3,
     "metadata": {},
     "output_type": "execute_result"
    }
   ],
   "source": [
    "#Getting the dataset for processing it\n",
    "\n",
    "df=pd.read_csv('WhatsApp-Chat-with-Datascience_testing.csv')\n",
    "df.columns = [\"Column\"]\n",
    "\n",
    "\n",
    "df"
   ]
  },
  {
   "cell_type": "markdown",
   "id": "a148c492",
   "metadata": {},
   "source": [
    "## Spliting the text in the csv file into  different columns"
   ]
  },
  {
   "cell_type": "code",
   "execution_count": 4,
   "id": "9b408ae0",
   "metadata": {
    "scrolled": true
   },
   "outputs": [
    {
     "data": {
      "text/html": [
       "<div>\n",
       "<style scoped>\n",
       "    .dataframe tbody tr th:only-of-type {\n",
       "        vertical-align: middle;\n",
       "    }\n",
       "\n",
       "    .dataframe tbody tr th {\n",
       "        vertical-align: top;\n",
       "    }\n",
       "\n",
       "    .dataframe thead th {\n",
       "        text-align: right;\n",
       "    }\n",
       "</style>\n",
       "<table border=\"1\" class=\"dataframe\">\n",
       "  <thead>\n",
       "    <tr style=\"text-align: right;\">\n",
       "      <th></th>\n",
       "      <th>Date</th>\n",
       "      <th>Time</th>\n",
       "      <th>Users</th>\n",
       "      <th>Whatsapp Chats</th>\n",
       "    </tr>\n",
       "  </thead>\n",
       "  <tbody>\n",
       "    <tr>\n",
       "      <th>0</th>\n",
       "      <td>23/06/2021</td>\n",
       "      <td>15:20</td>\n",
       "      <td>You created group \"Datascience_testing\"</td>\n",
       "      <td>None</td>\n",
       "    </tr>\n",
       "    <tr>\n",
       "      <th>1</th>\n",
       "      <td>23/06/2021</td>\n",
       "      <td>15:20</td>\n",
       "      <td>Pappa left</td>\n",
       "      <td>None</td>\n",
       "    </tr>\n",
       "    <tr>\n",
       "      <th>2</th>\n",
       "      <td>23/06/2021</td>\n",
       "      <td>15:21</td>\n",
       "      <td>Rudviq</td>\n",
       "      <td>PureTextWithoutAnySpaces</td>\n",
       "    </tr>\n",
       "    <tr>\n",
       "      <th>3</th>\n",
       "      <td>23/06/2021</td>\n",
       "      <td>15:21</td>\n",
       "      <td>Rudviq</td>\n",
       "      <td>Text with the spaces</td>\n",
       "    </tr>\n",
       "    <tr>\n",
       "      <th>4</th>\n",
       "      <td>23/06/2021</td>\n",
       "      <td>15:22</td>\n",
       "      <td>Rudviq</td>\n",
       "      <td>😂</td>\n",
       "    </tr>\n",
       "    <tr>\n",
       "      <th>5</th>\n",
       "      <td>23/06/2021</td>\n",
       "      <td>15:22</td>\n",
       "      <td>Rudviq</td>\n",
       "      <td>😂🥳</td>\n",
       "    </tr>\n",
       "    <tr>\n",
       "      <th>6</th>\n",
       "      <td>23/06/2021</td>\n",
       "      <td>15:22</td>\n",
       "      <td>Rudviq</td>\n",
       "      <td>😂🥳🎂</td>\n",
       "    </tr>\n",
       "    <tr>\n",
       "      <th>7</th>\n",
       "      <td>23/06/2021</td>\n",
       "      <td>15:22</td>\n",
       "      <td>Rudviq</td>\n",
       "      <td>Text with the emojis 😂💯🤩</td>\n",
       "    </tr>\n",
       "    <tr>\n",
       "      <th>8</th>\n",
       "      <td>23/06/2021</td>\n",
       "      <td>15:22</td>\n",
       "      <td>Rudviq</td>\n",
       "      <td>&lt;Media omitted&gt;</td>\n",
       "    </tr>\n",
       "    <tr>\n",
       "      <th>9</th>\n",
       "      <td>23/06/2021</td>\n",
       "      <td>15:23</td>\n",
       "      <td>Rudviq</td>\n",
       "      <td>&lt;Media omitted&gt;</td>\n",
       "    </tr>\n",
       "    <tr>\n",
       "      <th>10</th>\n",
       "      <td>23/06/2021</td>\n",
       "      <td>15:23</td>\n",
       "      <td>Rudviq</td>\n",
       "      <td>&lt;Media omitted&gt;</td>\n",
       "    </tr>\n",
       "    <tr>\n",
       "      <th>11</th>\n",
       "      <td>23/06/2021</td>\n",
       "      <td>15:23</td>\n",
       "      <td>Rudviq</td>\n",
       "      <td>&lt;Media omitted&gt;</td>\n",
       "    </tr>\n",
       "    <tr>\n",
       "      <th>12</th>\n",
       "      <td>23/06/2021</td>\n",
       "      <td>15:23</td>\n",
       "      <td>Rudviq</td>\n",
       "      <td>Few media files</td>\n",
       "    </tr>\n",
       "    <tr>\n",
       "      <th>13</th>\n",
       "      <td>23/06/2021</td>\n",
       "      <td>15:25</td>\n",
       "      <td>Rudviq</td>\n",
       "      <td>A sentence with punctuations; to check whether...</td>\n",
       "    </tr>\n",
       "    <tr>\n",
       "      <th>14</th>\n",
       "      <td>23/06/2021</td>\n",
       "      <td>15:25</td>\n",
       "      <td>Rudviq</td>\n",
       "      <td>More eg. with special symbol.....is it rlly ne...</td>\n",
       "    </tr>\n",
       "    <tr>\n",
       "      <th>15</th>\n",
       "      <td>23/06/2021</td>\n",
       "      <td>15:28</td>\n",
       "      <td>Rudviq</td>\n",
       "      <td>You deleted this message</td>\n",
       "    </tr>\n",
       "  </tbody>\n",
       "</table>\n",
       "</div>"
      ],
      "text/plain": [
       "          Date   Time                                    Users  \\\n",
       "0   23/06/2021  15:20  You created group \"Datascience_testing\"   \n",
       "1   23/06/2021  15:20                               Pappa left   \n",
       "2   23/06/2021  15:21                                   Rudviq   \n",
       "3   23/06/2021  15:21                                   Rudviq   \n",
       "4   23/06/2021  15:22                                   Rudviq   \n",
       "5   23/06/2021  15:22                                   Rudviq   \n",
       "6   23/06/2021  15:22                                   Rudviq   \n",
       "7   23/06/2021  15:22                                   Rudviq   \n",
       "8   23/06/2021  15:22                                   Rudviq   \n",
       "9   23/06/2021  15:23                                   Rudviq   \n",
       "10  23/06/2021  15:23                                   Rudviq   \n",
       "11  23/06/2021  15:23                                   Rudviq   \n",
       "12  23/06/2021  15:23                                   Rudviq   \n",
       "13  23/06/2021  15:25                                   Rudviq   \n",
       "14  23/06/2021  15:25                                   Rudviq   \n",
       "15  23/06/2021  15:28                                   Rudviq   \n",
       "\n",
       "                                       Whatsapp Chats  \n",
       "0                                                None  \n",
       "1                                                None  \n",
       "2                            PureTextWithoutAnySpaces  \n",
       "3                                Text with the spaces  \n",
       "4                                                   😂  \n",
       "5                                                  😂🥳  \n",
       "6                                                 😂🥳🎂  \n",
       "7                            Text with the emojis 😂💯🤩  \n",
       "8                                     <Media omitted>  \n",
       "9                                     <Media omitted>  \n",
       "10                                    <Media omitted>  \n",
       "11                                    <Media omitted>  \n",
       "12                                    Few media files  \n",
       "13  A sentence with punctuations; to check whether...  \n",
       "14  More eg. with special symbol.....is it rlly ne...  \n",
       "15                           You deleted this message  "
      ]
     },
     "execution_count": 4,
     "metadata": {},
     "output_type": "execute_result"
    }
   ],
   "source": [
    "\n",
    "#1 Splitting Date and rest of the columns\n",
    "\n",
    "split_col=df.iloc[:,0].str.split(', ',expand=True)\n",
    "df[\"Date\"]=split_col[0]\n",
    "df[\"Temp_col\"]= split_col[1]\n",
    "\n",
    "#OR\n",
    "#df.columns = ['Date','Temp_col']\n",
    "\n",
    "df.drop(columns=['Column'],inplace = True)\n",
    "\n",
    "\n",
    "#2 Splitting Time and the other column\n",
    "\n",
    "split_col =df[\"Temp_col\"].str.split(' - ',expand=True)\n",
    "df[\"Time\"]= split_col[0]\n",
    "df[\"Temp_col\"]=split_col[1]\n",
    "\n",
    "#3 Splitting user and chats columns\n",
    "split_col = df[\"Temp_col\"].str.split(': ',expand =True)\n",
    "df[\"Users\"]= split_col[0]\n",
    "df[\"Whatsapp Chats\"]=split_col[1]\n",
    "\n",
    "\n",
    "df.drop(columns=[\"Temp_col\"],inplace=True)\n",
    "df"
   ]
  },
  {
   "cell_type": "markdown",
   "id": "0dcec3b5",
   "metadata": {},
   "source": [
    "## Creating two DataFrames - with media and without media"
   ]
  },
  {
   "cell_type": "code",
   "execution_count": 5,
   "id": "6053e45e",
   "metadata": {},
   "outputs": [
    {
     "data": {
      "text/html": [
       "<div>\n",
       "<style scoped>\n",
       "    .dataframe tbody tr th:only-of-type {\n",
       "        vertical-align: middle;\n",
       "    }\n",
       "\n",
       "    .dataframe tbody tr th {\n",
       "        vertical-align: top;\n",
       "    }\n",
       "\n",
       "    .dataframe thead th {\n",
       "        text-align: right;\n",
       "    }\n",
       "</style>\n",
       "<table border=\"1\" class=\"dataframe\">\n",
       "  <thead>\n",
       "    <tr style=\"text-align: right;\">\n",
       "      <th></th>\n",
       "      <th>Date</th>\n",
       "      <th>Time</th>\n",
       "      <th>Users</th>\n",
       "      <th>Whatsapp Chats</th>\n",
       "    </tr>\n",
       "  </thead>\n",
       "  <tbody>\n",
       "    <tr>\n",
       "      <th>0</th>\n",
       "      <td>23/06/2021</td>\n",
       "      <td>15:20</td>\n",
       "      <td>You created group \"Datascience_testing\"</td>\n",
       "      <td>None</td>\n",
       "    </tr>\n",
       "    <tr>\n",
       "      <th>1</th>\n",
       "      <td>23/06/2021</td>\n",
       "      <td>15:20</td>\n",
       "      <td>Pappa left</td>\n",
       "      <td>None</td>\n",
       "    </tr>\n",
       "    <tr>\n",
       "      <th>2</th>\n",
       "      <td>23/06/2021</td>\n",
       "      <td>15:21</td>\n",
       "      <td>Rudviq</td>\n",
       "      <td>PureTextWithoutAnySpaces</td>\n",
       "    </tr>\n",
       "    <tr>\n",
       "      <th>3</th>\n",
       "      <td>23/06/2021</td>\n",
       "      <td>15:21</td>\n",
       "      <td>Rudviq</td>\n",
       "      <td>Text with the spaces</td>\n",
       "    </tr>\n",
       "    <tr>\n",
       "      <th>4</th>\n",
       "      <td>23/06/2021</td>\n",
       "      <td>15:22</td>\n",
       "      <td>Rudviq</td>\n",
       "      <td>😂</td>\n",
       "    </tr>\n",
       "    <tr>\n",
       "      <th>5</th>\n",
       "      <td>23/06/2021</td>\n",
       "      <td>15:22</td>\n",
       "      <td>Rudviq</td>\n",
       "      <td>😂🥳</td>\n",
       "    </tr>\n",
       "    <tr>\n",
       "      <th>6</th>\n",
       "      <td>23/06/2021</td>\n",
       "      <td>15:22</td>\n",
       "      <td>Rudviq</td>\n",
       "      <td>😂🥳🎂</td>\n",
       "    </tr>\n",
       "    <tr>\n",
       "      <th>7</th>\n",
       "      <td>23/06/2021</td>\n",
       "      <td>15:22</td>\n",
       "      <td>Rudviq</td>\n",
       "      <td>Text with the emojis 😂💯🤩</td>\n",
       "    </tr>\n",
       "    <tr>\n",
       "      <th>8</th>\n",
       "      <td>23/06/2021</td>\n",
       "      <td>15:22</td>\n",
       "      <td>Rudviq</td>\n",
       "      <td>&lt;Media omitted&gt;</td>\n",
       "    </tr>\n",
       "    <tr>\n",
       "      <th>9</th>\n",
       "      <td>23/06/2021</td>\n",
       "      <td>15:23</td>\n",
       "      <td>Rudviq</td>\n",
       "      <td>&lt;Media omitted&gt;</td>\n",
       "    </tr>\n",
       "    <tr>\n",
       "      <th>10</th>\n",
       "      <td>23/06/2021</td>\n",
       "      <td>15:23</td>\n",
       "      <td>Rudviq</td>\n",
       "      <td>&lt;Media omitted&gt;</td>\n",
       "    </tr>\n",
       "    <tr>\n",
       "      <th>11</th>\n",
       "      <td>23/06/2021</td>\n",
       "      <td>15:23</td>\n",
       "      <td>Rudviq</td>\n",
       "      <td>&lt;Media omitted&gt;</td>\n",
       "    </tr>\n",
       "    <tr>\n",
       "      <th>12</th>\n",
       "      <td>23/06/2021</td>\n",
       "      <td>15:23</td>\n",
       "      <td>Rudviq</td>\n",
       "      <td>Few media files</td>\n",
       "    </tr>\n",
       "    <tr>\n",
       "      <th>13</th>\n",
       "      <td>23/06/2021</td>\n",
       "      <td>15:25</td>\n",
       "      <td>Rudviq</td>\n",
       "      <td>A sentence with punctuations; to check whether...</td>\n",
       "    </tr>\n",
       "    <tr>\n",
       "      <th>14</th>\n",
       "      <td>23/06/2021</td>\n",
       "      <td>15:25</td>\n",
       "      <td>Rudviq</td>\n",
       "      <td>More eg. with special symbol.....is it rlly ne...</td>\n",
       "    </tr>\n",
       "    <tr>\n",
       "      <th>15</th>\n",
       "      <td>23/06/2021</td>\n",
       "      <td>15:28</td>\n",
       "      <td>Rudviq</td>\n",
       "      <td>You deleted this message</td>\n",
       "    </tr>\n",
       "  </tbody>\n",
       "</table>\n",
       "</div>"
      ],
      "text/plain": [
       "          Date   Time                                    Users  \\\n",
       "0   23/06/2021  15:20  You created group \"Datascience_testing\"   \n",
       "1   23/06/2021  15:20                               Pappa left   \n",
       "2   23/06/2021  15:21                                   Rudviq   \n",
       "3   23/06/2021  15:21                                   Rudviq   \n",
       "4   23/06/2021  15:22                                   Rudviq   \n",
       "5   23/06/2021  15:22                                   Rudviq   \n",
       "6   23/06/2021  15:22                                   Rudviq   \n",
       "7   23/06/2021  15:22                                   Rudviq   \n",
       "8   23/06/2021  15:22                                   Rudviq   \n",
       "9   23/06/2021  15:23                                   Rudviq   \n",
       "10  23/06/2021  15:23                                   Rudviq   \n",
       "11  23/06/2021  15:23                                   Rudviq   \n",
       "12  23/06/2021  15:23                                   Rudviq   \n",
       "13  23/06/2021  15:25                                   Rudviq   \n",
       "14  23/06/2021  15:25                                   Rudviq   \n",
       "15  23/06/2021  15:28                                   Rudviq   \n",
       "\n",
       "                                       Whatsapp Chats  \n",
       "0                                                None  \n",
       "1                                                None  \n",
       "2                            PureTextWithoutAnySpaces  \n",
       "3                                Text with the spaces  \n",
       "4                                                   😂  \n",
       "5                                                  😂🥳  \n",
       "6                                                 😂🥳🎂  \n",
       "7                            Text with the emojis 😂💯🤩  \n",
       "8                                     <Media omitted>  \n",
       "9                                     <Media omitted>  \n",
       "10                                    <Media omitted>  \n",
       "11                                    <Media omitted>  \n",
       "12                                    Few media files  \n",
       "13  A sentence with punctuations; to check whether...  \n",
       "14  More eg. with special symbol.....is it rlly ne...  \n",
       "15                           You deleted this message  "
      ]
     },
     "execution_count": 5,
     "metadata": {},
     "output_type": "execute_result"
    }
   ],
   "source": [
    "df_wo_media = df[df[\"Whatsapp Chats\"].str.contains(r'Image omitted')==False]\n",
    "df_wo_media = df[df[\"Whatsapp Chats\"].str.contains(r'video omitted')==False]\n",
    "df_wo_media = df[df[\"Whatsapp Chats\"].str.contains(r'GIF omitted')==False]\n",
    "df_wo_media = df[df[\"Whatsapp Chats\"].str.contains(r'<Media omitted>')==False]\n",
    "\n",
    "# df_wo_media.reset_index(drop=True)\n",
    "df"
   ]
  },
  {
   "cell_type": "markdown",
   "id": "fceb368a",
   "metadata": {},
   "source": [
    "## Dropping Nan values from the dataframes"
   ]
  },
  {
   "cell_type": "code",
   "execution_count": 6,
   "id": "77d0a275",
   "metadata": {},
   "outputs": [
    {
     "data": {
      "text/html": [
       "<div>\n",
       "<style scoped>\n",
       "    .dataframe tbody tr th:only-of-type {\n",
       "        vertical-align: middle;\n",
       "    }\n",
       "\n",
       "    .dataframe tbody tr th {\n",
       "        vertical-align: top;\n",
       "    }\n",
       "\n",
       "    .dataframe thead th {\n",
       "        text-align: right;\n",
       "    }\n",
       "</style>\n",
       "<table border=\"1\" class=\"dataframe\">\n",
       "  <thead>\n",
       "    <tr style=\"text-align: right;\">\n",
       "      <th></th>\n",
       "      <th>Date</th>\n",
       "      <th>Time</th>\n",
       "      <th>Users</th>\n",
       "      <th>Whatsapp Chats</th>\n",
       "    </tr>\n",
       "  </thead>\n",
       "  <tbody>\n",
       "    <tr>\n",
       "      <th>0</th>\n",
       "      <td>23/06/2021</td>\n",
       "      <td>15:21</td>\n",
       "      <td>Rudviq</td>\n",
       "      <td>PureTextWithoutAnySpaces</td>\n",
       "    </tr>\n",
       "    <tr>\n",
       "      <th>1</th>\n",
       "      <td>23/06/2021</td>\n",
       "      <td>15:21</td>\n",
       "      <td>Rudviq</td>\n",
       "      <td>Text with the spaces</td>\n",
       "    </tr>\n",
       "    <tr>\n",
       "      <th>2</th>\n",
       "      <td>23/06/2021</td>\n",
       "      <td>15:22</td>\n",
       "      <td>Rudviq</td>\n",
       "      <td>😂</td>\n",
       "    </tr>\n",
       "    <tr>\n",
       "      <th>3</th>\n",
       "      <td>23/06/2021</td>\n",
       "      <td>15:22</td>\n",
       "      <td>Rudviq</td>\n",
       "      <td>😂🥳</td>\n",
       "    </tr>\n",
       "    <tr>\n",
       "      <th>4</th>\n",
       "      <td>23/06/2021</td>\n",
       "      <td>15:22</td>\n",
       "      <td>Rudviq</td>\n",
       "      <td>😂🥳🎂</td>\n",
       "    </tr>\n",
       "    <tr>\n",
       "      <th>5</th>\n",
       "      <td>23/06/2021</td>\n",
       "      <td>15:22</td>\n",
       "      <td>Rudviq</td>\n",
       "      <td>Text with the emojis 😂💯🤩</td>\n",
       "    </tr>\n",
       "    <tr>\n",
       "      <th>6</th>\n",
       "      <td>23/06/2021</td>\n",
       "      <td>15:22</td>\n",
       "      <td>Rudviq</td>\n",
       "      <td>&lt;Media omitted&gt;</td>\n",
       "    </tr>\n",
       "    <tr>\n",
       "      <th>7</th>\n",
       "      <td>23/06/2021</td>\n",
       "      <td>15:23</td>\n",
       "      <td>Rudviq</td>\n",
       "      <td>&lt;Media omitted&gt;</td>\n",
       "    </tr>\n",
       "    <tr>\n",
       "      <th>8</th>\n",
       "      <td>23/06/2021</td>\n",
       "      <td>15:23</td>\n",
       "      <td>Rudviq</td>\n",
       "      <td>&lt;Media omitted&gt;</td>\n",
       "    </tr>\n",
       "    <tr>\n",
       "      <th>9</th>\n",
       "      <td>23/06/2021</td>\n",
       "      <td>15:23</td>\n",
       "      <td>Rudviq</td>\n",
       "      <td>&lt;Media omitted&gt;</td>\n",
       "    </tr>\n",
       "    <tr>\n",
       "      <th>10</th>\n",
       "      <td>23/06/2021</td>\n",
       "      <td>15:23</td>\n",
       "      <td>Rudviq</td>\n",
       "      <td>Few media files</td>\n",
       "    </tr>\n",
       "    <tr>\n",
       "      <th>11</th>\n",
       "      <td>23/06/2021</td>\n",
       "      <td>15:25</td>\n",
       "      <td>Rudviq</td>\n",
       "      <td>A sentence with punctuations; to check whether...</td>\n",
       "    </tr>\n",
       "    <tr>\n",
       "      <th>12</th>\n",
       "      <td>23/06/2021</td>\n",
       "      <td>15:25</td>\n",
       "      <td>Rudviq</td>\n",
       "      <td>More eg. with special symbol.....is it rlly ne...</td>\n",
       "    </tr>\n",
       "    <tr>\n",
       "      <th>13</th>\n",
       "      <td>23/06/2021</td>\n",
       "      <td>15:28</td>\n",
       "      <td>Rudviq</td>\n",
       "      <td>You deleted this message</td>\n",
       "    </tr>\n",
       "  </tbody>\n",
       "</table>\n",
       "</div>"
      ],
      "text/plain": [
       "          Date   Time   Users  \\\n",
       "0   23/06/2021  15:21  Rudviq   \n",
       "1   23/06/2021  15:21  Rudviq   \n",
       "2   23/06/2021  15:22  Rudviq   \n",
       "3   23/06/2021  15:22  Rudviq   \n",
       "4   23/06/2021  15:22  Rudviq   \n",
       "5   23/06/2021  15:22  Rudviq   \n",
       "6   23/06/2021  15:22  Rudviq   \n",
       "7   23/06/2021  15:23  Rudviq   \n",
       "8   23/06/2021  15:23  Rudviq   \n",
       "9   23/06/2021  15:23  Rudviq   \n",
       "10  23/06/2021  15:23  Rudviq   \n",
       "11  23/06/2021  15:25  Rudviq   \n",
       "12  23/06/2021  15:25  Rudviq   \n",
       "13  23/06/2021  15:28  Rudviq   \n",
       "\n",
       "                                       Whatsapp Chats  \n",
       "0                            PureTextWithoutAnySpaces  \n",
       "1                                Text with the spaces  \n",
       "2                                                   😂  \n",
       "3                                                  😂🥳  \n",
       "4                                                 😂🥳🎂  \n",
       "5                            Text with the emojis 😂💯🤩  \n",
       "6                                     <Media omitted>  \n",
       "7                                     <Media omitted>  \n",
       "8                                     <Media omitted>  \n",
       "9                                     <Media omitted>  \n",
       "10                                    Few media files  \n",
       "11  A sentence with punctuations; to check whether...  \n",
       "12  More eg. with special symbol.....is it rlly ne...  \n",
       "13                           You deleted this message  "
      ]
     },
     "execution_count": 6,
     "metadata": {},
     "output_type": "execute_result"
    }
   ],
   "source": [
    "df=df.dropna()\n",
    "df_wo_media=df_wo_media.dropna()\n",
    "\n",
    "df = df.reset_index(drop=True)\n",
    "df_wo_media=df_wo_media.reset_index(drop=True)\n",
    "df"
   ]
  },
  {
   "cell_type": "code",
   "execution_count": null,
   "id": "7d24dcca",
   "metadata": {},
   "outputs": [],
   "source": []
  },
  {
   "cell_type": "markdown",
   "id": "566f29fd",
   "metadata": {},
   "source": [
    "## Function to plot the bar graph"
   ]
  },
  {
   "cell_type": "code",
   "execution_count": 7,
   "id": "6702fd56",
   "metadata": {},
   "outputs": [],
   "source": [
    "def plotGraph(y_pos,y,title):\n",
    "    fig,ax = plt.subplots()\n",
    "\n",
    "\n",
    "    y_pos = np.arange(len(user_list))\n",
    "   \n",
    "    ax.barh(y_pos,y,align = 'center')\n",
    "    ax.set_yticks(y_pos)\n",
    "    ax.set_yticklabels(user_list)\n",
    "    # ax.set_xticks(y)\n",
    "    ax.set_title(title)\n",
    "    ax.invert_yaxis()\n",
    "    "
   ]
  },
  {
   "cell_type": "markdown",
   "id": "2185a04c",
   "metadata": {},
   "source": [
    "## Creating an User array"
   ]
  },
  {
   "cell_type": "code",
   "execution_count": 8,
   "id": "3275efb6",
   "metadata": {},
   "outputs": [
    {
     "data": {
      "text/plain": [
       "array(['Rudviq'], dtype=object)"
      ]
     },
     "execution_count": 8,
     "metadata": {},
     "output_type": "execute_result"
    }
   ],
   "source": [
    "user_list = df[\"Users\"].unique()\n",
    "user_list"
   ]
  },
  {
   "cell_type": "code",
   "execution_count": 9,
   "id": "0d008f5c",
   "metadata": {},
   "outputs": [
    {
     "data": {
      "text/plain": [
       "[14]"
      ]
     },
     "execution_count": 9,
     "metadata": {},
     "output_type": "execute_result"
    }
   ],
   "source": [
    "\n",
    "#Messages per user (including media)\n",
    "\n",
    "chats_per_person=[]\n",
    "most_msg_by_user = []\n",
    "for i in range(len(user_list)):\n",
    "    temp = df[\"Whatsapp Chats\"][df[\"Users\"]==user_list[i]]\n",
    "    temp = temp.reset_index(drop =True)\n",
    "    most_msg_by_user.append(temp.shape[0])\n",
    "    for j in range(1,len(temp)):\n",
    "        temp[0] += ' ' + temp[j]\n",
    "    chats_per_person.append(temp[0])\n",
    "    del temp\n",
    "        \n",
    "#Messages per user (excluding media)\n",
    "chats_per_person_wo=[]\n",
    "most_msg_by_user_wo = []\n",
    "for i in range(len(user_list)):\n",
    "    temp = df_wo_media[\"Whatsapp Chats\"][df_wo_media[\"Users\"]==user_list[i]]\n",
    "    temp = temp.reset_index(drop =True)\n",
    "    most_msg_by_user_wo.append(temp.shape[0])\n",
    "    for j in range(1,len(temp)):\n",
    "        temp[0] += ' ' + temp[j]\n",
    "    chats_per_person_wo.append(temp[0])\n",
    "    del temp\n",
    "    \n",
    "most_msg_by_user"
   ]
  },
  {
   "cell_type": "markdown",
   "id": "54a28dba",
   "metadata": {},
   "source": [
    "## Bar graph  to represent most messages per user"
   ]
  },
  {
   "cell_type": "code",
   "execution_count": 10,
   "id": "b276bf1b",
   "metadata": {},
   "outputs": [
    {
     "data": {
      "image/png": "[encoded data removed]",
      "text/plain": [
       "<Figure size 432x288 with 1 Axes>"
      ]
     },
     "metadata": {
      "needs_background": "light"
     },
     "output_type": "display_data"
    }
   ],
   "source": [
    "fig,ax = plt.subplots()\n",
    "\n",
    "\n",
    "y_pos = np.arange(len(user_list))\n",
    "\n",
    "ax.barh(y_pos,most_msg_by_user,align = 'center')\n",
    "ax.set_yticks(y_pos)\n",
    "ax.set_yticklabels(user_list)\n",
    "# ax.set_xticks(y)\n",
    "ax.set_title(\"Number of messages per person\")\n",
    "ax.invert_yaxis()\n"
   ]
  },
  {
   "cell_type": "code",
   "execution_count": 11,
   "id": "60c38827",
   "metadata": {},
   "outputs": [],
   "source": [
    "# most_msg_by_user\n",
    "# chats_per_person"
   ]
  },
  {
   "cell_type": "markdown",
   "id": "8e73bc0f",
   "metadata": {},
   "source": [
    "##  Mostly used words by each user"
   ]
  },
  {
   "cell_type": "code",
   "execution_count": 12,
   "id": "feb2a28d",
   "metadata": {},
   "outputs": [],
   "source": [
    "from scipy.stats import itemfreq"
   ]
  },
  {
   "cell_type": "code",
   "execution_count": 13,
   "id": "df0ba9c8",
   "metadata": {},
   "outputs": [
    {
     "name": "stdout",
     "output_type": "stream",
     "text": [
      "Rudviq [['the' '3']\n",
      " ['special' '2']\n",
      " ['to' '2']]\n"
     ]
    },
    {
     "name": "stderr",
     "output_type": "stream",
     "text": [
      "/home/rudviq/.local/lib/python3.6/site-packages/ipykernel_launcher.py:4: DeprecationWarning: `itemfreq` is deprecated!\n",
      "`itemfreq` is deprecated and will be removed in a future version. Use instead `np.unique(..., return_counts=True)`\n",
      "  after removing the cwd from sys.path.\n"
     ]
    }
   ],
   "source": [
    "#Message frequency without media files\n",
    "\n",
    "for i in range(len(user_list)):\n",
    "    fg = itemfreq(list(chats_per_person_wo)[i].split(' '))\n",
    "    fg = fg[fg[:,1].astype(float).argsort()][::-1]\n",
    "    print(user_list[i],fg[1:4])"
   ]
  },
  {
   "cell_type": "code",
   "execution_count": null,
   "id": "bf7e5a5e",
   "metadata": {},
   "outputs": [],
   "source": []
  },
  {
   "cell_type": "markdown",
   "id": "6bdb57db",
   "metadata": {},
   "source": [
    "## Number of letters per user"
   ]
  },
  {
   "cell_type": "code",
   "execution_count": 14,
   "id": "bba6ab8f",
   "metadata": {},
   "outputs": [],
   "source": [
    "import regex as re"
   ]
  },
  {
   "cell_type": "code",
   "execution_count": 15,
   "id": "4526e1df",
   "metadata": {},
   "outputs": [
    {
     "data": {
      "text/plain": [
       "[224]"
      ]
     },
     "execution_count": 15,
     "metadata": {},
     "output_type": "execute_result"
    }
   ],
   "source": [
    "\n",
    "\n",
    "only_text = re.sub(r'[^a-zA-Z0-9]',r'',chats_per_person_wo[0])\n",
    "# only_text\n",
    "# chats_per_person_wo\n",
    "tot_no_text =[]\n",
    "for i in range(len(user_list)):\n",
    "    only_text = re.sub(r'[^a-zA-Z0-9]',r'',chats_per_person_wo[i])\n",
    "    tot_no_text.append(len(only_text))\n",
    "\n",
    "tot_no_text"
   ]
  },
  {
   "cell_type": "markdown",
   "id": "e42d6283",
   "metadata": {},
   "source": [
    "## Bar graph to represent Number of texts by each user"
   ]
  },
  {
   "cell_type": "code",
   "execution_count": 16,
   "id": "0ea3b70d",
   "metadata": {},
   "outputs": [
    {
     "data": {
      "image/png": "[encoded data removed]",
      "text/plain": [
       "<Figure size 432x288 with 1 Axes>"
      ]
     },
     "metadata": {
      "needs_background": "light"
     },
     "output_type": "display_data"
    }
   ],
   "source": [
    "fig,ax = plt.subplots()\n",
    "\n",
    "\n",
    "y_pos = np.arange(len(user_list))\n",
    "\n",
    "ax.barh(y_pos,tot_no_text,align = 'center')\n",
    "ax.set_yticks(y_pos)\n",
    "ax.set_yticklabels(user_list)\n",
    "# ax.set_xticks(y)\n",
    "ax.set_title(\"Number of texts per person\")\n",
    "ax.invert_yaxis()\n"
   ]
  },
  {
   "cell_type": "markdown",
   "id": "b0b5fa2e",
   "metadata": {},
   "source": [
    "## Number of emojis used per person"
   ]
  },
  {
   "cell_type": "code",
   "execution_count": 17,
   "id": "8c5ffc21",
   "metadata": {},
   "outputs": [],
   "source": [
    "import emoji\n",
    "\n",
    "no_of_emoji=[]\n",
    "emojis_iter = map(lambda y: y, emoji.UNICODE_EMOJI['en'].keys())\n",
    "regex_set = re.compile('|'.join(re.escape(em) for em in emojis_iter))\n",
    "\n",
    "for i in range(len(user_list)):\n",
    "    new_list = regex_set.findall(chats_per_person_wo[i]) \n",
    "    no_of_emoji.append(len(new_list))\n",
    "\n",
    "# no_of_emoji"
   ]
  },
  {
   "cell_type": "code",
   "execution_count": 18,
   "id": "d64d52ac",
   "metadata": {},
   "outputs": [
    {
     "data": {
      "image/png": "[encoded data removed]",
      "text/plain": [
       "<Figure size 432x288 with 1 Axes>"
      ]
     },
     "metadata": {
      "needs_background": "light"
     },
     "output_type": "display_data"
    }
   ],
   "source": [
    "fig,ax = plt.subplots()\n",
    "\n",
    "\n",
    "y_pos = np.arange(len(user_list))\n",
    "\n",
    "ax.barh(y_pos,no_of_emoji,align = 'center')\n",
    "ax.set_yticks(y_pos)\n",
    "ax.set_yticklabels(user_list)\n",
    "# ax.set_xticks(y)\n",
    "ax.set_title(\"Number of emojis per person\")\n",
    "ax.invert_yaxis()\n"
   ]
  },
  {
   "cell_type": "markdown",
   "id": "00ad1aa5",
   "metadata": {},
   "source": [
    "## Number of words per user"
   ]
  },
  {
   "cell_type": "code",
   "execution_count": 19,
   "id": "d4dd14cc",
   "metadata": {},
   "outputs": [
    {
     "data": {
      "text/plain": [
       "['PureTextWithoutAnySpaces',\n",
       " 'Text',\n",
       " 'with',\n",
       " 'the',\n",
       " 'spaces',\n",
       " '😂',\n",
       " '😂\\U0001f973',\n",
       " '😂\\U0001f973🎂',\n",
       " 'Text',\n",
       " 'with',\n",
       " 'the',\n",
       " 'emojis',\n",
       " '😂💯\\U0001f929',\n",
       " 'Few',\n",
       " 'media',\n",
       " 'files',\n",
       " 'A',\n",
       " 'sentence',\n",
       " 'with',\n",
       " 'punctuations;',\n",
       " 'to',\n",
       " 'check',\n",
       " 'whether',\n",
       " 'code',\n",
       " 'consider',\n",
       " 'the',\n",
       " 'special',\n",
       " 'character',\n",
       " 'as',\n",
       " 'an',\n",
       " 'emoji',\n",
       " 'or',\n",
       " 'not.',\n",
       " 'More',\n",
       " 'eg.',\n",
       " 'with',\n",
       " 'special',\n",
       " 'symbol.....is',\n",
       " 'it',\n",
       " 'rlly',\n",
       " 'necessary',\n",
       " 'to',\n",
       " 'do',\n",
       " 'this??',\n",
       " 'You',\n",
       " 'deleted',\n",
       " 'this',\n",
       " 'message']"
      ]
     },
     "execution_count": 19,
     "metadata": {},
     "output_type": "execute_result"
    }
   ],
   "source": [
    "no_of_words = []\n",
    "for i in range(len(user_list)):\n",
    "    N= chats_per_person_wo[i].split(' ')\n",
    "    no_of_words.append(len(N))\n",
    "    \n",
    "no_of_words    \n",
    "N"
   ]
  },
  {
   "cell_type": "code",
   "execution_count": 20,
   "id": "b02c0528",
   "metadata": {},
   "outputs": [
    {
     "data": {
      "image/png": "[encoded data removed]",
      "text/plain": [
       "<Figure size 432x288 with 1 Axes>"
      ]
     },
     "metadata": {
      "needs_background": "light"
     },
     "output_type": "display_data"
    }
   ],
   "source": [
    "fig,ax = plt.subplots()\n",
    "\n",
    "\n",
    "y_pos = np.arange(len(user_list))\n",
    "\n",
    "ax.barh(y_pos,no_of_words,align = 'center')\n",
    "ax.set_yticks(y_pos)\n",
    "ax.set_yticklabels(user_list)\n",
    "# ax.set_xticks(y)\n",
    "ax.set_title(\"Number of words per person\")\n",
    "ax.invert_yaxis()\n"
   ]
  },
  {
   "cell_type": "code",
   "execution_count": 21,
   "id": "551deda9",
   "metadata": {},
   "outputs": [],
   "source": [
    "# len(df[df[\"Whatsapp Chats\"].str.contains(r'<Media omitted>')==True][df[\"Users\"]==user_list[2]])"
   ]
  },
  {
   "cell_type": "markdown",
   "id": "d32635e8",
   "metadata": {},
   "source": [
    "## Number of media files sent per user"
   ]
  },
  {
   "cell_type": "code",
   "execution_count": 22,
   "id": "d0d84264",
   "metadata": {},
   "outputs": [
    {
     "name": "stderr",
     "output_type": "stream",
     "text": [
      "/home/rudviq/.local/lib/python3.6/site-packages/ipykernel_launcher.py:4: UserWarning: Boolean Series key will be reindexed to match DataFrame index.\n",
      "  after removing the cwd from sys.path.\n"
     ]
    },
    {
     "data": {
      "text/plain": [
       "[4]"
      ]
     },
     "execution_count": 22,
     "metadata": {},
     "output_type": "execute_result"
    }
   ],
   "source": [
    "no_of_media = []\n",
    "\n",
    "for i in range(len(user_list)):\n",
    "    l=len(df[df[\"Whatsapp Chats\"].str.contains(r'<Media omitted>')==True][df[\"Users\"]==user_list[i]])\n",
    "    no_of_media.append(l)\n",
    "    \n",
    "no_of_media"
   ]
  },
  {
   "cell_type": "code",
   "execution_count": 23,
   "id": "f5830d0c",
   "metadata": {
    "scrolled": true
   },
   "outputs": [
    {
     "data": {
      "image/png": "[encoded data removed]",
      "text/plain": [
       "<Figure size 432x288 with 1 Axes>"
      ]
     },
     "metadata": {
      "needs_background": "light"
     },
     "output_type": "display_data"
    }
   ],
   "source": [
    "fig,ax = plt.subplots()\n",
    "\n",
    "\n",
    "y_pos = np.arange(len(user_list))\n",
    "\n",
    "ax.barh(y_pos,no_of_media,align = 'center')\n",
    "ax.set_yticks(y_pos)\n",
    "ax.set_yticklabels(user_list)\n",
    "# ax.set_xticks(y)\n",
    "ax.set_title(\"Number of media files sent per person\")\n",
    "ax.invert_yaxis()\n"
   ]
  },
  {
   "cell_type": "markdown",
   "id": "d82711e1",
   "metadata": {},
   "source": [
    "## Average number of words per message per contact"
   ]
  },
  {
   "cell_type": "code",
   "execution_count": 24,
   "id": "2d0c4a03",
   "metadata": {},
   "outputs": [
    {
     "data": {
      "text/plain": [
       "[4.8]"
      ]
     },
     "execution_count": 24,
     "metadata": {},
     "output_type": "execute_result"
    }
   ],
   "source": [
    "#Avg no of words per message per contact including media\n",
    "\n",
    "avg_words = []\n",
    "for i in range(len(user_list)):\n",
    "    avg_words.append(no_of_words[i]/most_msg_by_user_wo[i])\n",
    "    \n",
    "\n",
    "avg_words"
   ]
  },
  {
   "cell_type": "code",
   "execution_count": null,
   "id": "b489440e",
   "metadata": {},
   "outputs": [],
   "source": []
  },
  {
   "cell_type": "code",
   "execution_count": 25,
   "id": "5957b0b3",
   "metadata": {},
   "outputs": [
    {
     "data": {
      "image/png": "[encoded data removed]",
      "text/plain": [
       "<Figure size 432x288 with 1 Axes>"
      ]
     },
     "metadata": {
      "needs_background": "light"
     },
     "output_type": "display_data"
    }
   ],
   "source": [
    "fig,ax = plt.subplots()\n",
    "\n",
    "\n",
    "y_pos = np.arange(len(user_list))\n",
    "\n",
    "ax.barh(y_pos,avg_words,align = 'center')\n",
    "ax.set_yticks(y_pos)\n",
    "ax.set_yticklabels(user_list)\n",
    "# ax.set_xticks(y)\n",
    "ax.set_title(\"Number of words per messages per contact\")\n",
    "ax.invert_yaxis()\n"
   ]
  },
  {
   "cell_type": "code",
   "execution_count": 26,
   "id": "926d1298",
   "metadata": {},
   "outputs": [
    {
     "data": {
      "text/plain": [
       "['PureTextWithoutAnySpaces',\n",
       " 'Text',\n",
       " 'with',\n",
       " 'the',\n",
       " 'spaces',\n",
       " 'Text',\n",
       " 'with',\n",
       " 'the',\n",
       " 'emojis',\n",
       " 'Media',\n",
       " 'omitted',\n",
       " 'Media',\n",
       " 'omitted',\n",
       " 'Media',\n",
       " 'omitted',\n",
       " 'Media',\n",
       " 'omitted',\n",
       " 'Few',\n",
       " 'media',\n",
       " 'files',\n",
       " 'A',\n",
       " 'sentence',\n",
       " 'with',\n",
       " 'punctuations',\n",
       " 'to',\n",
       " 'check',\n",
       " 'whether',\n",
       " 'code',\n",
       " 'consider',\n",
       " 'the',\n",
       " 'special',\n",
       " 'character',\n",
       " 'as',\n",
       " 'an',\n",
       " 'emoji',\n",
       " 'or',\n",
       " 'not',\n",
       " 'More',\n",
       " 'eg',\n",
       " 'with',\n",
       " 'special',\n",
       " 'symbol',\n",
       " 'is',\n",
       " 'it',\n",
       " 'rlly',\n",
       " 'necessary',\n",
       " 'to',\n",
       " 'do',\n",
       " 'this',\n",
       " 'You',\n",
       " 'deleted',\n",
       " 'this',\n",
       " 'message']"
      ]
     },
     "execution_count": 26,
     "metadata": {},
     "output_type": "execute_result"
    }
   ],
   "source": [
    "tot_no_text =[]\n",
    "for i in range(len(user_list)):\n",
    "    only_text = re.sub(r'[^a-zA-Z0-9_ ]',r' ',chats_per_person[i])\n",
    "    tot_no_text.append(len(only_text))\n",
    "    \n",
    "l=only_text.split(' ')\n",
    "only_text\n",
    "\n",
    "while(\"\" in l):\n",
    "    l.remove(\"\")\n",
    "len(l)\n",
    "l"
   ]
  },
  {
   "cell_type": "code",
   "execution_count": 28,
   "id": "99f24178",
   "metadata": {},
   "outputs": [
    {
     "data": {
      "image/png": "[encoded data removed]",
      "text/plain": [
       "<Figure size 432x288 with 1 Axes>"
      ]
     },
     "metadata": {
      "needs_background": "light"
     },
     "output_type": "display_data"
    }
   ],
   "source": [
    "#Graph to plot NUmber of emojis sent\n",
    "\n",
    "plotGraph(user_list,no_of_emoji,'NUmber of emojis sent per user')    "
   ]
  },
  {
   "cell_type": "code",
   "execution_count": null,
   "id": "55e86770",
   "metadata": {},
   "outputs": [],
   "source": []
  }
 ],
 "metadata": {
  "kernelspec": {
   "display_name": "Python 3",
   "language": "python",
   "name": "python3"
  },
  "language_info": {
   "codemirror_mode": {
    "name": "ipython",
    "version": 3
   },
   "file_extension": ".py",
   "mimetype": "text/x-python",
   "name": "python",
   "nbconvert_exporter": "python",
   "pygments_lexer": "ipython3",
   "version": "3.6.9"
  }
 },
 "nbformat": 4,
 "nbformat_minor": 5
}
