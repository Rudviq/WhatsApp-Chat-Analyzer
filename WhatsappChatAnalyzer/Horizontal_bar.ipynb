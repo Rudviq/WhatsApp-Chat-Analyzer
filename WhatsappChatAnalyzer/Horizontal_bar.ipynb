{
 "cells": [
  {
   "cell_type": "code",
   "execution_count": 1,
   "id": "354e60b6",
   "metadata": {},
   "outputs": [],
   "source": [
    "import numpy as np\n",
    "import pandas as pd\n",
    "import matplotlib.pyplot as plt"
   ]
  },
  {
   "cell_type": "code",
   "execution_count": 2,
   "id": "0cc54682",
   "metadata": {},
   "outputs": [
    {
     "data": {
      "text/html": [
       "<div>\n",
       "<style scoped>\n",
       "    .dataframe tbody tr th:only-of-type {\n",
       "        vertical-align: middle;\n",
       "    }\n",
       "\n",
       "    .dataframe tbody tr th {\n",
       "        vertical-align: top;\n",
       "    }\n",
       "\n",
       "    .dataframe thead th {\n",
       "        text-align: right;\n",
       "    }\n",
       "</style>\n",
       "<table border=\"1\" class=\"dataframe\">\n",
       "  <thead>\n",
       "    <tr style=\"text-align: right;\">\n",
       "      <th></th>\n",
       "      <th>0</th>\n",
       "    </tr>\n",
       "  </thead>\n",
       "  <tbody>\n",
       "    <tr>\n",
       "      <th>1</th>\n",
       "      <td>3</td>\n",
       "    </tr>\n",
       "    <tr>\n",
       "      <th>2</th>\n",
       "      <td>6</td>\n",
       "    </tr>\n",
       "    <tr>\n",
       "      <th>3</th>\n",
       "      <td>1</td>\n",
       "    </tr>\n",
       "    <tr>\n",
       "      <th>4</th>\n",
       "      <td>8</td>\n",
       "    </tr>\n",
       "    <tr>\n",
       "      <th>5</th>\n",
       "      <td>9</td>\n",
       "    </tr>\n",
       "  </tbody>\n",
       "</table>\n",
       "</div>"
      ],
      "text/plain": [
       "   0\n",
       "1  3\n",
       "2  6\n",
       "3  1\n",
       "4  8\n",
       "5  9"
      ]
     },
     "execution_count": 2,
     "metadata": {},
     "output_type": "execute_result"
    }
   ],
   "source": [
    "x = np.array([1,2,3,4,5])\n",
    "y = np.array([3,6,1,8,9])\n",
    "\n",
    "df = pd.DataFrame(data=y,index = x)\n",
    "df"
   ]
  },
  {
   "cell_type": "code",
   "execution_count": 3,
   "id": "2eceb708",
   "metadata": {},
   "outputs": [
    {
     "data": {
      "text/plain": [
       "Text(0, 0.5, 'Yaxis')"
      ]
     },
     "execution_count": 3,
     "metadata": {},
     "output_type": "execute_result"
    },
    {
     "data": {
      "image/png": "[encoded data removed]",
      "text/plain": [
       "<Figure size 432x288 with 1 Axes>"
      ]
     },
     "metadata": {
      "needs_background": "light"
     },
     "output_type": "display_data"
    }
   ],
   "source": [
    "plt.plot(x,y)\n",
    "plt.title('Demo graph')\n",
    "plt.xlabel('Xaxis')\n",
    "plt.ylabel('Yaxis')\n",
    "# plt.show(x,y)"
   ]
  },
  {
   "cell_type": "code",
   "execution_count": 4,
   "id": "9080d91e",
   "metadata": {
    "scrolled": true
   },
   "outputs": [
    {
     "data": {
      "image/png": "[encoded data removed]",
      "text/plain": [
       "<Figure size 432x288 with 1 Axes>"
      ]
     },
     "metadata": {
      "needs_background": "light"
     },
     "output_type": "display_data"
    }
   ],
   "source": [
    "# plt.rcdefaults()\n",
    "fig,ax = plt.subplots()\n",
    "\n",
    "people = ['Ashish','BB','Carry','DriftKing','Zack Snyder']\n",
    "y_pos = np.arange(len(people))\n",
    "\n",
    "ax.barh(y_pos,y,align = 'center')\n",
    "ax.set_yticks(y_pos)\n",
    "ax.set_yticklabels(people)\n",
    "# ax.set_xticks(y)\n",
    "ax.invert_yaxis()\n",
    "\n",
    "# plt.ytick_label(people)\n"
   ]
  },
  {
   "cell_type": "code",
   "execution_count": 26,
   "id": "e0c1830f",
   "metadata": {},
   "outputs": [
    {
     "data": {
      "text/plain": [
       "array([3, 6, 1, 8, 9])"
      ]
     },
     "execution_count": 26,
     "metadata": {},
     "output_type": "execute_result"
    },
    {
     "data": {
      "image/png": "[encoded data removed]",
      "text/plain": [
       "<Figure size 432x288 with 1 Axes>"
      ]
     },
     "metadata": {
      "needs_background": "light"
     },
     "output_type": "display_data"
    }
   ],
   "source": [
    "# plt.rcdefaults()\n",
    "fig,ax = plt.subplots()\n",
    "chk_index= y[y.argsort()][::-1]\n",
    "\n",
    "people = ['Ashish','BB','Carry','DriftKing','Zack Snyder']\n",
    "\n",
    "pips=[0]*len(people)\n",
    "for i in range(len(people)):\n",
    "    pips[i] = people[y.argsort()[::-1][i]] \n",
    "\n",
    "y_pos = np.arange(len(people))\n",
    "\n",
    "ax.barh(y_pos,chk_index,align = 'center')\n",
    "ax.set_yticks(y_pos)\n",
    "ax.set_yticklabels(pips)\n",
    "# ax.set_xticks(y)\n",
    "ax.invert_yaxis()\n",
    "\n",
    "# plt.ytick_label(people)\n",
    "# print(y.argsort()[::-1],'\\n',fg)\n",
    "y"
   ]
  },
  {
   "cell_type": "code",
   "execution_count": null,
   "id": "891cdfd0",
   "metadata": {},
   "outputs": [],
   "source": []
  }
 ],
 "metadata": {
  "kernelspec": {
   "display_name": "Python 3",
   "language": "python",
   "name": "python3"
  },
  "language_info": {
   "codemirror_mode": {
    "name": "ipython",
    "version": 3
   },
   "file_extension": ".py",
   "mimetype": "text/x-python",
   "name": "python",
   "nbconvert_exporter": "python",
   "pygments_lexer": "ipython3",
   "version": "3.6.9"
  }
 },
 "nbformat": 4,
 "nbformat_minor": 5
}
